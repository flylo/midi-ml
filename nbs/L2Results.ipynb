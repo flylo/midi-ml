{
 "cells": [
  {
   "cell_type": "code",
   "execution_count": 2,
   "metadata": {
    "collapsed": true
   },
   "outputs": [],
   "source": [
    "%matplotlib inline"
   ]
  },
  {
   "cell_type": "code",
   "execution_count": 3,
   "metadata": {
    "collapsed": true
   },
   "outputs": [],
   "source": [
    "from matplotlib import pyplot as plt"
   ]
  },
  {
   "cell_type": "code",
   "execution_count": 4,
   "metadata": {
    "collapsed": true
   },
   "outputs": [],
   "source": [
    "import os\n",
    "import pickle\n",
    "import numpy as np\n",
    "from scipy import sparse\n",
    "from functools import partial\n",
    "from sklearn.externals import joblib\n",
    "from sklearn.cross_validation import KFold\n",
    "from sklearn.metrics import confusion_matrix\n",
    "from sklearn.cross_validation import train_test_split\n",
    "import seaborn as sns\n",
    "import pandas as pd\n",
    "from sklearn.linear_model import LogisticRegression"
   ]
  },
  {
   "cell_type": "code",
   "execution_count": 5,
   "metadata": {
    "collapsed": true
   },
   "outputs": [],
   "source": [
    "labels = joblib.load(\"/home/jovyan/persistent_data/data/dumps/labeled_corpus_labels.pkl\")\n",
    "features = joblib.load(\"/home/jovyan/persistent_data/data/dumps/labeled_corpus_matrix.pkl\")\n",
    "features = features.todense()\n",
    "mozart_labels = [k for k in range(len(labels)) if labels[k] == \"mozart\"]\n",
    "bach_labels = [k for k in range(len(labels)) if labels[k] == \"bach-js\"]\n",
    "schubert_labels = [k for k in range(len(labels)) if labels[k] == \"schubert\"]\n",
    "chopin_labels = [k for k in range(len(labels)) if labels[k] == \"chopin\"]\n",
    "tchaikovsky_labels = [k for k in range(len(labels)) if labels[k] == \"tchaikovsky\"]\n",
    "X = features[mozart_labels + bach_labels + schubert_labels + chopin_labels + tchaikovsky_labels].A\n",
    "y = np.array([0 for i in range(len(mozart_labels))] + [1 for i in range(len(bach_labels))] + \n",
    "            [2 for i in range(len(schubert_labels))] + [3 for i in range(len(chopin_labels))] +\n",
    "            [4 for i in range(len(tchaikovsky_labels))])\n",
    "y = y.reshape((y.shape[0],))\n",
    "del features"
   ]
  },
  {
   "cell_type": "code",
   "execution_count": 6,
   "metadata": {
    "collapsed": true
   },
   "outputs": [],
   "source": [
    "X = X[:,X.sum(axis=0).nonzero()[0]]"
   ]
  },
  {
   "cell_type": "code",
   "execution_count": 7,
   "metadata": {
    "collapsed": true
   },
   "outputs": [],
   "source": [
    "# mkdir dumps/logistic/l2"
   ]
  },
  {
   "cell_type": "code",
   "execution_count": 8,
   "metadata": {
    "collapsed": false
   },
   "outputs": [],
   "source": [
    "regularization_parameter = 1.0\n",
    "predicted = []\n",
    "actuals = []\n",
    "lr_models = []\n",
    "i = 0\n",
    "for train_idx, test_idx in KFold(n=X.shape[0], n_folds=10, shuffle=True):\n",
    "    X_train = X[train_idx]\n",
    "    y_train = y[train_idx]\n",
    "    X_test = X[test_idx]\n",
    "    y_test = y[test_idx]\n",
    "    lr = LogisticRegression(penalty='l2', C=regularization_parameter)\n",
    "    \n",
    "    try:\n",
    "        lr.fit(X_train, y_train)\n",
    "    except:\n",
    "        continue\n",
    "    preds = lr.predict(X_test)\n",
    "    predicted.append(preds)\n",
    "    actuals.append(y_test)\n",
    "    lr_models.append(lr)\n",
    "    pickle.dump(lr_models, open(\"./dumps/logistic/l2/model_fold_{fold}_reg_{reg}.pkl\"\n",
    "                                .format(fold=str(i), reg=str(regularization_parameter)), 'wb'))\n",
    "    pickle.dump(predicted, open(\"./dumps/logistic/l2/predicted_fold_{fold}_reg_{reg}.pkl\"\n",
    "                                .format(fold=str(i), reg=str(regularization_parameter)), 'wb'))\n",
    "    pickle.dump(actuals, open(\"./dumps/logistic/l2/actuals_fold_{fold}_reg_{reg}.pkl\"\n",
    "                                .format(fold=str(i), reg=str(regularization_parameter)), 'wb'))\n",
    "    i += 1"
   ]
  },
  {
   "cell_type": "code",
   "execution_count": 9,
   "metadata": {
    "collapsed": false
   },
   "outputs": [],
   "source": [
    "from sklearn import metrics"
   ]
  },
  {
   "cell_type": "code",
   "execution_count": 20,
   "metadata": {
    "collapsed": false,
    "scrolled": false
   },
   "outputs": [
    {
     "name": "stdout",
     "output_type": "stream",
     "text": [
      "confusion matrix\n",
      "[[ 62  17   1   0   1]\n",
      " [  5 221   0   0   1]\n",
      " [  7   3  10   0   3]\n",
      " [  1   1   1  16   1]\n",
      " [  2   3   5   2  15]]\n",
      "\taccuracy\n",
      "\t\t 0.857142857143\n",
      "\tf1\n",
      "\t\t 0.850155448187\n",
      "\trecall\n",
      "\t\t 0.857142857143\n",
      "\tprecision\n",
      "\t\t 0.848087164961\n",
      "confusion matrix\n",
      "[[ 47  11   1   0   1]\n",
      " [  6 227   0   2   2]\n",
      " [  3   5  22   5   4]\n",
      " [  0   2   0  22   1]\n",
      " [  0   1   2   2  12]]\n",
      "\taccuracy\n",
      "\t\t 0.873015873016\n",
      "\tf1\n",
      "\t\t 0.87003507979\n",
      "\trecall\n",
      "\t\t 0.873015873016\n",
      "\tprecision\n",
      "\t\t 0.876492593366\n",
      "confusion matrix\n",
      "[[ 60  12   1   0   1]\n",
      " [  3 226   1   0   2]\n",
      " [  4   4   7   2   7]\n",
      " [  0   3   1  19   0]\n",
      " [  4   2   5   1  13]]\n",
      "\taccuracy\n",
      "\t\t 0.859788359788\n",
      "\tf1\n",
      "\t\t 0.851173038507\n",
      "\trecall\n",
      "\t\t 0.859788359788\n",
      "\tprecision\n",
      "\t\t 0.846572978988\n",
      "confusion matrix\n",
      "[[ 69  14   2   0   1]\n",
      " [  3 209   1   0   0]\n",
      " [  1   2  15   0   6]\n",
      " [  3   5   1  14   0]\n",
      " [  2   6   3   3  18]]\n",
      "\taccuracy\n",
      "\t\t 0.859788359788\n",
      "\tf1\n",
      "\t\t 0.853498784456\n",
      "\trecall\n",
      "\t\t 0.859788359788\n",
      "\tprecision\n",
      "\t\t 0.854637809109\n",
      "confusion matrix\n",
      "[[ 54  19   1   0   1]\n",
      " [ 12 218   0   1   0]\n",
      " [  2   3  16   0   3]\n",
      " [  0   4   0  18   1]\n",
      " [  1   5   3   0  16]]\n",
      "\taccuracy\n",
      "\t\t 0.851851851852\n",
      "\tf1\n",
      "\t\t 0.84824109925\n",
      "\trecall\n",
      "\t\t 0.851851851852\n",
      "\tprecision\n",
      "\t\t 0.849136795664\n",
      "confusion matrix\n",
      "[[ 49  16   3   0   1]\n",
      " [  4 226   0   0   1]\n",
      " [  5   1  12   2   6]\n",
      " [  1   2   1  14   0]\n",
      " [  3   5   4   1  21]]\n",
      "\taccuracy\n",
      "\t\t 0.851851851852\n",
      "\tf1\n",
      "\t\t 0.844769761221\n",
      "\trecall\n",
      "\t\t 0.851851851852\n",
      "\tprecision\n",
      "\t\t 0.842329304581\n",
      "confusion matrix\n",
      "[[ 55  19   1   0   0]\n",
      " [  5 219   1   1   2]\n",
      " [  4   0  26   0   2]\n",
      " [  2   2   0  12   2]\n",
      " [  3   4   4   0  13]]\n",
      "\taccuracy\n",
      "\t\t 0.862068965517\n",
      "\tf1\n",
      "\t\t 0.857599601143\n",
      "\trecall\n",
      "\t\t 0.862068965517\n",
      "\tprecision\n",
      "\t\t 0.857979814867\n",
      "confusion matrix\n",
      "[[ 49  14   0   0   1]\n",
      " [  8 219   1   0   1]\n",
      " [  1   3  17   3   2]\n",
      " [  1   2   3  21   0]\n",
      " [  3   4   5   3  16]]\n",
      "\taccuracy\n",
      "\t\t 0.854111405836\n",
      "\tf1\n",
      "\t\t 0.849294886426\n",
      "\trecall\n",
      "\t\t 0.854111405836\n",
      "\tprecision\n",
      "\t\t 0.850440801993\n",
      "confusion matrix\n",
      "[[ 52  21   0   0   1]\n",
      " [  8 229   0   0   1]\n",
      " [  4   1  13   1   3]\n",
      " [  2   5   1  17   0]\n",
      " [  1   1   3   0  13]]\n",
      "\taccuracy\n",
      "\t\t 0.859416445623\n",
      "\tf1\n",
      "\t\t 0.854710264777\n",
      "\trecall\n",
      "\t\t 0.859416445623\n",
      "\tprecision\n",
      "\t\t 0.856598183698\n",
      "confusion matrix\n",
      "[[ 45   7   1   0   0]\n",
      " [  4 241   2   0   3]\n",
      " [  6   0  19   1   5]\n",
      " [  1   6   2  13   1]\n",
      " [  4   4   1   1  10]]\n",
      "\taccuracy\n",
      "\t\t 0.870026525199\n",
      "\tf1\n",
      "\t\t 0.865904722646\n",
      "\trecall\n",
      "\t\t 0.870026525199\n",
      "\tprecision\n",
      "\t\t 0.868161222562\n"
     ]
    },
    {
     "name": "stderr",
     "output_type": "stream",
     "text": [
      "/opt/conda/lib/python3.5/site-packages/sklearn/metrics/classification.py:756: DeprecationWarning: The default `weighted` averaging is deprecated, and from version 0.18, use of precision, recall or F-score with multiclass or multilabel data or pos_label=None will result in an exception. Please set an explicit value for `average`, one of (None, 'micro', 'macro', 'weighted', 'samples'). In cross validation use, for instance, scoring=\"f1_weighted\" instead of scoring=\"f1\".\n",
      "  sample_weight=sample_weight)\n",
      "/opt/conda/lib/python3.5/site-packages/sklearn/metrics/classification.py:1304: DeprecationWarning: The default `weighted` averaging is deprecated, and from version 0.18, use of precision, recall or F-score with multiclass or multilabel data or pos_label=None will result in an exception. Please set an explicit value for `average`, one of (None, 'micro', 'macro', 'weighted', 'samples'). In cross validation use, for instance, scoring=\"f1_weighted\" instead of scoring=\"f1\".\n",
      "  sample_weight=sample_weight)\n",
      "/opt/conda/lib/python3.5/site-packages/sklearn/metrics/classification.py:1203: DeprecationWarning: The default `weighted` averaging is deprecated, and from version 0.18, use of precision, recall or F-score with multiclass or multilabel data or pos_label=None will result in an exception. Please set an explicit value for `average`, one of (None, 'micro', 'macro', 'weighted', 'samples'). In cross validation use, for instance, scoring=\"f1_weighted\" instead of scoring=\"f1\".\n",
      "  sample_weight=sample_weight)\n",
      "/opt/conda/lib/python3.5/site-packages/sklearn/metrics/classification.py:756: DeprecationWarning: The default `weighted` averaging is deprecated, and from version 0.18, use of precision, recall or F-score with multiclass or multilabel data or pos_label=None will result in an exception. Please set an explicit value for `average`, one of (None, 'micro', 'macro', 'weighted', 'samples'). In cross validation use, for instance, scoring=\"f1_weighted\" instead of scoring=\"f1\".\n",
      "  sample_weight=sample_weight)\n",
      "/opt/conda/lib/python3.5/site-packages/sklearn/metrics/classification.py:1304: DeprecationWarning: The default `weighted` averaging is deprecated, and from version 0.18, use of precision, recall or F-score with multiclass or multilabel data or pos_label=None will result in an exception. Please set an explicit value for `average`, one of (None, 'micro', 'macro', 'weighted', 'samples'). In cross validation use, for instance, scoring=\"f1_weighted\" instead of scoring=\"f1\".\n",
      "  sample_weight=sample_weight)\n",
      "/opt/conda/lib/python3.5/site-packages/sklearn/metrics/classification.py:1203: DeprecationWarning: The default `weighted` averaging is deprecated, and from version 0.18, use of precision, recall or F-score with multiclass or multilabel data or pos_label=None will result in an exception. Please set an explicit value for `average`, one of (None, 'micro', 'macro', 'weighted', 'samples'). In cross validation use, for instance, scoring=\"f1_weighted\" instead of scoring=\"f1\".\n",
      "  sample_weight=sample_weight)\n",
      "/opt/conda/lib/python3.5/site-packages/sklearn/metrics/classification.py:756: DeprecationWarning: The default `weighted` averaging is deprecated, and from version 0.18, use of precision, recall or F-score with multiclass or multilabel data or pos_label=None will result in an exception. Please set an explicit value for `average`, one of (None, 'micro', 'macro', 'weighted', 'samples'). In cross validation use, for instance, scoring=\"f1_weighted\" instead of scoring=\"f1\".\n",
      "  sample_weight=sample_weight)\n",
      "/opt/conda/lib/python3.5/site-packages/sklearn/metrics/classification.py:1304: DeprecationWarning: The default `weighted` averaging is deprecated, and from version 0.18, use of precision, recall or F-score with multiclass or multilabel data or pos_label=None will result in an exception. Please set an explicit value for `average`, one of (None, 'micro', 'macro', 'weighted', 'samples'). In cross validation use, for instance, scoring=\"f1_weighted\" instead of scoring=\"f1\".\n",
      "  sample_weight=sample_weight)\n",
      "/opt/conda/lib/python3.5/site-packages/sklearn/metrics/classification.py:1203: DeprecationWarning: The default `weighted` averaging is deprecated, and from version 0.18, use of precision, recall or F-score with multiclass or multilabel data or pos_label=None will result in an exception. Please set an explicit value for `average`, one of (None, 'micro', 'macro', 'weighted', 'samples'). In cross validation use, for instance, scoring=\"f1_weighted\" instead of scoring=\"f1\".\n",
      "  sample_weight=sample_weight)\n",
      "/opt/conda/lib/python3.5/site-packages/sklearn/metrics/classification.py:756: DeprecationWarning: The default `weighted` averaging is deprecated, and from version 0.18, use of precision, recall or F-score with multiclass or multilabel data or pos_label=None will result in an exception. Please set an explicit value for `average`, one of (None, 'micro', 'macro', 'weighted', 'samples'). In cross validation use, for instance, scoring=\"f1_weighted\" instead of scoring=\"f1\".\n",
      "  sample_weight=sample_weight)\n",
      "/opt/conda/lib/python3.5/site-packages/sklearn/metrics/classification.py:1304: DeprecationWarning: The default `weighted` averaging is deprecated, and from version 0.18, use of precision, recall or F-score with multiclass or multilabel data or pos_label=None will result in an exception. Please set an explicit value for `average`, one of (None, 'micro', 'macro', 'weighted', 'samples'). In cross validation use, for instance, scoring=\"f1_weighted\" instead of scoring=\"f1\".\n",
      "  sample_weight=sample_weight)\n",
      "/opt/conda/lib/python3.5/site-packages/sklearn/metrics/classification.py:1203: DeprecationWarning: The default `weighted` averaging is deprecated, and from version 0.18, use of precision, recall or F-score with multiclass or multilabel data or pos_label=None will result in an exception. Please set an explicit value for `average`, one of (None, 'micro', 'macro', 'weighted', 'samples'). In cross validation use, for instance, scoring=\"f1_weighted\" instead of scoring=\"f1\".\n",
      "  sample_weight=sample_weight)\n",
      "/opt/conda/lib/python3.5/site-packages/sklearn/metrics/classification.py:756: DeprecationWarning: The default `weighted` averaging is deprecated, and from version 0.18, use of precision, recall or F-score with multiclass or multilabel data or pos_label=None will result in an exception. Please set an explicit value for `average`, one of (None, 'micro', 'macro', 'weighted', 'samples'). In cross validation use, for instance, scoring=\"f1_weighted\" instead of scoring=\"f1\".\n",
      "  sample_weight=sample_weight)\n",
      "/opt/conda/lib/python3.5/site-packages/sklearn/metrics/classification.py:1304: DeprecationWarning: The default `weighted` averaging is deprecated, and from version 0.18, use of precision, recall or F-score with multiclass or multilabel data or pos_label=None will result in an exception. Please set an explicit value for `average`, one of (None, 'micro', 'macro', 'weighted', 'samples'). In cross validation use, for instance, scoring=\"f1_weighted\" instead of scoring=\"f1\".\n",
      "  sample_weight=sample_weight)\n",
      "/opt/conda/lib/python3.5/site-packages/sklearn/metrics/classification.py:1203: DeprecationWarning: The default `weighted` averaging is deprecated, and from version 0.18, use of precision, recall or F-score with multiclass or multilabel data or pos_label=None will result in an exception. Please set an explicit value for `average`, one of (None, 'micro', 'macro', 'weighted', 'samples'). In cross validation use, for instance, scoring=\"f1_weighted\" instead of scoring=\"f1\".\n",
      "  sample_weight=sample_weight)\n",
      "/opt/conda/lib/python3.5/site-packages/sklearn/metrics/classification.py:756: DeprecationWarning: The default `weighted` averaging is deprecated, and from version 0.18, use of precision, recall or F-score with multiclass or multilabel data or pos_label=None will result in an exception. Please set an explicit value for `average`, one of (None, 'micro', 'macro', 'weighted', 'samples'). In cross validation use, for instance, scoring=\"f1_weighted\" instead of scoring=\"f1\".\n",
      "  sample_weight=sample_weight)\n",
      "/opt/conda/lib/python3.5/site-packages/sklearn/metrics/classification.py:1304: DeprecationWarning: The default `weighted` averaging is deprecated, and from version 0.18, use of precision, recall or F-score with multiclass or multilabel data or pos_label=None will result in an exception. Please set an explicit value for `average`, one of (None, 'micro', 'macro', 'weighted', 'samples'). In cross validation use, for instance, scoring=\"f1_weighted\" instead of scoring=\"f1\".\n",
      "  sample_weight=sample_weight)\n",
      "/opt/conda/lib/python3.5/site-packages/sklearn/metrics/classification.py:1203: DeprecationWarning: The default `weighted` averaging is deprecated, and from version 0.18, use of precision, recall or F-score with multiclass or multilabel data or pos_label=None will result in an exception. Please set an explicit value for `average`, one of (None, 'micro', 'macro', 'weighted', 'samples'). In cross validation use, for instance, scoring=\"f1_weighted\" instead of scoring=\"f1\".\n",
      "  sample_weight=sample_weight)\n",
      "/opt/conda/lib/python3.5/site-packages/sklearn/metrics/classification.py:756: DeprecationWarning: The default `weighted` averaging is deprecated, and from version 0.18, use of precision, recall or F-score with multiclass or multilabel data or pos_label=None will result in an exception. Please set an explicit value for `average`, one of (None, 'micro', 'macro', 'weighted', 'samples'). In cross validation use, for instance, scoring=\"f1_weighted\" instead of scoring=\"f1\".\n",
      "  sample_weight=sample_weight)\n",
      "/opt/conda/lib/python3.5/site-packages/sklearn/metrics/classification.py:1304: DeprecationWarning: The default `weighted` averaging is deprecated, and from version 0.18, use of precision, recall or F-score with multiclass or multilabel data or pos_label=None will result in an exception. Please set an explicit value for `average`, one of (None, 'micro', 'macro', 'weighted', 'samples'). In cross validation use, for instance, scoring=\"f1_weighted\" instead of scoring=\"f1\".\n",
      "  sample_weight=sample_weight)\n",
      "/opt/conda/lib/python3.5/site-packages/sklearn/metrics/classification.py:1203: DeprecationWarning: The default `weighted` averaging is deprecated, and from version 0.18, use of precision, recall or F-score with multiclass or multilabel data or pos_label=None will result in an exception. Please set an explicit value for `average`, one of (None, 'micro', 'macro', 'weighted', 'samples'). In cross validation use, for instance, scoring=\"f1_weighted\" instead of scoring=\"f1\".\n",
      "  sample_weight=sample_weight)\n",
      "/opt/conda/lib/python3.5/site-packages/sklearn/metrics/classification.py:756: DeprecationWarning: The default `weighted` averaging is deprecated, and from version 0.18, use of precision, recall or F-score with multiclass or multilabel data or pos_label=None will result in an exception. Please set an explicit value for `average`, one of (None, 'micro', 'macro', 'weighted', 'samples'). In cross validation use, for instance, scoring=\"f1_weighted\" instead of scoring=\"f1\".\n",
      "  sample_weight=sample_weight)\n",
      "/opt/conda/lib/python3.5/site-packages/sklearn/metrics/classification.py:1304: DeprecationWarning: The default `weighted` averaging is deprecated, and from version 0.18, use of precision, recall or F-score with multiclass or multilabel data or pos_label=None will result in an exception. Please set an explicit value for `average`, one of (None, 'micro', 'macro', 'weighted', 'samples'). In cross validation use, for instance, scoring=\"f1_weighted\" instead of scoring=\"f1\".\n",
      "  sample_weight=sample_weight)\n",
      "/opt/conda/lib/python3.5/site-packages/sklearn/metrics/classification.py:1203: DeprecationWarning: The default `weighted` averaging is deprecated, and from version 0.18, use of precision, recall or F-score with multiclass or multilabel data or pos_label=None will result in an exception. Please set an explicit value for `average`, one of (None, 'micro', 'macro', 'weighted', 'samples'). In cross validation use, for instance, scoring=\"f1_weighted\" instead of scoring=\"f1\".\n",
      "  sample_weight=sample_weight)\n",
      "/opt/conda/lib/python3.5/site-packages/sklearn/metrics/classification.py:756: DeprecationWarning: The default `weighted` averaging is deprecated, and from version 0.18, use of precision, recall or F-score with multiclass or multilabel data or pos_label=None will result in an exception. Please set an explicit value for `average`, one of (None, 'micro', 'macro', 'weighted', 'samples'). In cross validation use, for instance, scoring=\"f1_weighted\" instead of scoring=\"f1\".\n",
      "  sample_weight=sample_weight)\n",
      "/opt/conda/lib/python3.5/site-packages/sklearn/metrics/classification.py:1304: DeprecationWarning: The default `weighted` averaging is deprecated, and from version 0.18, use of precision, recall or F-score with multiclass or multilabel data or pos_label=None will result in an exception. Please set an explicit value for `average`, one of (None, 'micro', 'macro', 'weighted', 'samples'). In cross validation use, for instance, scoring=\"f1_weighted\" instead of scoring=\"f1\".\n",
      "  sample_weight=sample_weight)\n",
      "/opt/conda/lib/python3.5/site-packages/sklearn/metrics/classification.py:1203: DeprecationWarning: The default `weighted` averaging is deprecated, and from version 0.18, use of precision, recall or F-score with multiclass or multilabel data or pos_label=None will result in an exception. Please set an explicit value for `average`, one of (None, 'micro', 'macro', 'weighted', 'samples'). In cross validation use, for instance, scoring=\"f1_weighted\" instead of scoring=\"f1\".\n",
      "  sample_weight=sample_weight)\n",
      "/opt/conda/lib/python3.5/site-packages/sklearn/metrics/classification.py:756: DeprecationWarning: The default `weighted` averaging is deprecated, and from version 0.18, use of precision, recall or F-score with multiclass or multilabel data or pos_label=None will result in an exception. Please set an explicit value for `average`, one of (None, 'micro', 'macro', 'weighted', 'samples'). In cross validation use, for instance, scoring=\"f1_weighted\" instead of scoring=\"f1\".\n",
      "  sample_weight=sample_weight)\n",
      "/opt/conda/lib/python3.5/site-packages/sklearn/metrics/classification.py:1304: DeprecationWarning: The default `weighted` averaging is deprecated, and from version 0.18, use of precision, recall or F-score with multiclass or multilabel data or pos_label=None will result in an exception. Please set an explicit value for `average`, one of (None, 'micro', 'macro', 'weighted', 'samples'). In cross validation use, for instance, scoring=\"f1_weighted\" instead of scoring=\"f1\".\n",
      "  sample_weight=sample_weight)\n",
      "/opt/conda/lib/python3.5/site-packages/sklearn/metrics/classification.py:1203: DeprecationWarning: The default `weighted` averaging is deprecated, and from version 0.18, use of precision, recall or F-score with multiclass or multilabel data or pos_label=None will result in an exception. Please set an explicit value for `average`, one of (None, 'micro', 'macro', 'weighted', 'samples'). In cross validation use, for instance, scoring=\"f1_weighted\" instead of scoring=\"f1\".\n",
      "  sample_weight=sample_weight)\n"
     ]
    }
   ],
   "source": [
    "model_folder = \"/home/jovyan/persistent_data/midi-ml/notebooks/ProjectTwoResults/dumps/logistic/l2/\"\n",
    "accuracy = []\n",
    "precision = []\n",
    "recall = []\n",
    "f1 = []\n",
    "mcc = []\n",
    "predicted = pickle.load(open(model_folder + \"predicted_fold_9_reg_{reg}.pkl\".format(reg=regularization_parameter), 'rb'))\n",
    "actuals = pickle.load(open(model_folder + \"actuals_fold_9_reg_{reg}.pkl\".format(reg=regularization_parameter), 'rb'))\n",
    "for preds, actual in zip(predicted, actuals):\n",
    "    pred = preds\n",
    "    print(\"confusion matrix\")\n",
    "    print(metrics.confusion_matrix(actual, pred))\n",
    "    print(\"\\taccuracy\")\n",
    "    acc = metrics.accuracy_score(actual, pred)\n",
    "    accuracy.append(acc)\n",
    "    print(\"\\t\\t\", acc)\n",
    "    print(\"\\tf1\")\n",
    "    f = metrics.f1_score(actual, pred)\n",
    "    f1.append(f)\n",
    "    print(\"\\t\\t\", f)\n",
    "    print(\"\\trecall\")\n",
    "    r = metrics.recall_score(actual, pred)\n",
    "    recall.append(r)\n",
    "    print(\"\\t\\t\", r)\n",
    "    print(\"\\tprecision\")\n",
    "    p = metrics.precision_score(actual, pred)\n",
    "    precision.append(p)\n",
    "    print(\"\\t\\t\", p)"
   ]
  },
  {
   "cell_type": "code",
   "execution_count": null,
   "metadata": {
    "collapsed": true
   },
   "outputs": [],
   "source": []
  },
  {
   "cell_type": "code",
   "execution_count": 24,
   "metadata": {
    "collapsed": false
   },
   "outputs": [
    {
     "data": {
      "text/plain": [
       "0.85990624956142203"
      ]
     },
     "execution_count": 24,
     "metadata": {},
     "output_type": "execute_result"
    }
   ],
   "source": [
    "np.mean(accuracy)"
   ]
  },
  {
   "cell_type": "code",
   "execution_count": null,
   "metadata": {
    "collapsed": true
   },
   "outputs": [],
   "source": []
  },
  {
   "cell_type": "code",
   "execution_count": 18,
   "metadata": {
    "collapsed": true
   },
   "outputs": [],
   "source": [
    "import seaborn as sns\n",
    "from scipy.stats.distributions import beta\n",
    "def posterior_overlap_eval(actual, pred, labels, granularity=10000):\n",
    "    colors = ('b', 'g', 'r', 'c', 'm', 'y', 'k')\n",
    "    tp_fn = []\n",
    "    confusion = metrics.confusion_matrix(actual, pred)\n",
    "    for i in range(confusion.shape[0]):\n",
    "        tp = confusion[i,i]\n",
    "        fn = np.delete(confusion[i,:], i).sum()\n",
    "        tp_fn.append((tp, fn))\n",
    "    betas = [beta(a=1 + tp, b = 1 + fn) for tp, fn in tp_fn]\n",
    "    for i, beta_dist in enumerate(betas):\n",
    "        random_draws = beta_dist.rvs(granularity)\n",
    "        plt.hist(random_draws, alpha=0.2, color=colors[i], bins=np.linspace(0,1, 100))\n",
    "        plt.vlines(random_draws.mean(), 0, 3000, label=labels[i], color=colors[i], linestyles=\"dotted\")\n",
    "    plt.legend(loc=\"upper left\")\n",
    "    plt.show()\n",
    "labs = [\"mozart\", \"bach\", \"schubert\", \"chopin\", \"tchaikovsky\"]"
   ]
  },
  {
   "cell_type": "code",
   "execution_count": 19,
   "metadata": {
    "collapsed": false
   },
   "outputs": [
    {
     "data": {
      "image/png": "[encoded data removed]",
      "text/plain": [
       "<matplotlib.figure.Figure at 0x7fa21e96cf98>"
      ]
     },
     "metadata": {},
     "output_type": "display_data"
    }
   ],
   "source": [
    "mymodel = \"L2-Regularized Logistic Regression\"\n",
    "sns.set_style(\"whitegrid\")\n",
    "plt.title(\"Posterior Probability of Within-Class Error\\n{model}\".format(model=mymodel))\n",
    "plt.xlabel('P(actual=predicted)\\n' + r'Beta($\\alpha, \\beta$)')\n",
    "plt.ylabel(\"Density\")\n",
    "plt.yticks([])\n",
    "ax = plt.gca()\n",
    "ax.grid(False)\n",
    "posterior_overlap_eval(actual, pred, labels=labs)"
   ]
  },
  {
   "cell_type": "code",
   "execution_count": null,
   "metadata": {
    "collapsed": true
   },
   "outputs": [],
   "source": []
  }
 ],
 "metadata": {
  "kernelspec": {
   "display_name": "Python 3",
   "language": "python",
   "name": "python3"
  },
  "language_info": {
   "codemirror_mode": {
    "name": "ipython",
    "version": 3
   },
   "file_extension": ".py",
   "mimetype": "text/x-python",
   "name": "python",
   "nbconvert_exporter": "python",
   "pygments_lexer": "ipython3",
   "version": "3.5.2"
  }
 },
 "nbformat": 4,
 "nbformat_minor": 1
}
