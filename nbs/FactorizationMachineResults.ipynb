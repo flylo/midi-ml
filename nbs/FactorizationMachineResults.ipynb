{
 "cells": [
  {
   "cell_type": "code",
   "execution_count": 1,
   "metadata": {
    "collapsed": true
   },
   "outputs": [],
   "source": [
    "%matplotlib inline"
   ]
  },
  {
   "cell_type": "code",
   "execution_count": 2,
   "metadata": {
    "collapsed": true
   },
   "outputs": [],
   "source": [
    "from matplotlib import pyplot as plt"
   ]
  },
  {
   "cell_type": "code",
   "execution_count": 3,
   "metadata": {
    "collapsed": true
   },
   "outputs": [],
   "source": [
    "import os\n",
    "import pickle\n",
    "import numpy as np\n",
    "from scipy import sparse\n",
    "from functools import partial\n",
    "from sklearn.externals import joblib\n",
    "from sklearn.cross_validation import KFold\n",
    "from sklearn.metrics import confusion_matrix\n",
    "from sklearn.cross_validation import train_test_split\n",
    "import seaborn as sns\n",
    "import pandas as pd\n",
    "from sklearn.linear_model import LogisticRegression"
   ]
  },
  {
   "cell_type": "code",
   "execution_count": 4,
   "metadata": {
    "collapsed": true
   },
   "outputs": [],
   "source": [
    "labels = joblib.load(\"/home/jovyan/persistent_data/data/dumps/labeled_corpus_labels.pkl\")\n",
    "features = joblib.load(\"/home/jovyan/persistent_data/data/dumps/labeled_corpus_matrix.pkl\")\n",
    "features = features.todense()\n",
    "mozart_labels = [k for k in range(len(labels)) if labels[k] == \"mozart\"]\n",
    "bach_labels = [k for k in range(len(labels)) if labels[k] == \"bach-js\"]\n",
    "schubert_labels = [k for k in range(len(labels)) if labels[k] == \"schubert\"]\n",
    "chopin_labels = [k for k in range(len(labels)) if labels[k] == \"chopin\"]\n",
    "tchaikovsky_labels = [k for k in range(len(labels)) if labels[k] == \"tchaikovsky\"]\n",
    "X = features[mozart_labels + bach_labels + schubert_labels + chopin_labels + tchaikovsky_labels].A\n",
    "y = np.array([0 for i in range(len(mozart_labels))] + [1 for i in range(len(bach_labels))] + \n",
    "            [2 for i in range(len(schubert_labels))] + [3 for i in range(len(chopin_labels))] +\n",
    "            [4 for i in range(len(tchaikovsky_labels))])\n",
    "y = y.reshape((y.shape[0],))\n",
    "del features"
   ]
  },
  {
   "cell_type": "code",
   "execution_count": 5,
   "metadata": {
    "collapsed": true
   },
   "outputs": [],
   "source": [
    "X = X[:,X.sum(axis=0).nonzero()[0]]"
   ]
  },
  {
   "cell_type": "code",
   "execution_count": 6,
   "metadata": {
    "collapsed": true
   },
   "outputs": [],
   "source": [
    "import pywFM"
   ]
  },
  {
   "cell_type": "code",
   "execution_count": 7,
   "metadata": {
    "collapsed": false
   },
   "outputs": [],
   "source": [
    "# %%bash\n",
    "# git clone https://github.com/srendle/libfm ./libfm\n",
    "# cd ./libfm/ && make all\n",
    "# export LIBFM_PATH=/home/jovyan/persistent_data/midi-ml/notebooks/ProjectTwoResults/libfm/bin/"
   ]
  },
  {
   "cell_type": "code",
   "execution_count": 8,
   "metadata": {
    "collapsed": false
   },
   "outputs": [],
   "source": [
    "# %%bash\n",
    "# export LIBFM_PATH=/home/jovyan/persistent_data/midi-ml/notebooks/ProjectTwoResults/libfm/bin/"
   ]
  },
  {
   "cell_type": "code",
   "execution_count": 9,
   "metadata": {
    "collapsed": false
   },
   "outputs": [],
   "source": [
    "# %%bash\n",
    "# pip install pywFM"
   ]
  },
  {
   "cell_type": "code",
   "execution_count": 10,
   "metadata": {
    "collapsed": true
   },
   "outputs": [],
   "source": [
    "import os\n",
    "os.environ[\"LIBFM_PATH\"] = \"/home/jovyan/persistent_data/midi-ml/notebooks/ProjectTwoResults/libfm/bin/\""
   ]
  },
  {
   "cell_type": "code",
   "execution_count": 11,
   "metadata": {
    "collapsed": false
   },
   "outputs": [],
   "source": [
    "# X = sparse.dok_matrix(X.astype(np.float64)).A"
   ]
  },
  {
   "cell_type": "code",
   "execution_count": null,
   "metadata": {
    "collapsed": false
   },
   "outputs": [
    {
     "name": "stdout",
     "output_type": "stream",
     "text": [
      "0\n"
     ]
    }
   ],
   "source": [
    "predicted = []\n",
    "actuals = []\n",
    "fm_models = []\n",
    "i = 0\n",
    "for train_idx, test_idx in KFold(n=X.shape[0], n_folds=10, shuffle=True):\n",
    "    X_train = X[train_idx]\n",
    "    y_train = y[train_idx]\n",
    "    X_test = X[test_idx]\n",
    "    y_test = y[test_idx]\n",
    "    fm = pywFM.FM(task=\"classification\", learning_method=\"mcmc\",\n",
    "                 k0=True, k1=True,\n",
    "                  verbose=True,\n",
    "                 num_iter=10000)\n",
    "    try:\n",
    "        classes = np.unique(y)\n",
    "        models = []\n",
    "        for cls in classes:\n",
    "            y_train_cls = np.array([1 if y_i == cls else 0 for y_i in y_train])\n",
    "            y_test_cls = np.array([1 if y_i == cls else 0 for y_i in y_test])\n",
    "            print(cls)\n",
    "            model = fm.run(X_train, y_train_cls, X_test, y_test_cls)\n",
    "            models.append(model)\n",
    "    except:\n",
    "        continue\n",
    "    \n",
    "    preds = [m.predictions for m in models]\n",
    "    predicted.append(preds)\n",
    "    actuals.append(y_test)\n",
    "#     fm_models.append(models.)\n",
    "#     pickle.dump(models, open(\"./dumps/factorization_machine/model_fold_{fold}.pkl\"\n",
    "#                                 .format(fold=str(i)), 'wb'))\n",
    "    pickle.dump(predicted, open(\"./dumps/factorization_machine/predicted_fold_{fold}.pkl\"\n",
    "                                .format(fold=str(i)), 'wb'))\n",
    "    pickle.dump(actuals, open(\"./dumps/factorization_machine/actuals_fold_{fold}.pkl\"\n",
    "                                .format(fold=str(i)), 'wb'))\n",
    "    i += 1"
   ]
  },
  {
   "cell_type": "code",
   "execution_count": null,
   "metadata": {
    "collapsed": false
   },
   "outputs": [],
   "source": [
    "print(1)"
   ]
  },
  {
   "cell_type": "code",
   "execution_count": null,
   "metadata": {
    "collapsed": true
   },
   "outputs": [],
   "source": []
  },
  {
   "cell_type": "code",
   "execution_count": 164,
   "metadata": {
    "collapsed": false
   },
   "outputs": [],
   "source": [
    "# preds = (np.array(model.predictions) > (1-y.sum() / y.shape[0])).astype(int)\n",
    "preds = (np.array(model.predictions) > 0.9).astype(int)"
   ]
  },
  {
   "cell_type": "code",
   "execution_count": 14,
   "metadata": {
    "collapsed": false
   },
   "outputs": [
    {
     "name": "stdout",
     "output_type": "stream",
     "text": [
      "1\n"
     ]
    }
   ],
   "source": [
    "print(1)"
   ]
  },
  {
   "cell_type": "code",
   "execution_count": 166,
   "metadata": {
    "collapsed": false
   },
   "outputs": [],
   "source": [
    "from sklearn import metrics"
   ]
  },
  {
   "cell_type": "code",
   "execution_count": 167,
   "metadata": {
    "collapsed": false
   },
   "outputs": [
    {
     "name": "stdout",
     "output_type": "stream",
     "text": [
      "0.785714285714\n",
      "[[519 105]\n",
      " [ 57  75]]\n"
     ]
    }
   ],
   "source": [
    "print(metrics.accuracy_score(y_test, preds))\n",
    "print(metrics.confusion_matrix(y_test, preds))"
   ]
  },
  {
   "cell_type": "code",
   "execution_count": null,
   "metadata": {
    "collapsed": true
   },
   "outputs": [],
   "source": []
  },
  {
   "cell_type": "code",
   "execution_count": 16,
   "metadata": {
    "collapsed": false
   },
   "outputs": [
    {
     "data": {
      "text/plain": [
       "['predicted_fold_9.pkl',\n",
       " 'predicted_fold_0.pkl',\n",
       " 'actuals_fold_5.pkl',\n",
       " 'predicted_fold_5.pkl',\n",
       " 'actuals_fold_2.pkl',\n",
       " 'predicted_fold_1.pkl',\n",
       " 'predicted_fold_7.pkl',\n",
       " 'actuals_fold_4.pkl',\n",
       " 'actuals_fold_6.pkl',\n",
       " 'predicted_fold_3.pkl',\n",
       " 'predicted_fold_4.pkl',\n",
       " 'predicted_fold_2.pkl',\n",
       " 'actuals_fold_0.pkl',\n",
       " 'model_fold_0.pkl',\n",
       " 'actuals_fold_8.pkl',\n",
       " 'actuals_fold_9.pkl',\n",
       " 'predicted_fold_6.pkl',\n",
       " 'actuals_fold_7.pkl',\n",
       " 'actuals_fold_3.pkl',\n",
       " 'predicted_fold_8.pkl',\n",
       " 'actuals_fold_1.pkl']"
      ]
     },
     "execution_count": 16,
     "metadata": {},
     "output_type": "execute_result"
    }
   ],
   "source": [
    "os.listdir(model_folder)"
   ]
  },
  {
   "cell_type": "code",
   "execution_count": 28,
   "metadata": {
    "collapsed": true
   },
   "outputs": [],
   "source": [
    "from sklearn import metrics\n"
   ]
  },
  {
   "cell_type": "markdown",
   "metadata": {
    "collapsed": false
   },
   "source": [
    "# Results"
   ]
  },
  {
   "cell_type": "code",
   "execution_count": 44,
   "metadata": {
    "collapsed": true
   },
   "outputs": [],
   "source": [
    "import seaborn as sns\n",
    "from scipy.stats.distributions import beta\n",
    "def posterior_overlap_eval(actual, pred, labels, granularity=10000):\n",
    "    colors = ('b', 'g', 'r', 'c', 'm', 'y', 'k')\n",
    "    tp_fn = []\n",
    "    confusion = metrics.confusion_matrix(actual, pred)\n",
    "    for i in range(confusion.shape[0]):\n",
    "        tp = confusion[i,i]\n",
    "        fn = np.delete(confusion[i,:], i).sum()\n",
    "        tp_fn.append((tp, fn))\n",
    "    betas = [beta(a=1 + tp, b = 1 + fn) for tp, fn in tp_fn]\n",
    "    for i, beta_dist in enumerate(betas):\n",
    "        random_draws = beta_dist.rvs(granularity)\n",
    "        plt.hist(random_draws, alpha=0.2, color=colors[i], bins=np.linspace(0,1, 100))\n",
    "        plt.vlines(random_draws.mean(), 0, 2000, label=labels[i], color=colors[i], linestyles=\"dotted\")\n",
    "    plt.legend(loc=\"upper left\")\n",
    "    plt.show()\n",
    "labs = [\"mozart\", \"bach\", \"schubert\", \"chopin\", \"tchaikovsky\"]"
   ]
  },
  {
   "cell_type": "code",
   "execution_count": 45,
   "metadata": {
    "collapsed": true
   },
   "outputs": [],
   "source": []
  },
  {
   "cell_type": "code",
   "execution_count": 58,
   "metadata": {
    "collapsed": false,
    "scrolled": true
   },
   "outputs": [
    {
     "name": "stdout",
     "output_type": "stream",
     "text": [
      "confusion matrix\n",
      "[[ 26  36   5   4   3]\n",
      " [ 10 200   9   5   4]\n",
      " [  6   6  10   2   2]\n",
      " [  5   4   1  12   2]\n",
      " [  4  10   7   2   3]]\n",
      "\taccuracy\n",
      "\t\t 0.664021164021\n",
      "\tf1\n",
      "\t\t 0.645064474466\n",
      "\trecall\n",
      "\t\t 0.664021164021\n",
      "\tprecision\n",
      "\t\t 0.637743171343\n",
      "confusion matrix\n",
      "[[ 31  21   8   1   4]\n",
      " [ 21 189   6   3   8]\n",
      " [ 10  10  10   2   5]\n",
      " [  6   6   3   4   4]\n",
      " [  5  10   5   2   4]]\n",
      "\taccuracy\n",
      "\t\t 0.62962962963\n",
      "\tf1\n",
      "\t\t 0.62060646659\n",
      "\trecall\n",
      "\t\t 0.62962962963\n",
      "\tprecision\n",
      "\t\t 0.615831426651\n",
      "confusion matrix\n",
      "[[ 26  29   4   3   4]\n",
      " [ 16 204   3   5   3]\n",
      " [  6   9   5   2   5]\n",
      " [  5  15   2   7   3]\n",
      " [  3  10   1   3   5]]\n",
      "\taccuracy\n",
      "\t\t 0.653439153439\n",
      "\tf1\n",
      "\t\t 0.628746589606\n",
      "\trecall\n",
      "\t\t 0.653439153439\n",
      "\tprecision\n",
      "\t\t 0.615971532183\n",
      "confusion matrix\n",
      "[[ 39  17   3   3   3]\n",
      " [ 23 213   4   4   2]\n",
      " [ 10   3   6   1   2]\n",
      " [  3   9   5  11   0]\n",
      " [  7   3   3   0   4]]\n",
      "\taccuracy\n",
      "\t\t 0.722222222222\n",
      "\tf1\n",
      "\t\t 0.719647262413\n",
      "\trecall\n",
      "\t\t 0.722222222222\n",
      "\tprecision\n",
      "\t\t 0.723444657896\n"
     ]
    },
    {
     "name": "stderr",
     "output_type": "stream",
     "text": [
      "/opt/conda/lib/python3.5/site-packages/sklearn/metrics/classification.py:756: DeprecationWarning: The default `weighted` averaging is deprecated, and from version 0.18, use of precision, recall or F-score with multiclass or multilabel data or pos_label=None will result in an exception. Please set an explicit value for `average`, one of (None, 'micro', 'macro', 'weighted', 'samples'). In cross validation use, for instance, scoring=\"f1_weighted\" instead of scoring=\"f1\".\n",
      "  sample_weight=sample_weight)\n",
      "/opt/conda/lib/python3.5/site-packages/sklearn/metrics/classification.py:1304: DeprecationWarning: The default `weighted` averaging is deprecated, and from version 0.18, use of precision, recall or F-score with multiclass or multilabel data or pos_label=None will result in an exception. Please set an explicit value for `average`, one of (None, 'micro', 'macro', 'weighted', 'samples'). In cross validation use, for instance, scoring=\"f1_weighted\" instead of scoring=\"f1\".\n",
      "  sample_weight=sample_weight)\n",
      "/opt/conda/lib/python3.5/site-packages/sklearn/metrics/classification.py:1203: DeprecationWarning: The default `weighted` averaging is deprecated, and from version 0.18, use of precision, recall or F-score with multiclass or multilabel data or pos_label=None will result in an exception. Please set an explicit value for `average`, one of (None, 'micro', 'macro', 'weighted', 'samples'). In cross validation use, for instance, scoring=\"f1_weighted\" instead of scoring=\"f1\".\n",
      "  sample_weight=sample_weight)\n",
      "/opt/conda/lib/python3.5/site-packages/sklearn/metrics/classification.py:756: DeprecationWarning: The default `weighted` averaging is deprecated, and from version 0.18, use of precision, recall or F-score with multiclass or multilabel data or pos_label=None will result in an exception. Please set an explicit value for `average`, one of (None, 'micro', 'macro', 'weighted', 'samples'). In cross validation use, for instance, scoring=\"f1_weighted\" instead of scoring=\"f1\".\n",
      "  sample_weight=sample_weight)\n",
      "/opt/conda/lib/python3.5/site-packages/sklearn/metrics/classification.py:1304: DeprecationWarning: The default `weighted` averaging is deprecated, and from version 0.18, use of precision, recall or F-score with multiclass or multilabel data or pos_label=None will result in an exception. Please set an explicit value for `average`, one of (None, 'micro', 'macro', 'weighted', 'samples'). In cross validation use, for instance, scoring=\"f1_weighted\" instead of scoring=\"f1\".\n",
      "  sample_weight=sample_weight)\n",
      "/opt/conda/lib/python3.5/site-packages/sklearn/metrics/classification.py:1203: DeprecationWarning: The default `weighted` averaging is deprecated, and from version 0.18, use of precision, recall or F-score with multiclass or multilabel data or pos_label=None will result in an exception. Please set an explicit value for `average`, one of (None, 'micro', 'macro', 'weighted', 'samples'). In cross validation use, for instance, scoring=\"f1_weighted\" instead of scoring=\"f1\".\n",
      "  sample_weight=sample_weight)\n",
      "/opt/conda/lib/python3.5/site-packages/sklearn/metrics/classification.py:756: DeprecationWarning: The default `weighted` averaging is deprecated, and from version 0.18, use of precision, recall or F-score with multiclass or multilabel data or pos_label=None will result in an exception. Please set an explicit value for `average`, one of (None, 'micro', 'macro', 'weighted', 'samples'). In cross validation use, for instance, scoring=\"f1_weighted\" instead of scoring=\"f1\".\n",
      "  sample_weight=sample_weight)\n",
      "/opt/conda/lib/python3.5/site-packages/sklearn/metrics/classification.py:1304: DeprecationWarning: The default `weighted` averaging is deprecated, and from version 0.18, use of precision, recall or F-score with multiclass or multilabel data or pos_label=None will result in an exception. Please set an explicit value for `average`, one of (None, 'micro', 'macro', 'weighted', 'samples'). In cross validation use, for instance, scoring=\"f1_weighted\" instead of scoring=\"f1\".\n",
      "  sample_weight=sample_weight)\n",
      "/opt/conda/lib/python3.5/site-packages/sklearn/metrics/classification.py:1203: DeprecationWarning: The default `weighted` averaging is deprecated, and from version 0.18, use of precision, recall or F-score with multiclass or multilabel data or pos_label=None will result in an exception. Please set an explicit value for `average`, one of (None, 'micro', 'macro', 'weighted', 'samples'). In cross validation use, for instance, scoring=\"f1_weighted\" instead of scoring=\"f1\".\n",
      "  sample_weight=sample_weight)\n",
      "/opt/conda/lib/python3.5/site-packages/sklearn/metrics/classification.py:756: DeprecationWarning: The default `weighted` averaging is deprecated, and from version 0.18, use of precision, recall or F-score with multiclass or multilabel data or pos_label=None will result in an exception. Please set an explicit value for `average`, one of (None, 'micro', 'macro', 'weighted', 'samples'). In cross validation use, for instance, scoring=\"f1_weighted\" instead of scoring=\"f1\".\n",
      "  sample_weight=sample_weight)\n",
      "/opt/conda/lib/python3.5/site-packages/sklearn/metrics/classification.py:1304: DeprecationWarning: The default `weighted` averaging is deprecated, and from version 0.18, use of precision, recall or F-score with multiclass or multilabel data or pos_label=None will result in an exception. Please set an explicit value for `average`, one of (None, 'micro', 'macro', 'weighted', 'samples'). In cross validation use, for instance, scoring=\"f1_weighted\" instead of scoring=\"f1\".\n",
      "  sample_weight=sample_weight)\n",
      "/opt/conda/lib/python3.5/site-packages/sklearn/metrics/classification.py:1203: DeprecationWarning: The default `weighted` averaging is deprecated, and from version 0.18, use of precision, recall or F-score with multiclass or multilabel data or pos_label=None will result in an exception. Please set an explicit value for `average`, one of (None, 'micro', 'macro', 'weighted', 'samples'). In cross validation use, for instance, scoring=\"f1_weighted\" instead of scoring=\"f1\".\n",
      "  sample_weight=sample_weight)\n"
     ]
    }
   ],
   "source": [
    "model_folder = \"/home/jovyan/persistent_data/midi-ml/notebooks/ProjectTwoResults/dumps/factorization_machine/\"\n",
    "accuracy = []\n",
    "precision = []\n",
    "recall = []\n",
    "f1 = []\n",
    "mcc = []\n",
    "predicted = pickle.load(open(model_folder + \"predicted_fold_3.pkl\", 'rb'))\n",
    "actuals = pickle.load(open(model_folder + \"actuals_fold_3.pkl\", 'rb'))\n",
    "for preds, actual in zip(predicted, actuals):\n",
    "    pred = np.array(preds).argmax(axis=0)\n",
    "    print(\"confusion matrix\")\n",
    "    print(metrics.confusion_matrix(actual, pred))\n",
    "    print(\"\\taccuracy\")\n",
    "    acc = metrics.accuracy_score(actual, pred)\n",
    "    accuracy.append(acc)\n",
    "    print(\"\\t\\t\", acc)\n",
    "    print(\"\\tf1\")\n",
    "    f = metrics.f1_score(actual, pred)\n",
    "    f1.append(f)\n",
    "    print(\"\\t\\t\", f)\n",
    "    print(\"\\trecall\")\n",
    "    r = metrics.recall_score(actual, pred)\n",
    "    recall.append(r)\n",
    "    print(\"\\t\\t\", r)\n",
    "    print(\"\\tprecision\")\n",
    "    p = metrics.precision_score(actual, pred)\n",
    "    precision.append(p)\n",
    "    print(\"\\t\\t\", p)\n",
    "#     posterior_overlap_eval(actual, pred, labels=labs)"
   ]
  },
  {
   "cell_type": "code",
   "execution_count": null,
   "metadata": {
    "collapsed": true
   },
   "outputs": [],
   "source": []
  },
  {
   "cell_type": "code",
   "execution_count": 56,
   "metadata": {
    "collapsed": false
   },
   "outputs": [
    {
     "data": {
      "text/plain": [
       "0.72222222222222221"
      ]
     },
     "execution_count": 56,
     "metadata": {},
     "output_type": "execute_result"
    }
   ],
   "source": [
    "np.max(accuracy)"
   ]
  },
  {
   "cell_type": "code",
   "execution_count": null,
   "metadata": {
    "collapsed": true
   },
   "outputs": [],
   "source": []
  },
  {
   "cell_type": "code",
   "execution_count": null,
   "metadata": {
    "collapsed": true
   },
   "outputs": [],
   "source": []
  },
  {
   "cell_type": "code",
   "execution_count": 59,
   "metadata": {
    "collapsed": false
   },
   "outputs": [
    {
     "data": {
      "image/png": "[encoded data removed]",
      "text/plain": [
       "<matplotlib.figure.Figure at 0x7fcb3456de80>"
      ]
     },
     "metadata": {},
     "output_type": "display_data"
    }
   ],
   "source": [
    "mymodel = \"Factorization Machine\"\n",
    "sns.set_style(\"whitegrid\")\n",
    "plt.title(\"Posterior Probability of Within-Class Error\\n{model}\".format(model=mymodel))\n",
    "plt.xlabel('P(actual=predicted)\\n' + r'Beta($\\alpha, \\beta$)')\n",
    "plt.ylabel(\"Density\")\n",
    "plt.yticks([])\n",
    "ax = plt.gca()\n",
    "ax.grid(False)\n",
    "posterior_overlap_eval(actual, pred, labels=labs)"
   ]
  },
  {
   "cell_type": "code",
   "execution_count": null,
   "metadata": {
    "collapsed": true
   },
   "outputs": [],
   "source": []
  },
  {
   "cell_type": "code",
   "execution_count": null,
   "metadata": {
    "collapsed": true
   },
   "outputs": [],
   "source": []
  },
  {
   "cell_type": "code",
   "execution_count": 52,
   "metadata": {
    "collapsed": false
   },
   "outputs": [
    {
     "data": {
      "text/plain": [
       "array([[ 39,  17,   3,   3,   3],\n",
       "       [ 23, 213,   4,   4,   2],\n",
       "       [ 10,   3,   6,   1,   2],\n",
       "       [  3,   9,   5,  11,   0],\n",
       "       [  7,   3,   3,   0,   4]])"
      ]
     },
     "execution_count": 52,
     "metadata": {},
     "output_type": "execute_result"
    }
   ],
   "source": [
    "metrics.confusion_matrix(actual, pred)"
   ]
  },
  {
   "cell_type": "code",
   "execution_count": null,
   "metadata": {
    "collapsed": true
   },
   "outputs": [],
   "source": []
  }
 ],
 "metadata": {
  "kernelspec": {
   "display_name": "Python 3",
   "language": "python",
   "name": "python3"
  },
  "language_info": {
   "codemirror_mode": {
    "name": "ipython",
    "version": 3
   },
   "file_extension": ".py",
   "mimetype": "text/x-python",
   "name": "python",
   "nbconvert_exporter": "python",
   "pygments_lexer": "ipython3",
   "version": "3.5.2"
  }
 },
 "nbformat": 4,
 "nbformat_minor": 1
}
