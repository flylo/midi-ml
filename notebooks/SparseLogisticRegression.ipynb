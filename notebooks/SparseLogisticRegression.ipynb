{
 "cells": [
  {
   "cell_type": "code",
   "execution_count": 1,
   "metadata": {
    "collapsed": false
   },
   "outputs": [],
   "source": [
    "%matplotlib inline"
   ]
  },
  {
   "cell_type": "code",
   "execution_count": 2,
   "metadata": {
    "collapsed": true
   },
   "outputs": [],
   "source": [
    "import os\n",
    "import numpy as np\n",
    "import pandas as pd\n",
    "import music21 as m21\n",
    "from typing import List\n",
    "from itertools import product\n",
    "from collections import defaultdict\n",
    "from sklearn.externals import joblib\n",
    "from matplotlib import pyplot as plt\n",
    "from scipy import sparse\n",
    "from easy_ml.tools.util import download_from_gcs"
   ]
  },
  {
   "cell_type": "code",
   "execution_count": 3,
   "metadata": {
    "collapsed": true
   },
   "outputs": [],
   "source": [
    "from scipy.stats.distributions import bernoulli\n",
    "from sklearn import datasets"
   ]
  },
  {
   "cell_type": "code",
   "execution_count": 4,
   "metadata": {
    "collapsed": true
   },
   "outputs": [],
   "source": [
    "num_classes=2"
   ]
  },
  {
   "cell_type": "code",
   "execution_count": 5,
   "metadata": {
    "collapsed": false
   },
   "outputs": [],
   "source": [
    "X, y = datasets.make_classification(n_samples=1000,\n",
    "                            n_features=2,\n",
    "                             n_informative=2,\n",
    "                            n_redundant=0)\n",
    "X = sparse.hstack([sparse.csr_matrix(X), np.ones((X.shape[0], 1))])\n",
    "beta_init = np.random.uniform(-1, 1,\n",
    "        size=(num_classes-1, X.shape[1]))"
   ]
  },
  {
   "cell_type": "markdown",
   "metadata": {},
   "source": [
    "http://econ.queensu.ca/ETM/corrections/Fourth-pdf/pg468.pdf"
   ]
  },
  {
   "cell_type": "code",
   "execution_count": 6,
   "metadata": {
    "collapsed": true
   },
   "outputs": [],
   "source": [
    "def log_likelihood(beta):\n",
    "    theta_dot_x = sparse.csr_matrix(beta).dot(X.T).todense()\n",
    "    log_prob_data_given_theta = y * theta_dot_x.A - np.log(1 + np.exp(theta_dot_x.A))\n",
    "    return np.sum(log_prob_data_given_theta)"
   ]
  },
  {
   "cell_type": "code",
   "execution_count": 7,
   "metadata": {
    "collapsed": false
   },
   "outputs": [
    {
     "data": {
      "text/plain": [
       "-813.64576972657096"
      ]
     },
     "execution_count": 7,
     "metadata": {},
     "output_type": "execute_result"
    }
   ],
   "source": [
    "log_likelihood(beta_init)"
   ]
  },
  {
   "cell_type": "code",
   "execution_count": 8,
   "metadata": {
    "collapsed": true
   },
   "outputs": [],
   "source": [
    "def predicted_probabilities(beta):\n",
    "    exp_log_odds = np.exp(sparse.csr_matrix(beta).dot(X.T).A).T\n",
    "    return (exp_log_odds / (1 + exp_log_odds)).ravel()\n",
    "def score_function(beta, probabilities):\n",
    "    return X.T.dot(y - probabilities)\n",
    "def hessian(beta, probabilities):\n",
    "    W = sparse.eye(X.shape[0]).todok()\n",
    "    for i in range(W.shape[0]):\n",
    "        W[i,i] = probabilities[i] * (1 - probabilities[i])\n",
    "    return -X.T * W * X"
   ]
  },
  {
   "cell_type": "code",
   "execution_count": 9,
   "metadata": {
    "collapsed": true
   },
   "outputs": [],
   "source": [
    "def newton_step(beta):\n",
    "    probs = predicted_probabilities(beta)\n",
    "    score = score_function(beta, probs)\n",
    "    hess = hessian(beta, probs)\n",
    "#     step = sparse.linalg.inv(hess.tocsc()) * score\n",
    "    step = np.linalg.inv(hess.todense()).dot(score)\n",
    "    return beta - step"
   ]
  },
  {
   "cell_type": "code",
   "execution_count": 10,
   "metadata": {
    "collapsed": true
   },
   "outputs": [],
   "source": [
    "def newton_raphson(beta_init, num_iter=10):\n",
    "    ll = []\n",
    "    current_beta = beta_init\n",
    "    for i in range(num_iter):\n",
    "        log_lik = log_likelihood(current_beta)\n",
    "        ll.append(log_lik)\n",
    "        try:\n",
    "            current_beta = newton_step(current_beta)\n",
    "        except RuntimeError:\n",
    "            break\n",
    "    return current_beta, ll"
   ]
  },
  {
   "cell_type": "code",
   "execution_count": 11,
   "metadata": {
    "collapsed": false
   },
   "outputs": [],
   "source": [
    "fitted, ll = newton_raphson(beta_init)"
   ]
  },
  {
   "cell_type": "code",
   "execution_count": 12,
   "metadata": {
    "collapsed": true
   },
   "outputs": [],
   "source": [
    "from sklearn.linear_model import LogisticRegression"
   ]
  },
  {
   "cell_type": "code",
   "execution_count": 13,
   "metadata": {
    "collapsed": true
   },
   "outputs": [],
   "source": [
    "lr = LogisticRegression(fit_intercept=False)"
   ]
  },
  {
   "cell_type": "code",
   "execution_count": 14,
   "metadata": {
    "collapsed": false
   },
   "outputs": [
    {
     "data": {
      "text/plain": [
       "LogisticRegression(C=1.0, class_weight=None, dual=False, fit_intercept=False,\n",
       "          intercept_scaling=1, max_iter=100, multi_class='ovr', n_jobs=1,\n",
       "          penalty='l2', random_state=None, solver='liblinear', tol=0.0001,\n",
       "          verbose=0, warm_start=False)"
      ]
     },
     "execution_count": 14,
     "metadata": {},
     "output_type": "execute_result"
    }
   ],
   "source": [
    "lr.fit(X, y)"
   ]
  },
  {
   "cell_type": "code",
   "execution_count": 15,
   "metadata": {
    "collapsed": false
   },
   "outputs": [
    {
     "data": {
      "text/plain": [
       "array([[-0.38497065,  2.45244607,  0.0437402 ]])"
      ]
     },
     "execution_count": 15,
     "metadata": {},
     "output_type": "execute_result"
    }
   ],
   "source": [
    "lr.coef_"
   ]
  },
  {
   "cell_type": "code",
   "execution_count": 16,
   "metadata": {
    "collapsed": false
   },
   "outputs": [
    {
     "data": {
      "text/plain": [
       "matrix([[-0.40600821,  2.51257824,  0.04835233]])"
      ]
     },
     "execution_count": 16,
     "metadata": {},
     "output_type": "execute_result"
    }
   ],
   "source": [
    "fitted"
   ]
  },
  {
   "cell_type": "code",
   "execution_count": null,
   "metadata": {
    "collapsed": true
   },
   "outputs": [],
   "source": []
  },
  {
   "cell_type": "code",
   "execution_count": 57,
   "metadata": {
    "collapsed": false
   },
   "outputs": [
    {
     "data": {
      "image/png": "[encoded data removed]",
      "text/plain": [
       "<matplotlib.figure.Figure at 0x7fc353753b00>"
      ]
     },
     "metadata": {},
     "output_type": "display_data"
    }
   ],
   "source": [
    "X_dense = X.todense()\n",
    "plt.scatter(X_dense[np.where(y==0)[0], 0],\n",
    "            X_dense[np.where(y==0)[0], 1],\n",
    "            c='red')\n",
    "plt.scatter(X_dense[np.where(y==1)[0], 0],\n",
    "            X_dense[np.where(y==1)[0], 1],\n",
    "            c='blue')\n",
    "plt.show()"
   ]
  },
  {
   "cell_type": "code",
   "execution_count": null,
   "metadata": {
    "collapsed": true
   },
   "outputs": [],
   "source": []
  },
  {
   "cell_type": "code",
   "execution_count": null,
   "metadata": {
    "collapsed": true
   },
   "outputs": [],
   "source": []
  },
  {
   "cell_type": "code",
   "execution_count": null,
   "metadata": {
    "collapsed": true
   },
   "outputs": [],
   "source": []
  },
  {
   "cell_type": "code",
   "execution_count": null,
   "metadata": {
    "collapsed": true
   },
   "outputs": [],
   "source": []
  },
  {
   "cell_type": "code",
   "execution_count": null,
   "metadata": {
    "collapsed": true
   },
   "outputs": [],
   "source": []
  },
  {
   "cell_type": "code",
   "execution_count": null,
   "metadata": {
    "collapsed": true
   },
   "outputs": [],
   "source": []
  },
  {
   "cell_type": "markdown",
   "metadata": {},
   "source": [
    "# Implementing Step"
   ]
  },
  {
   "cell_type": "markdown",
   "metadata": {},
   "source": [
    "#### Inneficient Way"
   ]
  },
  {
   "cell_type": "markdown",
   "metadata": {},
   "source": [
    "http://sites.stat.psu.edu/~jiali/course/stat597e/notes2/logit.pdf"
   ]
  },
  {
   "cell_type": "code",
   "execution_count": 121,
   "metadata": {
    "collapsed": false
   },
   "outputs": [
    {
     "data": {
      "text/plain": [
       "(1001,)"
      ]
     },
     "execution_count": 121,
     "metadata": {},
     "output_type": "execute_result"
    }
   ],
   "source": [
    "step.shape"
   ]
  },
  {
   "cell_type": "code",
   "execution_count": 123,
   "metadata": {
    "collapsed": false
   },
   "outputs": [
    {
     "data": {
      "text/plain": [
       "array([[  -2.14223701, -168.05101455,  100.3121085 , ..., -103.39812125,\n",
       "         198.87869394, -609.71449813]])"
      ]
     },
     "execution_count": 123,
     "metadata": {},
     "output_type": "execute_result"
    }
   ],
   "source": [
    "beta_init - step"
   ]
  },
  {
   "cell_type": "code",
   "execution_count": 108,
   "metadata": {
    "collapsed": false
   },
   "outputs": [],
   "source": [
    "probs = predicted_probabilities(beta_init)\n",
    "score = score_function(beta_init, probs)\n",
    "hess = hessian(beta_init, probs)\n",
    "step = sparse.linalg.inv(hess) * score\n",
    "W = sparse.eye(X.shape[0]).todok()\n",
    "for i in range(W.shape[0]):\n",
    "    W[i,i] = probs[i] * (1 - probs[i])\n",
    "W = W.tocsc()"
   ]
  },
  {
   "cell_type": "code",
   "execution_count": 118,
   "metadata": {
    "collapsed": false
   },
   "outputs": [],
   "source": [
    "z = X * beta_init.T + sparse.linalg.inv(W) * (y - probs)"
   ]
  },
  {
   "cell_type": "code",
   "execution_count": 110,
   "metadata": {
    "collapsed": true
   },
   "outputs": [],
   "source": [
    "beta_new = sparse.linalg.inv(X.T * W * X) * X.T * W * z"
   ]
  },
  {
   "cell_type": "code",
   "execution_count": null,
   "metadata": {
    "collapsed": true
   },
   "outputs": [],
   "source": []
  },
  {
   "cell_type": "code",
   "execution_count": 111,
   "metadata": {
    "collapsed": false
   },
   "outputs": [
    {
     "data": {
      "text/plain": [
       "(1001, 1000)"
      ]
     },
     "execution_count": 111,
     "metadata": {},
     "output_type": "execute_result"
    }
   ],
   "source": [
    "beta_new.shape"
   ]
  },
  {
   "cell_type": "markdown",
   "metadata": {},
   "source": [
    "#### Efficient Way"
   ]
  },
  {
   "cell_type": "code",
   "execution_count": 69,
   "metadata": {
    "collapsed": true
   },
   "outputs": [],
   "source": [
    "X_tilde = X.copy().todok()"
   ]
  },
  {
   "cell_type": "code",
   "execution_count": 81,
   "metadata": {
    "collapsed": false
   },
   "outputs": [],
   "source": [
    "p_one_minus_p = probs * (1-probs)\n",
    "for k, v in X_tilde.items():\n",
    "    X_tilde[k] = v * probs[k[0]]"
   ]
  },
  {
   "cell_type": "code",
   "execution_count": 99,
   "metadata": {
    "collapsed": false
   },
   "outputs": [],
   "source": [
    "blah = sparse.linalg.inv(X.T * X_tilde) * X.T * (y - probs.ravel())"
   ]
  },
  {
   "cell_type": "code",
   "execution_count": 101,
   "metadata": {
    "collapsed": false
   },
   "outputs": [
    {
     "data": {
      "text/plain": [
       "array([ -14.11066094,  234.96207125,  -38.56310067, ..., -184.38329489,\n",
       "       -338.4612782 , -402.30135033])"
      ]
     },
     "execution_count": 101,
     "metadata": {},
     "output_type": "execute_result"
    }
   ],
   "source": [
    "blah"
   ]
  },
  {
   "cell_type": "code",
   "execution_count": 54,
   "metadata": {
    "collapsed": false
   },
   "outputs": [],
   "source": []
  },
  {
   "cell_type": "code",
   "execution_count": null,
   "metadata": {
    "collapsed": true
   },
   "outputs": [],
   "source": []
  },
  {
   "cell_type": "code",
   "execution_count": null,
   "metadata": {
    "collapsed": true
   },
   "outputs": [],
   "source": []
  },
  {
   "cell_type": "code",
   "execution_count": null,
   "metadata": {
    "collapsed": true
   },
   "outputs": [],
   "source": []
  },
  {
   "cell_type": "code",
   "execution_count": null,
   "metadata": {
    "collapsed": true
   },
   "outputs": [],
   "source": []
  },
  {
   "cell_type": "code",
   "execution_count": null,
   "metadata": {
    "collapsed": true
   },
   "outputs": [],
   "source": []
  },
  {
   "cell_type": "code",
   "execution_count": 39,
   "metadata": {
    "collapsed": false
   },
   "outputs": [
    {
     "data": {
      "text/plain": [
       "(1, 1001)"
      ]
     },
     "execution_count": 39,
     "metadata": {},
     "output_type": "execute_result"
    }
   ],
   "source": [
    "beta_init.shape"
   ]
  },
  {
   "cell_type": "code",
   "execution_count": 29,
   "metadata": {
    "collapsed": false
   },
   "outputs": [],
   "source": [
    "def newton_step(beta):\n",
    "    probs = predicted_probabilities(beta)\n",
    "    score = score_function(beta, probs)\n",
    "    hess = hessian(beta, probs)\n",
    "    step = sparse.linalg.inv(hess) * score\n",
    "    return beta - step"
   ]
  },
  {
   "cell_type": "code",
   "execution_count": 35,
   "metadata": {
    "collapsed": false
   },
   "outputs": [
    {
     "data": {
      "text/plain": [
       "<1001x1001 sparse matrix of type '<class 'numpy.float64'>'\n",
       "\twith 101877 stored elements in Compressed Sparse Column format>"
      ]
     },
     "execution_count": 35,
     "metadata": {},
     "output_type": "execute_result"
    }
   ],
   "source": [
    "hessian(beta_init, probs)"
   ]
  },
  {
   "cell_type": "code",
   "execution_count": 32,
   "metadata": {
    "collapsed": false
   },
   "outputs": [
    {
     "ename": "ValueError",
     "evalue": "dimension mismatch",
     "output_type": "error",
     "traceback": [
      "\u001b[0;31m---------------------------------------------------------------------------\u001b[0m",
      "\u001b[0;31mValueError\u001b[0m                                Traceback (most recent call last)",
      "\u001b[0;32m<ipython-input-32-af74b595a5b4>\u001b[0m in \u001b[0;36m<module>\u001b[0;34m()\u001b[0m\n\u001b[1;32m      1\u001b[0m \u001b[0mprobs\u001b[0m \u001b[0;34m=\u001b[0m \u001b[0mpredicted_probabilities\u001b[0m\u001b[0;34m(\u001b[0m\u001b[0mbeta_init\u001b[0m\u001b[0;34m)\u001b[0m\u001b[0;34m\u001b[0m\u001b[0m\n\u001b[1;32m      2\u001b[0m \u001b[0mscore\u001b[0m \u001b[0;34m=\u001b[0m \u001b[0mscore_function\u001b[0m\u001b[0;34m(\u001b[0m\u001b[0mbeta_init\u001b[0m\u001b[0;34m,\u001b[0m \u001b[0mprobs\u001b[0m\u001b[0;34m)\u001b[0m\u001b[0;34m\u001b[0m\u001b[0m\n\u001b[0;32m----> 3\u001b[0;31m \u001b[0mhess\u001b[0m \u001b[0;34m=\u001b[0m \u001b[0mhessian\u001b[0m\u001b[0;34m(\u001b[0m\u001b[0mbeta_init\u001b[0m\u001b[0;34m,\u001b[0m \u001b[0mprobs\u001b[0m\u001b[0;34m)\u001b[0m\u001b[0;34m\u001b[0m\u001b[0m\n\u001b[0m\u001b[1;32m      4\u001b[0m \u001b[0mstep\u001b[0m \u001b[0;34m=\u001b[0m \u001b[0msparse\u001b[0m\u001b[0;34m.\u001b[0m\u001b[0mlinalg\u001b[0m\u001b[0;34m.\u001b[0m\u001b[0minv\u001b[0m\u001b[0;34m(\u001b[0m\u001b[0mhess\u001b[0m\u001b[0;34m)\u001b[0m \u001b[0;34m*\u001b[0m \u001b[0mscore\u001b[0m\u001b[0;34m\u001b[0m\u001b[0m\n",
      "\u001b[0;32m<ipython-input-23-08234f3e4824>\u001b[0m in \u001b[0;36mhessian\u001b[0;34m(beta, probs)\u001b[0m\n\u001b[1;32m      8\u001b[0m     \u001b[0;32mfor\u001b[0m \u001b[0mi\u001b[0m \u001b[0;32min\u001b[0m \u001b[0mrange\u001b[0m\u001b[0;34m(\u001b[0m\u001b[0mW\u001b[0m\u001b[0;34m.\u001b[0m\u001b[0mshape\u001b[0m\u001b[0;34m[\u001b[0m\u001b[0;36m0\u001b[0m\u001b[0;34m]\u001b[0m\u001b[0;34m)\u001b[0m\u001b[0;34m:\u001b[0m\u001b[0;34m\u001b[0m\u001b[0m\n\u001b[1;32m      9\u001b[0m         \u001b[0mW\u001b[0m\u001b[0;34m[\u001b[0m\u001b[0mi\u001b[0m\u001b[0;34m,\u001b[0m\u001b[0mi\u001b[0m\u001b[0;34m]\u001b[0m \u001b[0;34m=\u001b[0m \u001b[0mprobs\u001b[0m\u001b[0;34m[\u001b[0m\u001b[0mi\u001b[0m\u001b[0;34m]\u001b[0m \u001b[0;34m*\u001b[0m \u001b[0;34m(\u001b[0m\u001b[0;36m1\u001b[0m \u001b[0;34m-\u001b[0m \u001b[0mprobs\u001b[0m\u001b[0;34m[\u001b[0m\u001b[0mi\u001b[0m\u001b[0;34m]\u001b[0m\u001b[0;34m)\u001b[0m\u001b[0;34m\u001b[0m\u001b[0m\n\u001b[0;32m---> 10\u001b[0;31m     \u001b[0;32mreturn\u001b[0m \u001b[0mX\u001b[0m\u001b[0;34m.\u001b[0m\u001b[0mdot\u001b[0m\u001b[0;34m(\u001b[0m\u001b[0mW\u001b[0m\u001b[0;34m)\u001b[0m\u001b[0;34m.\u001b[0m\u001b[0mdot\u001b[0m\u001b[0;34m(\u001b[0m\u001b[0mX\u001b[0m\u001b[0;34m.\u001b[0m\u001b[0mT\u001b[0m\u001b[0;34m)\u001b[0m\u001b[0;34m\u001b[0m\u001b[0m\n\u001b[0m",
      "\u001b[0;32m/opt/conda/lib/python3.5/site-packages/scipy/sparse/base.py\u001b[0m in \u001b[0;36mdot\u001b[0;34m(self, other)\u001b[0m\n\u001b[1;32m    251\u001b[0m \u001b[0;34m\u001b[0m\u001b[0m\n\u001b[1;32m    252\u001b[0m         \"\"\"\n\u001b[0;32m--> 253\u001b[0;31m         \u001b[0;32mreturn\u001b[0m \u001b[0mself\u001b[0m \u001b[0;34m*\u001b[0m \u001b[0mother\u001b[0m\u001b[0;34m\u001b[0m\u001b[0m\n\u001b[0m\u001b[1;32m    254\u001b[0m \u001b[0;34m\u001b[0m\u001b[0m\n\u001b[1;32m    255\u001b[0m     \u001b[0;32mdef\u001b[0m \u001b[0mpower\u001b[0m\u001b[0;34m(\u001b[0m\u001b[0mself\u001b[0m\u001b[0;34m,\u001b[0m \u001b[0mn\u001b[0m\u001b[0;34m,\u001b[0m \u001b[0mdtype\u001b[0m\u001b[0;34m=\u001b[0m\u001b[0;32mNone\u001b[0m\u001b[0;34m)\u001b[0m\u001b[0;34m:\u001b[0m\u001b[0;34m\u001b[0m\u001b[0m\n",
      "\u001b[0;32m/opt/conda/lib/python3.5/site-packages/scipy/sparse/base.py\u001b[0m in \u001b[0;36m__mul__\u001b[0;34m(self, other)\u001b[0m\n\u001b[1;32m    316\u001b[0m         \u001b[0;32mif\u001b[0m \u001b[0missparse\u001b[0m\u001b[0;34m(\u001b[0m\u001b[0mother\u001b[0m\u001b[0;34m)\u001b[0m\u001b[0;34m:\u001b[0m\u001b[0;34m\u001b[0m\u001b[0m\n\u001b[1;32m    317\u001b[0m             \u001b[0;32mif\u001b[0m \u001b[0mself\u001b[0m\u001b[0;34m.\u001b[0m\u001b[0mshape\u001b[0m\u001b[0;34m[\u001b[0m\u001b[0;36m1\u001b[0m\u001b[0;34m]\u001b[0m \u001b[0;34m!=\u001b[0m \u001b[0mother\u001b[0m\u001b[0;34m.\u001b[0m\u001b[0mshape\u001b[0m\u001b[0;34m[\u001b[0m\u001b[0;36m0\u001b[0m\u001b[0;34m]\u001b[0m\u001b[0;34m:\u001b[0m\u001b[0;34m\u001b[0m\u001b[0m\n\u001b[0;32m--> 318\u001b[0;31m                 \u001b[0;32mraise\u001b[0m \u001b[0mValueError\u001b[0m\u001b[0;34m(\u001b[0m\u001b[0;34m'dimension mismatch'\u001b[0m\u001b[0;34m)\u001b[0m\u001b[0;34m\u001b[0m\u001b[0m\n\u001b[0m\u001b[1;32m    319\u001b[0m             \u001b[0;32mreturn\u001b[0m \u001b[0mself\u001b[0m\u001b[0;34m.\u001b[0m\u001b[0m_mul_sparse_matrix\u001b[0m\u001b[0;34m(\u001b[0m\u001b[0mother\u001b[0m\u001b[0;34m)\u001b[0m\u001b[0;34m\u001b[0m\u001b[0m\n\u001b[1;32m    320\u001b[0m \u001b[0;34m\u001b[0m\u001b[0m\n",
      "\u001b[0;31mValueError\u001b[0m: dimension mismatch"
     ]
    }
   ],
   "source": []
  },
  {
   "cell_type": "code",
   "execution_count": null,
   "metadata": {
    "collapsed": true
   },
   "outputs": [],
   "source": []
  },
  {
   "cell_type": "code",
   "execution_count": null,
   "metadata": {
    "collapsed": true
   },
   "outputs": [],
   "source": []
  },
  {
   "cell_type": "code",
   "execution_count": null,
   "metadata": {
    "collapsed": true
   },
   "outputs": [],
   "source": []
  },
  {
   "cell_type": "code",
   "execution_count": null,
   "metadata": {
    "collapsed": true
   },
   "outputs": [],
   "source": []
  },
  {
   "cell_type": "code",
   "execution_count": 19,
   "metadata": {
    "collapsed": false
   },
   "outputs": [
    {
     "data": {
      "text/plain": [
       "(1000,)"
      ]
     },
     "execution_count": 19,
     "metadata": {},
     "output_type": "execute_result"
    }
   ],
   "source": [
    "y.shape"
   ]
  },
  {
   "cell_type": "code",
   "execution_count": 20,
   "metadata": {
    "collapsed": false
   },
   "outputs": [
    {
     "data": {
      "text/plain": [
       "(1000, 1001)"
      ]
     },
     "execution_count": 20,
     "metadata": {},
     "output_type": "execute_result"
    }
   ],
   "source": [
    "X.shape"
   ]
  },
  {
   "cell_type": "code",
   "execution_count": 25,
   "metadata": {
    "collapsed": false
   },
   "outputs": [
    {
     "data": {
      "text/plain": [
       "(1000, 1)"
      ]
     },
     "execution_count": 25,
     "metadata": {},
     "output_type": "execute_result"
    }
   ],
   "source": [
    "predicted_probabilities(beta_init).shape"
   ]
  },
  {
   "cell_type": "code",
   "execution_count": 27,
   "metadata": {
    "collapsed": false
   },
   "outputs": [
    {
     "data": {
      "text/plain": [
       "(1001, 1000)"
      ]
     },
     "execution_count": 27,
     "metadata": {},
     "output_type": "execute_result"
    }
   ],
   "source": [
    "score_function(beta_init, predicted_probabilities(beta_init)).shape"
   ]
  },
  {
   "cell_type": "code",
   "execution_count": 18,
   "metadata": {
    "collapsed": false
   },
   "outputs": [
    {
     "ename": "ValueError",
     "evalue": "dimension mismatch",
     "output_type": "error",
     "traceback": [
      "\u001b[0;31m---------------------------------------------------------------------------\u001b[0m",
      "\u001b[0;31mValueError\u001b[0m                                Traceback (most recent call last)",
      "\u001b[0;32m<ipython-input-18-6ddb753a0de0>\u001b[0m in \u001b[0;36m<module>\u001b[0;34m()\u001b[0m\n\u001b[0;32m----> 1\u001b[0;31m \u001b[0mnewton_step\u001b[0m\u001b[0;34m(\u001b[0m\u001b[0mbeta_init\u001b[0m\u001b[0;34m)\u001b[0m\u001b[0;34m\u001b[0m\u001b[0m\n\u001b[0m",
      "\u001b[0;32m<ipython-input-16-93f24970f294>\u001b[0m in \u001b[0;36mnewton_step\u001b[0;34m(beta)\u001b[0m\n\u001b[1;32m      3\u001b[0m     \u001b[0mprobs\u001b[0m \u001b[0;34m=\u001b[0m \u001b[0;36m1\u001b[0m \u001b[0;34m/\u001b[0m \u001b[0;34m(\u001b[0m\u001b[0;36m1\u001b[0m \u001b[0;34m+\u001b[0m \u001b[0mexp_log_odds\u001b[0m\u001b[0;34m)\u001b[0m\u001b[0;34m\u001b[0m\u001b[0m\n\u001b[1;32m      4\u001b[0m     \u001b[0mscore\u001b[0m \u001b[0;34m=\u001b[0m \u001b[0mX\u001b[0m\u001b[0;34m.\u001b[0m\u001b[0mT\u001b[0m\u001b[0;34m.\u001b[0m\u001b[0mdot\u001b[0m\u001b[0;34m(\u001b[0m\u001b[0my\u001b[0m \u001b[0;34m-\u001b[0m \u001b[0mprobs\u001b[0m\u001b[0;34m)\u001b[0m\u001b[0;34m\u001b[0m\u001b[0m\n\u001b[0;32m----> 5\u001b[0;31m     \u001b[0mstep\u001b[0m \u001b[0;34m=\u001b[0m \u001b[0msparse\u001b[0m\u001b[0;34m.\u001b[0m\u001b[0mlinalg\u001b[0m\u001b[0;34m.\u001b[0m\u001b[0minv\u001b[0m\u001b[0;34m(\u001b[0m\u001b[0mhessian\u001b[0m\u001b[0;34m(\u001b[0m\u001b[0mbeta\u001b[0m\u001b[0;34m,\u001b[0m \u001b[0mprobs\u001b[0m\u001b[0;34m)\u001b[0m\u001b[0;34m)\u001b[0m \u001b[0;34m*\u001b[0m \u001b[0mscore\u001b[0m\u001b[0;34m\u001b[0m\u001b[0m\n\u001b[0m\u001b[1;32m      6\u001b[0m     \u001b[0;32mreturn\u001b[0m \u001b[0mbeta\u001b[0m \u001b[0;34m-\u001b[0m \u001b[0mstep\u001b[0m\u001b[0;34m\u001b[0m\u001b[0m\n",
      "\u001b[0;32m<ipython-input-14-c1de78551475>\u001b[0m in \u001b[0;36mhessian\u001b[0;34m(beta, probs)\u001b[0m\n\u001b[1;32m      7\u001b[0m     \u001b[0;32mfor\u001b[0m \u001b[0mi\u001b[0m \u001b[0;32min\u001b[0m \u001b[0mrange\u001b[0m\u001b[0;34m(\u001b[0m\u001b[0mW\u001b[0m\u001b[0;34m.\u001b[0m\u001b[0mshape\u001b[0m\u001b[0;34m[\u001b[0m\u001b[0;36m0\u001b[0m\u001b[0;34m]\u001b[0m\u001b[0;34m)\u001b[0m\u001b[0;34m:\u001b[0m\u001b[0;34m\u001b[0m\u001b[0m\n\u001b[1;32m      8\u001b[0m         \u001b[0mW\u001b[0m\u001b[0;34m[\u001b[0m\u001b[0mi\u001b[0m\u001b[0;34m,\u001b[0m\u001b[0mi\u001b[0m\u001b[0;34m]\u001b[0m \u001b[0;34m=\u001b[0m \u001b[0mprobs\u001b[0m\u001b[0;34m[\u001b[0m\u001b[0mi\u001b[0m\u001b[0;34m]\u001b[0m \u001b[0;34m*\u001b[0m \u001b[0;34m(\u001b[0m\u001b[0;36m1\u001b[0m \u001b[0;34m-\u001b[0m \u001b[0mprobs\u001b[0m\u001b[0;34m[\u001b[0m\u001b[0mi\u001b[0m\u001b[0;34m]\u001b[0m\u001b[0;34m)\u001b[0m\u001b[0;34m\u001b[0m\u001b[0m\n\u001b[0;32m----> 9\u001b[0;31m     \u001b[0;32mreturn\u001b[0m \u001b[0mX\u001b[0m\u001b[0;34m.\u001b[0m\u001b[0mdot\u001b[0m\u001b[0;34m(\u001b[0m\u001b[0mW\u001b[0m\u001b[0;34m)\u001b[0m\u001b[0;34m.\u001b[0m\u001b[0mdot\u001b[0m\u001b[0;34m(\u001b[0m\u001b[0mX\u001b[0m\u001b[0;34m.\u001b[0m\u001b[0mT\u001b[0m\u001b[0;34m)\u001b[0m\u001b[0;34m\u001b[0m\u001b[0m\n\u001b[0m",
      "\u001b[0;32m/opt/conda/lib/python3.5/site-packages/scipy/sparse/base.py\u001b[0m in \u001b[0;36mdot\u001b[0;34m(self, other)\u001b[0m\n\u001b[1;32m    251\u001b[0m \u001b[0;34m\u001b[0m\u001b[0m\n\u001b[1;32m    252\u001b[0m         \"\"\"\n\u001b[0;32m--> 253\u001b[0;31m         \u001b[0;32mreturn\u001b[0m \u001b[0mself\u001b[0m \u001b[0;34m*\u001b[0m \u001b[0mother\u001b[0m\u001b[0;34m\u001b[0m\u001b[0m\n\u001b[0m\u001b[1;32m    254\u001b[0m \u001b[0;34m\u001b[0m\u001b[0m\n\u001b[1;32m    255\u001b[0m     \u001b[0;32mdef\u001b[0m \u001b[0mpower\u001b[0m\u001b[0;34m(\u001b[0m\u001b[0mself\u001b[0m\u001b[0;34m,\u001b[0m \u001b[0mn\u001b[0m\u001b[0;34m,\u001b[0m \u001b[0mdtype\u001b[0m\u001b[0;34m=\u001b[0m\u001b[0;32mNone\u001b[0m\u001b[0;34m)\u001b[0m\u001b[0;34m:\u001b[0m\u001b[0;34m\u001b[0m\u001b[0m\n",
      "\u001b[0;32m/opt/conda/lib/python3.5/site-packages/scipy/sparse/base.py\u001b[0m in \u001b[0;36m__mul__\u001b[0;34m(self, other)\u001b[0m\n\u001b[1;32m    316\u001b[0m         \u001b[0;32mif\u001b[0m \u001b[0missparse\u001b[0m\u001b[0;34m(\u001b[0m\u001b[0mother\u001b[0m\u001b[0;34m)\u001b[0m\u001b[0;34m:\u001b[0m\u001b[0;34m\u001b[0m\u001b[0m\n\u001b[1;32m    317\u001b[0m             \u001b[0;32mif\u001b[0m \u001b[0mself\u001b[0m\u001b[0;34m.\u001b[0m\u001b[0mshape\u001b[0m\u001b[0;34m[\u001b[0m\u001b[0;36m1\u001b[0m\u001b[0;34m]\u001b[0m \u001b[0;34m!=\u001b[0m \u001b[0mother\u001b[0m\u001b[0;34m.\u001b[0m\u001b[0mshape\u001b[0m\u001b[0;34m[\u001b[0m\u001b[0;36m0\u001b[0m\u001b[0;34m]\u001b[0m\u001b[0;34m:\u001b[0m\u001b[0;34m\u001b[0m\u001b[0m\n\u001b[0;32m--> 318\u001b[0;31m                 \u001b[0;32mraise\u001b[0m \u001b[0mValueError\u001b[0m\u001b[0;34m(\u001b[0m\u001b[0;34m'dimension mismatch'\u001b[0m\u001b[0;34m)\u001b[0m\u001b[0;34m\u001b[0m\u001b[0m\n\u001b[0m\u001b[1;32m    319\u001b[0m             \u001b[0;32mreturn\u001b[0m \u001b[0mself\u001b[0m\u001b[0;34m.\u001b[0m\u001b[0m_mul_sparse_matrix\u001b[0m\u001b[0;34m(\u001b[0m\u001b[0mother\u001b[0m\u001b[0;34m)\u001b[0m\u001b[0;34m\u001b[0m\u001b[0m\n\u001b[1;32m    320\u001b[0m \u001b[0;34m\u001b[0m\u001b[0m\n",
      "\u001b[0;31mValueError\u001b[0m: dimension mismatch"
     ]
    }
   ],
   "source": [
    "newton_step(beta_init)"
   ]
  },
  {
   "cell_type": "code",
   "execution_count": null,
   "metadata": {
    "collapsed": true
   },
   "outputs": [],
   "source": []
  },
  {
   "cell_type": "code",
   "execution_count": 261,
   "metadata": {
    "collapsed": false
   },
   "outputs": [],
   "source": [
    "# def newton_step(beta):\n",
    "#     exp_log_odds = np.exp(sparse.csr_matrix(beta).dot(X.T).A).T\n",
    "#     probs = 1 / (1 + exp_log_odds)\n",
    "#     W = sparse.eye(X.shape[0]).todok()\n",
    "#     for i in range(W.shape[0]):\n",
    "#         W[i,i] = probs[i] * (1 - probs[i])\n",
    "#     neg_hessian = X.T.dot(W).dot(X)\n",
    "#     z = X.dot(beta_init.T) + sparse.linalg.inv(W).dot(y - probs)\n",
    "#     return sparse.linalg.inv(neg_hessian).dot(X.T).dot(W).dot(z)"
   ]
  },
  {
   "cell_type": "code",
   "execution_count": 262,
   "metadata": {
    "collapsed": false
   },
   "outputs": [
    {
     "name": "stderr",
     "output_type": "stream",
     "text": [
      "/opt/conda/lib/python3.5/site-packages/scipy/sparse/linalg/dsolve/linsolve.py:96: SparseEfficiencyWarning: spsolve requires A be CSC or CSR matrix format\n",
      "  SparseEfficiencyWarning)\n",
      "/opt/conda/lib/python3.5/site-packages/scipy/sparse/linalg/dsolve/linsolve.py:161: SparseEfficiencyWarning: spsolve is more efficient when sparse b is in the CSC matrix format\n",
      "  'is in the CSC matrix format', SparseEfficiencyWarning)\n"
     ]
    },
    {
     "name": "stdout",
     "output_type": "stream",
     "text": [
      "(1000, 1000)\n"
     ]
    }
   ],
   "source": [
    "blah = newton_step(beta_init)"
   ]
  },
  {
   "cell_type": "code",
   "execution_count": 264,
   "metadata": {
    "collapsed": false
   },
   "outputs": [
    {
     "data": {
      "text/plain": [
       "(1001, 1000)"
      ]
     },
     "execution_count": 264,
     "metadata": {},
     "output_type": "execute_result"
    }
   ],
   "source": [
    "blah.shape"
   ]
  },
  {
   "cell_type": "code",
   "execution_count": 184,
   "metadata": {
    "collapsed": false
   },
   "outputs": [
    {
     "data": {
      "text/plain": [
       "array([  2.70204276e+00,   2.76429187e+00,   5.58362425e-01,\n",
       "        -1.01634160e+00,   1.07875911e+00,  -1.27428309e+00,\n",
       "        -3.41216610e+00,  -8.40907940e-01,  -5.10143886e-01,\n",
       "         6.02996776e-01,   8.20434544e-01,  -3.50662067e-01,\n",
       "         3.97704871e-01,  -4.02708565e-01,   7.75335602e-01,\n",
       "         5.21886513e-01,  -1.05050392e+00,   3.08184035e-01,\n",
       "         1.13945349e+00,   2.76649696e+00,  -3.22164883e-01,\n",
       "         3.54473398e+00,   4.58416638e-01,  -1.91768993e+00,\n",
       "        -2.33640645e+00,   4.07110326e-01,  -5.81651662e-01,\n",
       "         1.36781908e+00,   1.84321497e+00,   2.57525525e+00,\n",
       "        -4.68173934e-01,   2.03939389e+00,   4.15733948e+00,\n",
       "        -1.45878003e+00,  -3.75799297e+00,  -1.24915746e+00,\n",
       "        -2.30193874e-01,   9.51198491e-01,  -2.18020335e+00,\n",
       "        -1.56109670e+00,   6.96663464e-01,   2.17292772e-01,\n",
       "         1.19367612e+00,   8.05434313e-01,   1.32900854e+00,\n",
       "         1.53877239e+00,  -7.98181875e-01,   1.44063960e+00,\n",
       "         4.11104366e+00,   1.10919936e+00,   1.56528404e+00,\n",
       "         2.33363316e-01,   4.08425539e+00,  -1.37087686e-01,\n",
       "        -4.53642777e+00,   1.27484990e+00,  -1.19854006e+00,\n",
       "         3.05785056e+00,   1.95710693e-01,  -4.13006117e+00,\n",
       "        -3.83802242e-01,   3.60652345e+00,  -3.06690159e-02,\n",
       "        -7.49018240e-02,   2.70854138e+00,   4.32776621e+00,\n",
       "         5.21100322e-01,  -8.14436903e-01,   1.39466776e+00,\n",
       "         2.32535786e-01,   2.60391462e-01,   5.24832219e+00,\n",
       "         1.36981914e-01,  -3.75724812e-01,  -2.40924747e-01,\n",
       "        -7.79253643e-01,  -8.40179294e-01,   1.59034870e+00,\n",
       "         5.32931583e-01,  -1.20310581e+00,   4.48668308e+00,\n",
       "         1.48484302e+00,   1.07459247e-01,   9.72420472e-01,\n",
       "         2.48848390e+00,   3.85825090e+00,   9.41659790e-01,\n",
       "         7.51256200e-01,  -4.56525128e+00,   7.76486787e-01,\n",
       "         1.64809345e+00,  -6.88047366e-01,   2.57517371e+00,\n",
       "         4.00804530e-01,   1.06511459e-01,   1.76442497e+00,\n",
       "         2.83411953e+00,   2.90335813e+00,  -2.47903519e+00,\n",
       "         5.44196786e-01,   4.43503155e-01,   5.53594023e-01,\n",
       "        -9.79034749e-01,  -3.15462018e-01,   2.41378827e-01,\n",
       "        -1.04572984e+00,  -1.23334436e+00,   2.97861636e+00,\n",
       "         1.51727776e+00,  -3.30380060e-01,  -2.00853191e+00,\n",
       "         1.32351264e+00,   2.22967302e+00,  -1.39220605e+00,\n",
       "         2.77485478e-01,   2.36043913e+00,   2.92288115e+00,\n",
       "        -6.81879630e-01,  -2.17377818e+00,  -2.77895786e-01,\n",
       "        -2.51578958e+00,   6.47235169e-02,  -2.81460500e+00,\n",
       "        -2.08113168e+00,   3.89181073e-01,  -2.39180707e-01,\n",
       "         7.80271817e-01,  -1.91436745e+00,   1.26761957e+00,\n",
       "        -1.33231854e-01,   9.14403869e-01,   1.66064223e+00,\n",
       "        -2.73035919e+00,   1.84016483e+00,   2.44521759e+00,\n",
       "         4.76502261e-01,  -2.10175728e+00,  -1.02179795e+00,\n",
       "         6.72982183e-01,   1.88827668e+00,   1.90010317e-01,\n",
       "         3.64287540e+00,   4.57597518e-01,  -7.44763154e-01,\n",
       "        -8.62957842e-01,   1.05679528e+00,  -4.61109893e-02,\n",
       "         1.05519583e+00,   7.14670255e-01,  -3.94440344e+00,\n",
       "        -2.84296695e+00,   1.28170068e+00,  -7.15764853e-01,\n",
       "        -4.07167065e-01,  -2.84147501e+00,   2.09982652e+00,\n",
       "        -4.41284835e+00,  -1.47356996e+00,  -1.02235291e+00,\n",
       "        -1.45141901e+00,   2.62150757e+00,   4.30272045e+00,\n",
       "        -5.76478782e-01,   3.43370376e-02,   1.01543200e+00,\n",
       "         8.18088529e-01,   6.98003646e-02,   5.88584945e+00,\n",
       "        -1.82858100e+00,  -2.03192882e+00,   2.20251141e-01,\n",
       "        -2.49952855e+00,   7.68006487e-02,  -3.81587577e+00,\n",
       "         7.78751064e-02,   5.23390711e-02,  -6.40103814e-01,\n",
       "        -1.44355624e-01,  -9.88017597e-01,   1.10767062e+00,\n",
       "         1.93363779e+00,  -4.26376269e-01,   1.98862606e-01,\n",
       "         3.71655586e-01,  -8.54383772e-01,  -1.47730677e+00,\n",
       "         8.73380641e-01,   4.09690453e+00,   1.86740695e+00,\n",
       "         4.55830804e+00,  -1.76753989e+00,  -2.37747588e+00,\n",
       "         2.17592342e+00,   7.43328352e-01,  -8.70920348e-01,\n",
       "         3.06409042e+00,   5.29949846e-01,   4.60702248e+00,\n",
       "        -1.84481773e+00,  -7.06444833e-01,   2.90536278e+00,\n",
       "        -5.28685895e+00,  -1.19190097e+00,   4.15732809e+00,\n",
       "         2.23603710e-01,   1.15216821e+00,  -2.42364138e+00,\n",
       "        -1.14074439e+00,   2.00989382e-01,  -1.08416385e-01,\n",
       "         5.48134868e-01,  -2.93112811e+00,  -1.23939993e+00,\n",
       "        -2.15774523e+00,  -3.66416768e-02,   1.65809921e+00,\n",
       "        -2.11675929e+00,   7.12468257e-01,  -1.90708458e+00,\n",
       "        -2.21943429e-01,   2.51386960e+00,  -1.39802990e+00,\n",
       "        -9.40731835e-01,   6.65782775e-01,   3.60210060e-01,\n",
       "         8.89856150e-01,   9.42986333e-01,  -3.30555714e-01,\n",
       "         1.33450455e+00,  -7.56363011e-01,   2.89267967e+00,\n",
       "        -4.45617785e-01,   1.64325896e-01,  -1.07289001e+00,\n",
       "         2.39997851e+00,   3.20161265e-01,   1.47667548e+00,\n",
       "         2.53102243e-01,   9.98961788e-02,   1.49545045e+00,\n",
       "         1.77356852e+00,  -5.37833374e-01,  -1.15274991e+00,\n",
       "         1.91199573e+00,  -9.62296562e-01,   9.56098618e-01,\n",
       "        -2.03979766e+00,  -3.88525313e-01,   1.18348649e+00,\n",
       "        -1.31957704e-02,  -1.03648800e+00,   2.51109442e+00,\n",
       "         2.56111359e-01,  -2.79870036e+00,  -5.54259132e-01,\n",
       "        -1.41533228e-01,  -4.44380399e+00,   1.07342733e-01,\n",
       "         1.18884186e+00,   1.08130498e+00,  -1.56618930e+00,\n",
       "        -1.51203199e-01,   2.85369141e+00,   3.88923376e+00,\n",
       "         1.15027523e+00,   3.71770582e+00,  -1.08862637e+00,\n",
       "         1.70532993e+00,  -2.32270995e+00,   1.69309483e+00,\n",
       "         2.09486780e+00,   8.74348074e-01,  -2.36658824e+00,\n",
       "        -7.70518756e-01,   3.57860689e+00,  -3.82110771e-01,\n",
       "         2.28824239e+00,   4.23184335e-01,  -9.04990716e-01,\n",
       "         9.58268569e-03,  -1.08306210e+00,  -3.28164871e+00,\n",
       "        -7.09408045e-01,  -3.46316117e-01,  -1.24532581e+00,\n",
       "        -1.01961030e+00,   5.82034831e-01,   5.98111351e-01,\n",
       "         5.30847935e+00,   1.08428091e+00,  -1.77838001e-01,\n",
       "         1.76217597e+00,   2.26934564e-01,  -9.24700305e-01,\n",
       "        -1.70192672e+00,  -4.00716926e+00,  -1.31915351e+00,\n",
       "        -1.85126293e+00,  -3.73925693e-01,  -1.31005509e-01,\n",
       "        -1.00705108e-03,  -2.46302510e+00,  -1.02104780e+00,\n",
       "        -1.03591488e+00,  -2.17329476e+00,   1.10035969e+00,\n",
       "        -1.26794594e+00,  -1.15090519e+00,   1.36416980e+00,\n",
       "        -8.07321092e-01,  -1.62755121e+00,   2.58446051e+00,\n",
       "        -2.03982669e+00,  -5.86645305e-03,  -2.52819131e+00,\n",
       "        -8.03301170e-01,   9.77621593e-01,  -1.02949946e+00,\n",
       "         7.54267618e-01,  -8.96652109e-01,   5.69012966e-01,\n",
       "         3.37338298e-01,   5.36506577e+00,   8.23728987e-01,\n",
       "         2.76314869e+00,  -2.18209408e+00,  -1.88944825e-01,\n",
       "         3.09086486e-01,  -4.12214366e-01,   1.18351881e+00,\n",
       "        -1.45030474e+00,   2.60672658e+00,  -5.08450582e-01,\n",
       "         1.78445576e+00,  -8.49072078e-01,   2.08959502e-02,\n",
       "        -1.50405025e+00,  -3.31458943e+00,   3.41839015e+00,\n",
       "        -2.30034227e+00,   6.54217770e+00,   1.42427915e+00,\n",
       "        -1.57795832e+00,  -7.45386961e-01,   3.44629551e+00,\n",
       "         6.14932713e-01,   5.20341288e-01,   2.67419454e+00,\n",
       "         1.23879126e+00,  -1.60453189e+00,   1.24658903e+00,\n",
       "         2.50293762e+00,   7.17826852e-01,  -5.45433023e-01,\n",
       "         7.53148875e-01,   4.37136661e+00,  -3.15682913e+00,\n",
       "         2.37344091e+00,   1.10726032e-01,  -1.98398285e+00,\n",
       "         2.08084548e+00,  -1.79198902e+00,   5.13877456e-01,\n",
       "        -1.53648244e+00,  -2.21825492e-01,   4.71303307e-01,\n",
       "         3.71670311e+00,   1.26012720e+00,   3.60163471e+00,\n",
       "         1.01845697e+00,   9.76619408e-01,  -1.24882000e+00,\n",
       "        -2.17039353e+00,   3.31971865e+00,  -1.58484935e+00,\n",
       "        -9.61086021e-01,   1.46280156e-01,  -1.72946444e+00,\n",
       "        -4.99543566e-02,  -1.08908735e+00,   7.82057681e-01,\n",
       "         2.74394305e-01,  -8.46952397e-01,  -5.16730862e-01,\n",
       "         2.73075095e+00,   3.31600034e-01,   4.52297351e+00,\n",
       "         1.95231655e+00,   2.80559568e+00,  -6.09160028e-01,\n",
       "        -2.12027237e+00,  -6.18861962e-01,   1.02211238e+00,\n",
       "        -4.30133628e-01,  -1.31730506e+00,  -4.32326442e-01,\n",
       "        -7.25399334e-01,  -9.50350443e-01,   9.25520033e-01,\n",
       "        -7.91574308e-01,  -1.22799850e+00,   2.77789093e+00,\n",
       "        -1.28281656e+00,  -3.65944095e-01,   2.63525117e+00,\n",
       "        -1.39753904e+00,   4.94232389e-01,  -5.09216068e-02,\n",
       "         9.07701889e-01,   8.71999460e-01,  -4.15728025e+00,\n",
       "        -9.39977658e-01,  -2.14136506e+00,   2.09354861e+00,\n",
       "         2.58451730e+00,   3.68011497e+00,   3.45863207e-01,\n",
       "        -9.09870156e-02,  -3.69386608e-01,   1.27586809e+00,\n",
       "         3.65089552e+00,   8.26968183e-01,   8.06718901e-01,\n",
       "         8.83510187e-01,   1.18027696e-01,  -2.27595493e+00,\n",
       "         1.13155178e+00,  -2.53053559e-01,   2.82688028e+00,\n",
       "        -3.55266258e+00,   8.34707898e-01,   1.20148049e+00,\n",
       "         1.86079712e+00,   2.04542595e+00,  -5.70419637e-01,\n",
       "         3.37018683e-01,  -1.87411461e+00,   2.38685770e+00,\n",
       "         1.48303644e+00,   4.39898721e+00,   1.14461208e+00,\n",
       "        -1.15967220e+00,   6.92287303e-01,   1.82951080e+00,\n",
       "        -1.16519632e-01,  -1.78911682e-01,   8.12602622e-01,\n",
       "         5.94516643e-01,   1.30837365e+00,  -1.87218749e+00,\n",
       "         3.77857170e-01,  -2.82681528e+00,   2.77193830e+00,\n",
       "        -1.54909167e+00,  -2.97981351e-01,   6.22418212e-01,\n",
       "         1.36648438e+00,   2.64849306e+00,   1.94273902e+00,\n",
       "        -1.78356569e-01,   1.22880311e+00,  -1.44206436e-01,\n",
       "        -5.01148880e+00,   3.07094740e+00,  -1.20010185e+00,\n",
       "         9.73937146e-01,   9.01642190e-01,   3.09920936e+00,\n",
       "        -8.77343583e-01,   2.42260317e+00,  -2.04582724e+00,\n",
       "         7.53515705e-01,  -1.32266557e+00,   2.39137234e+00,\n",
       "         2.31237952e+00,   1.35447307e+00,   1.12804826e+00,\n",
       "         3.50758398e-02,   1.86509149e+00,   8.69830614e-01,\n",
       "         5.98079040e-01,  -2.00157079e-01,  -9.01048842e-01,\n",
       "        -2.54959637e+00,   1.53702346e+00,  -9.52549288e-01,\n",
       "        -1.48456898e-01,  -4.84801932e-01,   2.93260009e-01,\n",
       "         4.29159200e+00,   2.65536381e+00,  -7.46714977e-01,\n",
       "         5.38275845e-01,   3.81324101e+00,   1.21542819e+00,\n",
       "        -6.88781053e-01,   1.26187850e+00,   1.70638332e+00,\n",
       "        -5.30930038e-01,   5.57124387e-01,   1.44048717e+00,\n",
       "         1.21714551e-01,  -1.81131528e+00,  -5.78728910e-01,\n",
       "         1.41306574e+00,  -2.49719695e+00,   2.64370496e+00,\n",
       "        -5.26117259e-01,  -1.92716611e+00,  -1.67971380e+00,\n",
       "        -8.20144039e-01,  -7.47168261e-01,   8.84972869e-01,\n",
       "        -1.46285246e+00,   1.70517661e+00,   5.89733717e-01,\n",
       "         9.06360487e-01,   3.48452447e+00,   2.72646746e+00,\n",
       "         1.22165439e+00,   1.14244372e+00,   1.58363886e+00,\n",
       "        -2.17253362e+00,   1.59342814e+00,   3.10037997e+00,\n",
       "        -1.89442456e-01,  -3.16272705e+00,   7.28735205e-01,\n",
       "         2.75692079e+00,  -1.39236903e+00,  -1.34968839e+00,\n",
       "         2.58381950e+00,   8.60236221e-01,  -2.30092105e+00,\n",
       "        -2.43599654e-01,  -8.14931984e-02,   1.12476585e+00,\n",
       "        -6.57086733e-01,  -1.06656886e+00,  -2.63398616e+00,\n",
       "         1.17095809e+00,   4.68660768e-01,  -5.47623633e-01,\n",
       "         9.36963867e-01,   9.07731346e-01,   2.14163936e+00,\n",
       "        -1.03697762e+00,  -1.45897105e+00,  -5.29325429e-01,\n",
       "         4.50724850e-01,   1.38307228e+00,   2.88914643e-01,\n",
       "         2.58944662e+00,   2.65629150e-01,   1.42261404e+00,\n",
       "        -5.17173761e-01,  -8.02838491e-01,  -3.02570780e-01,\n",
       "         2.45020684e+00,  -1.21271530e+00,   1.86859821e+00,\n",
       "         4.31939778e+00,   1.24466299e+00,   2.16954517e+00,\n",
       "        -5.02177747e-02,  -1.11397728e-01,   6.00898016e-01,\n",
       "         5.47821975e-01,   1.10582979e+00,  -2.10385683e+00,\n",
       "        -1.82264034e+00,   1.47829784e+00,  -6.61675465e-01,\n",
       "        -3.12689489e-01,   4.33400275e+00,   7.88963628e-01,\n",
       "         9.96237231e-01,   3.08104882e+00,  -1.56843171e+00,\n",
       "        -7.74311175e-01,   3.52338627e+00,   3.01163424e-01,\n",
       "         3.04604482e+00,   1.91725965e+00,  -1.00802027e-01,\n",
       "         1.18536822e+00,   2.44094477e+00,   1.87759487e+00,\n",
       "        -4.14124976e+00,  -2.54803453e+00,   3.77587974e+00,\n",
       "         6.03850399e+00,  -1.23651522e+00,   1.72215117e-01,\n",
       "         1.02211058e+00,   7.76971040e-01,   3.49753226e+00,\n",
       "        -1.63933832e+00,  -8.07593940e-01,   1.13189288e-01,\n",
       "         1.01867539e+00,  -1.72833619e+00,  -1.11693884e-01,\n",
       "         7.87791608e-01,  -2.35808817e-01,   9.91875079e-01,\n",
       "        -2.00254569e+00,  -1.68531511e-01,  -5.28838894e+00,\n",
       "        -8.67256599e-02,   1.48377527e+00,   1.63029937e-01,\n",
       "        -1.40251996e-01,   1.24880301e+00,  -6.69276469e-02,\n",
       "         8.84729842e-01,   3.44808270e-02,   1.09167076e+00,\n",
       "         5.68627885e-02,  -1.64224256e-01,   2.26032559e+00,\n",
       "         9.65455526e-01,   1.65330322e-01,   2.23444076e+00,\n",
       "        -1.08893476e+00,  -5.21756590e-01,   7.34304330e-02,\n",
       "         3.12881201e+00,  -5.21871369e-01,   3.93566979e-01,\n",
       "         3.53275884e-01,   1.79592603e+00,  -5.00281223e-01,\n",
       "        -1.68236693e+00,   7.70069476e-01,   2.00963743e+00,\n",
       "        -7.74969954e-01,   1.04862302e+00,  -2.60031449e+00,\n",
       "         7.89025877e-01,   2.18122797e+00,   1.85558143e+00,\n",
       "         6.50471052e-01,  -1.67644327e+00,  -1.17761007e+00,\n",
       "        -2.13287484e+00,  -1.76552947e+00,   3.65115100e+00,\n",
       "         1.32750944e+00,  -4.50553216e+00,   1.60291123e+00,\n",
       "        -8.84546434e-01,   1.29338144e+00,   2.13988116e+00,\n",
       "         1.59701281e+00,   3.08848783e+00,  -9.52579127e-01,\n",
       "         1.74241613e+00,   1.37503470e+00,   1.95866046e+00,\n",
       "         1.48809342e+00,  -2.04588465e-01,  -2.07749945e-01,\n",
       "        -1.44539496e+00,   4.50876314e-01,  -4.29782108e+00,\n",
       "        -1.05186085e+00,  -5.48359490e-01,  -1.16836120e+00,\n",
       "         7.41812854e-02,  -1.91611893e+00,   1.86561367e+00,\n",
       "         1.03788276e+00,   1.23229630e+00,   7.51316918e-01,\n",
       "        -7.50281614e-01,  -3.93424748e+00,   3.21046725e+00,\n",
       "         5.31177982e+00,  -2.51056019e+00,   3.62524625e+00,\n",
       "         1.76942507e+00,   1.24922278e-01,   1.70095661e+00,\n",
       "         3.49538103e-01,   1.78781554e+00,  -1.97938407e+00,\n",
       "         1.65792633e-01,   3.47138430e+00,  -1.45997827e+00,\n",
       "        -8.77555785e-01,   1.35395841e-01,  -1.04247167e+00,\n",
       "         1.60813076e+00,   3.46546156e+00,   8.54899644e-01,\n",
       "         4.47084452e+00,   1.21897108e+00,   2.97093049e-01,\n",
       "        -1.88707834e-01,  -1.73130329e+00,   5.00164343e-01,\n",
       "         1.70943633e-01,  -1.17468681e+00,  -2.19544437e+00,\n",
       "        -2.90158589e-01,   1.05954301e+00,  -7.78638978e-01,\n",
       "         1.95858509e+00,  -1.58313477e+00,  -8.94773224e-02,\n",
       "         3.99417959e-01,  -2.99293057e-02,  -8.03048238e-02,\n",
       "         6.04867256e-02,  -5.27029109e-01,  -1.29192876e+00,\n",
       "        -4.11464656e+00,  -6.55252164e-01,  -7.37088319e-01,\n",
       "         1.15654127e+00,  -1.60821700e+00,  -2.11200317e+00,\n",
       "         1.17414656e+00,   9.51838367e-01,  -1.59764234e+00,\n",
       "        -1.52664739e+00,  -2.13224210e-03,  -3.19520651e+00,\n",
       "         4.71746994e-01,  -6.95256678e-01,   1.67658790e+00,\n",
       "         1.21761722e+00,   1.32563431e+00,  -2.00844276e-01,\n",
       "         1.16151724e+00,   1.14078173e+00,  -1.66511505e+00,\n",
       "         5.87777699e-01,   9.55316293e-01,  -2.87746694e+00,\n",
       "        -1.74186030e+00,   1.75424185e+00,   1.44913160e+00,\n",
       "        -2.16000483e+00,  -9.02429010e-01,   2.63190066e+00,\n",
       "         1.80495287e+00,  -2.74988641e+00,   1.76880163e-02,\n",
       "         4.17267927e-01,   1.10227763e+00,  -1.86423680e+00,\n",
       "         2.00386116e+00,  -3.53699455e+00,  -5.77286851e-01,\n",
       "         1.12365670e-02,  -9.73079229e-01,  -2.37633461e+00,\n",
       "         2.45752170e+00,  -7.49982030e-02,   1.23470622e+00,\n",
       "         5.70873632e-01,  -1.32518790e+00,  -1.42643696e+00,\n",
       "         5.27360124e+00,  -1.87916434e+00,  -7.09697633e-02,\n",
       "        -1.60035714e+00,   4.80989131e-01,  -7.36112839e-01,\n",
       "         8.12272310e-01,   3.40232030e+00,   2.55701319e+00,\n",
       "         1.22002450e+00,  -1.96813732e+00,   1.14001283e+00,\n",
       "        -1.37094885e-01,  -1.25631644e+00,   4.24107387e-01,\n",
       "        -5.19680336e-02,   2.81395563e-01,   5.09395944e-01,\n",
       "         2.84608561e+00,   1.05128869e+00,   2.54828454e-01,\n",
       "        -6.43022087e-01,   2.22039133e+00,   2.98693111e-01,\n",
       "        -3.43500772e+00,  -8.40503906e-01,  -4.23129415e+00,\n",
       "         1.91157904e+00,   9.98413376e-01,   7.76843512e-01,\n",
       "         1.78384578e+00,  -3.89891119e-01,   1.61253258e+00,\n",
       "        -3.45373107e-01,   6.97801002e-01,  -2.06424479e+00,\n",
       "         1.51176574e+00,  -1.42358667e+00,  -3.17292032e+00,\n",
       "        -1.16751641e+00,   1.09893627e+00,   1.27975642e-01,\n",
       "         2.87148784e+00,   1.05584584e+00,   8.67704073e-01,\n",
       "         6.64570044e-01,  -1.24484043e+00,   6.39211717e-01,\n",
       "        -2.07600845e-01,   5.72173250e-01,   9.80528457e-02,\n",
       "        -1.99280839e+00,   2.17877077e-01,   4.25243131e+00,\n",
       "        -1.16614149e+00,   4.35424118e+00,   2.02989281e-01,\n",
       "        -1.97147101e+00,  -7.69354925e-01,   1.03404829e+00,\n",
       "         5.51308002e-01,  -4.13225045e+00,  -1.39043018e+00,\n",
       "         1.06748896e-01,   2.45534062e+00,   1.26155075e+00,\n",
       "         1.00635179e+00,  -1.00394445e+00,   2.06807022e+00,\n",
       "         1.16161489e+00,   3.28932995e+00,   1.72483436e+00,\n",
       "         1.06978588e-01,   3.29293802e-01,   3.36077996e-01,\n",
       "        -1.14861241e+00,   1.62405837e+00,   2.87834583e+00,\n",
       "        -9.19084568e-02,  -3.18071091e-01,   2.05893176e+00,\n",
       "         8.12551512e-01,   1.86214188e+00,   6.45618670e-01,\n",
       "        -6.24532788e-01,   2.67482034e+00,   2.32995594e+00,\n",
       "        -3.04107485e+00,  -1.77496182e+00,   8.42722279e-01,\n",
       "         7.51882400e-01,  -3.82160704e-01,  -8.60325467e-02,\n",
       "         2.38267465e+00,  -2.37459769e+00,   4.43138965e+00,\n",
       "        -3.29900628e-01,   1.47665698e+00,   8.62098666e-02,\n",
       "         8.87390205e-01,   1.06356645e+00,  -3.01891140e+00,\n",
       "        -1.49776928e+00,  -2.03613119e+00,  -3.14000528e+00,\n",
       "         1.02495610e+00,  -3.01526328e-01,  -7.69003799e-01,\n",
       "        -1.33928209e+00,   2.62612674e+00,  -1.02824747e+00,\n",
       "         9.87452474e-01,   6.14225308e-01,  -1.83732399e+00,\n",
       "        -3.25105856e-01,   8.21771872e-01,   3.07894570e+00,\n",
       "         2.79343294e-01,   4.65840148e+00,  -2.19701658e+00,\n",
       "        -8.18979894e-01,   9.89106290e-01,   3.66189079e+00,\n",
       "        -4.91663031e+00,  -2.96881203e+00,  -2.93822942e+00,\n",
       "         4.59770701e-01,  -3.33980869e-01,   5.45110319e-01,\n",
       "        -1.70305231e+00,   3.54271611e-01,  -1.89028713e+00,\n",
       "         7.62029816e-01,   1.31970858e+00,   1.08647705e+00,\n",
       "        -1.06232625e+00,  -1.49230348e+00,   2.18158855e+00,\n",
       "        -7.08047848e-01,   1.69664827e+00,  -8.15259527e-01,\n",
       "        -7.81883083e-01,   5.20556232e-01,   2.46950147e-01,\n",
       "         3.74973481e-01,  -3.19238787e+00,   1.40462710e+00,\n",
       "        -1.96425974e+00,  -1.62650564e-01,   1.03088109e+00,\n",
       "         6.79355102e-01,   2.05714133e+00,   2.81941885e+00,\n",
       "         1.69131445e+00,  -2.97311272e+00,  -3.65601737e-01,\n",
       "        -1.17281689e+00,  -1.21530817e+00,   6.02794573e-01,\n",
       "        -4.93395137e-02,  -5.67506641e-01,   2.28239434e+00,\n",
       "         2.57063099e-01,   9.37116517e-01,   1.41986143e+00,\n",
       "        -3.68767912e+00,  -4.14655278e-01,  -3.40246764e-02,\n",
       "         1.10353026e+00,   1.26959748e+00,  -2.18558248e+00,\n",
       "         1.63374595e+00,   4.76468803e-01,   3.95890645e+00,\n",
       "        -1.96746561e+00,   8.58129927e-01,   3.73012276e+00,\n",
       "        -2.35670726e+00,   4.73817244e+00,   1.71850408e+00,\n",
       "         1.10057592e+00,   5.52930393e-01,  -3.66876498e+00,\n",
       "        -7.88696302e-01,  -5.47929667e-01,  -1.56142186e-01,\n",
       "        -7.03403941e-01,   2.10472084e+00,   1.83958544e+00,\n",
       "        -3.54594016e-01,  -1.20268559e+00,  -2.12179081e-01,\n",
       "        -1.17243949e+00,  -3.56420946e-02,   3.17079919e-02,\n",
       "        -1.27595236e+00,   3.09284484e-01,   2.62968603e+00,\n",
       "         1.33342127e+00,   4.41204805e-01,   1.02801755e+00,\n",
       "        -5.05772067e+00,   3.27111902e+00,   1.10411800e-01,\n",
       "         5.41035307e+00,   1.93902764e-01,  -2.41940524e+00,\n",
       "         2.72297255e+00,  -1.37791629e-02,   3.90775762e+00,\n",
       "         2.76617085e+00,   1.05598518e+00,  -1.93417029e+00,\n",
       "        -1.34163752e-01,   2.41730691e+00,  -2.17420667e+00,\n",
       "         1.51770924e+00,  -5.47421363e-01,   1.24960425e+00,\n",
       "        -1.19823716e-01,   1.43834448e+00,  -3.93678455e-01,\n",
       "         1.11082208e+00,   1.51247338e+00,   2.49087425e+00,\n",
       "         1.33089102e+00,  -1.14212926e+00,   3.51652030e-01,\n",
       "         9.17138407e-01,   2.50327894e+00,   2.23809416e+00,\n",
       "         7.35963229e-01,  -1.17083954e-01,   1.96983573e+00,\n",
       "        -1.22471024e+00])"
      ]
     },
     "execution_count": 184,
     "metadata": {},
     "output_type": "execute_result"
    }
   ],
   "source": [
    "sparse.csr_matrix(beta_init).dot(X.T)"
   ]
  },
  {
   "cell_type": "code",
   "execution_count": null,
   "metadata": {
    "collapsed": true
   },
   "outputs": [],
   "source": []
  },
  {
   "cell_type": "code",
   "execution_count": null,
   "metadata": {
    "collapsed": true
   },
   "outputs": [],
   "source": []
  },
  {
   "cell_type": "code",
   "execution_count": null,
   "metadata": {
    "collapsed": true
   },
   "outputs": [],
   "source": []
  },
  {
   "cell_type": "code",
   "execution_count": null,
   "metadata": {
    "collapsed": true
   },
   "outputs": [],
   "source": []
  },
  {
   "cell_type": "code",
   "execution_count": null,
   "metadata": {
    "collapsed": true
   },
   "outputs": [],
   "source": []
  },
  {
   "cell_type": "code",
   "execution_count": 19,
   "metadata": {
    "collapsed": true
   },
   "outputs": [],
   "source": [
    "def log_likelihood_multiclass(beta):\n",
    "    num_classes = len(set(y))\n",
    "    beta = beta.reshape((num_classes - 1, X.shape[1]))\n",
    "    ll = 0.\n",
    "    for n in range(X.shape[0]):\n",
    "        for j in range(num_classes - 1):\n",
    "            log_prob_not_event = np.log(np.sum(np.exp(X[n, :].dot(beta.T))))\n",
    "            if y[n] == j:\n",
    "                log_prob_event = np.sum(X[n, :].dot(beta.T))\n",
    "                ll += log_prob_event - log_prob_not_event\n",
    "            else:\n",
    "                ll += -log_prob_not_event\n",
    "    return ll"
   ]
  },
  {
   "cell_type": "code",
   "execution_count": 26,
   "metadata": {
    "collapsed": false
   },
   "outputs": [
    {
     "data": {
      "text/plain": [
       "-2777.6104545115936"
      ]
     },
     "execution_count": 26,
     "metadata": {},
     "output_type": "execute_result"
    }
   ],
   "source": [
    "log_likelihood(beta_init.ravel())"
   ]
  },
  {
   "cell_type": "code",
   "execution_count": null,
   "metadata": {
    "collapsed": true
   },
   "outputs": [],
   "source": []
  },
  {
   "cell_type": "code",
   "execution_count": null,
   "metadata": {
    "collapsed": true
   },
   "outputs": [],
   "source": []
  },
  {
   "cell_type": "code",
   "execution_count": null,
   "metadata": {
    "collapsed": true
   },
   "outputs": [],
   "source": []
  },
  {
   "cell_type": "code",
   "execution_count": null,
   "metadata": {
    "collapsed": true
   },
   "outputs": [],
   "source": []
  },
  {
   "cell_type": "code",
   "execution_count": 31,
   "metadata": {
    "collapsed": false
   },
   "outputs": [
    {
     "ename": "KeyboardInterrupt",
     "evalue": "",
     "output_type": "error",
     "traceback": [
      "\u001b[0;31m---------------------------------------------------------------------------\u001b[0m",
      "\u001b[0;31mKeyboardInterrupt\u001b[0m                         Traceback (most recent call last)",
      "\u001b[0;32m<ipython-input-31-cd6cf7975226>\u001b[0m in \u001b[0;36m<module>\u001b[0;34m()\u001b[0m\n\u001b[0;32m----> 1\u001b[0;31m \u001b[0mres\u001b[0m \u001b[0;34m=\u001b[0m \u001b[0mminimize\u001b[0m\u001b[0;34m(\u001b[0m\u001b[0mlog_likelihood\u001b[0m\u001b[0;34m,\u001b[0m \u001b[0mbeta_init\u001b[0m\u001b[0;34m.\u001b[0m\u001b[0mravel\u001b[0m\u001b[0;34m(\u001b[0m\u001b[0;34m)\u001b[0m\u001b[0;34m,\u001b[0m \u001b[0mmethod\u001b[0m\u001b[0;34m=\u001b[0m\u001b[0;34m'L-BFGS-B'\u001b[0m\u001b[0;34m)\u001b[0m\u001b[0;34m\u001b[0m\u001b[0m\n\u001b[0m",
      "\u001b[0;32m/opt/conda/lib/python3.5/site-packages/scipy/optimize/_minimize.py\u001b[0m in \u001b[0;36mminimize\u001b[0;34m(fun, x0, args, method, jac, hess, hessp, bounds, constraints, tol, callback, options)\u001b[0m\n\u001b[1;32m    445\u001b[0m     \u001b[0;32melif\u001b[0m \u001b[0mmeth\u001b[0m \u001b[0;34m==\u001b[0m \u001b[0;34m'l-bfgs-b'\u001b[0m\u001b[0;34m:\u001b[0m\u001b[0;34m\u001b[0m\u001b[0m\n\u001b[1;32m    446\u001b[0m         return _minimize_lbfgsb(fun, x0, args, jac, bounds,\n\u001b[0;32m--> 447\u001b[0;31m                                 callback=callback, **options)\n\u001b[0m\u001b[1;32m    448\u001b[0m     \u001b[0;32melif\u001b[0m \u001b[0mmeth\u001b[0m \u001b[0;34m==\u001b[0m \u001b[0;34m'tnc'\u001b[0m\u001b[0;34m:\u001b[0m\u001b[0;34m\u001b[0m\u001b[0m\n\u001b[1;32m    449\u001b[0m         return _minimize_tnc(fun, x0, args, jac, bounds, callback=callback,\n",
      "\u001b[0;32m/opt/conda/lib/python3.5/site-packages/scipy/optimize/lbfgsb.py\u001b[0m in \u001b[0;36m_minimize_lbfgsb\u001b[0;34m(fun, x0, args, jac, bounds, disp, maxcor, ftol, gtol, eps, maxfun, maxiter, iprint, callback, maxls, **unknown_options)\u001b[0m\n\u001b[1;32m    328\u001b[0m                 \u001b[0;31m# minimization routine wants f and g at the current x\u001b[0m\u001b[0;34m\u001b[0m\u001b[0;34m\u001b[0m\u001b[0m\n\u001b[1;32m    329\u001b[0m                 \u001b[0;31m# Overwrite f and g:\u001b[0m\u001b[0;34m\u001b[0m\u001b[0;34m\u001b[0m\u001b[0m\n\u001b[0;32m--> 330\u001b[0;31m                 \u001b[0mf\u001b[0m\u001b[0;34m,\u001b[0m \u001b[0mg\u001b[0m \u001b[0;34m=\u001b[0m \u001b[0mfunc_and_grad\u001b[0m\u001b[0;34m(\u001b[0m\u001b[0mx\u001b[0m\u001b[0;34m)\u001b[0m\u001b[0;34m\u001b[0m\u001b[0m\n\u001b[0m\u001b[1;32m    331\u001b[0m         \u001b[0;32melif\u001b[0m \u001b[0mtask_str\u001b[0m\u001b[0;34m.\u001b[0m\u001b[0mstartswith\u001b[0m\u001b[0;34m(\u001b[0m\u001b[0;34mb'NEW_X'\u001b[0m\u001b[0;34m)\u001b[0m\u001b[0;34m:\u001b[0m\u001b[0;34m\u001b[0m\u001b[0m\n\u001b[1;32m    332\u001b[0m             \u001b[0;31m# new iteration\u001b[0m\u001b[0;34m\u001b[0m\u001b[0;34m\u001b[0m\u001b[0m\n",
      "\u001b[0;32m/opt/conda/lib/python3.5/site-packages/scipy/optimize/lbfgsb.py\u001b[0m in \u001b[0;36mfunc_and_grad\u001b[0;34m(x)\u001b[0m\n\u001b[1;32m    272\u001b[0m         \u001b[0;32mdef\u001b[0m \u001b[0mfunc_and_grad\u001b[0m\u001b[0;34m(\u001b[0m\u001b[0mx\u001b[0m\u001b[0;34m)\u001b[0m\u001b[0;34m:\u001b[0m\u001b[0;34m\u001b[0m\u001b[0m\n\u001b[1;32m    273\u001b[0m             \u001b[0mf\u001b[0m \u001b[0;34m=\u001b[0m \u001b[0mfun\u001b[0m\u001b[0;34m(\u001b[0m\u001b[0mx\u001b[0m\u001b[0;34m,\u001b[0m \u001b[0;34m*\u001b[0m\u001b[0margs\u001b[0m\u001b[0;34m)\u001b[0m\u001b[0;34m\u001b[0m\u001b[0m\n\u001b[0;32m--> 274\u001b[0;31m             \u001b[0mg\u001b[0m \u001b[0;34m=\u001b[0m \u001b[0m_approx_fprime_helper\u001b[0m\u001b[0;34m(\u001b[0m\u001b[0mx\u001b[0m\u001b[0;34m,\u001b[0m \u001b[0mfun\u001b[0m\u001b[0;34m,\u001b[0m \u001b[0mepsilon\u001b[0m\u001b[0;34m,\u001b[0m \u001b[0margs\u001b[0m\u001b[0;34m=\u001b[0m\u001b[0margs\u001b[0m\u001b[0;34m,\u001b[0m \u001b[0mf0\u001b[0m\u001b[0;34m=\u001b[0m\u001b[0mf\u001b[0m\u001b[0;34m)\u001b[0m\u001b[0;34m\u001b[0m\u001b[0m\n\u001b[0m\u001b[1;32m    275\u001b[0m             \u001b[0;32mreturn\u001b[0m \u001b[0mf\u001b[0m\u001b[0;34m,\u001b[0m \u001b[0mg\u001b[0m\u001b[0;34m\u001b[0m\u001b[0m\n\u001b[1;32m    276\u001b[0m     \u001b[0;32melse\u001b[0m\u001b[0;34m:\u001b[0m\u001b[0;34m\u001b[0m\u001b[0m\n",
      "\u001b[0;32m/opt/conda/lib/python3.5/site-packages/scipy/optimize/optimize.py\u001b[0m in \u001b[0;36m_approx_fprime_helper\u001b[0;34m(xk, f, epsilon, args, f0)\u001b[0m\n\u001b[1;32m    560\u001b[0m         \u001b[0mei\u001b[0m\u001b[0;34m[\u001b[0m\u001b[0mk\u001b[0m\u001b[0;34m]\u001b[0m \u001b[0;34m=\u001b[0m \u001b[0;36m1.0\u001b[0m\u001b[0;34m\u001b[0m\u001b[0m\n\u001b[1;32m    561\u001b[0m         \u001b[0md\u001b[0m \u001b[0;34m=\u001b[0m \u001b[0mepsilon\u001b[0m \u001b[0;34m*\u001b[0m \u001b[0mei\u001b[0m\u001b[0;34m\u001b[0m\u001b[0m\n\u001b[0;32m--> 562\u001b[0;31m         \u001b[0mgrad\u001b[0m\u001b[0;34m[\u001b[0m\u001b[0mk\u001b[0m\u001b[0;34m]\u001b[0m \u001b[0;34m=\u001b[0m \u001b[0;34m(\u001b[0m\u001b[0mf\u001b[0m\u001b[0;34m(\u001b[0m\u001b[0;34m*\u001b[0m\u001b[0;34m(\u001b[0m\u001b[0;34m(\u001b[0m\u001b[0mxk\u001b[0m \u001b[0;34m+\u001b[0m \u001b[0md\u001b[0m\u001b[0;34m,\u001b[0m\u001b[0;34m)\u001b[0m \u001b[0;34m+\u001b[0m \u001b[0margs\u001b[0m\u001b[0;34m)\u001b[0m\u001b[0;34m)\u001b[0m \u001b[0;34m-\u001b[0m \u001b[0mf0\u001b[0m\u001b[0;34m)\u001b[0m \u001b[0;34m/\u001b[0m \u001b[0md\u001b[0m\u001b[0;34m[\u001b[0m\u001b[0mk\u001b[0m\u001b[0;34m]\u001b[0m\u001b[0;34m\u001b[0m\u001b[0m\n\u001b[0m\u001b[1;32m    563\u001b[0m         \u001b[0mei\u001b[0m\u001b[0;34m[\u001b[0m\u001b[0mk\u001b[0m\u001b[0;34m]\u001b[0m \u001b[0;34m=\u001b[0m \u001b[0;36m0.0\u001b[0m\u001b[0;34m\u001b[0m\u001b[0m\n\u001b[1;32m    564\u001b[0m     \u001b[0;32mreturn\u001b[0m \u001b[0mgrad\u001b[0m\u001b[0;34m\u001b[0m\u001b[0m\n",
      "\u001b[0;32m/opt/conda/lib/python3.5/site-packages/scipy/optimize/optimize.py\u001b[0m in \u001b[0;36mfunction_wrapper\u001b[0;34m(*wrapper_args)\u001b[0m\n\u001b[1;32m    287\u001b[0m     \u001b[0;32mdef\u001b[0m \u001b[0mfunction_wrapper\u001b[0m\u001b[0;34m(\u001b[0m\u001b[0;34m*\u001b[0m\u001b[0mwrapper_args\u001b[0m\u001b[0;34m)\u001b[0m\u001b[0;34m:\u001b[0m\u001b[0;34m\u001b[0m\u001b[0m\n\u001b[1;32m    288\u001b[0m         \u001b[0mncalls\u001b[0m\u001b[0;34m[\u001b[0m\u001b[0;36m0\u001b[0m\u001b[0;34m]\u001b[0m \u001b[0;34m+=\u001b[0m \u001b[0;36m1\u001b[0m\u001b[0;34m\u001b[0m\u001b[0m\n\u001b[0;32m--> 289\u001b[0;31m         \u001b[0;32mreturn\u001b[0m \u001b[0mfunction\u001b[0m\u001b[0;34m(\u001b[0m\u001b[0;34m*\u001b[0m\u001b[0;34m(\u001b[0m\u001b[0mwrapper_args\u001b[0m \u001b[0;34m+\u001b[0m \u001b[0margs\u001b[0m\u001b[0;34m)\u001b[0m\u001b[0;34m)\u001b[0m\u001b[0;34m\u001b[0m\u001b[0m\n\u001b[0m\u001b[1;32m    290\u001b[0m \u001b[0;34m\u001b[0m\u001b[0m\n\u001b[1;32m    291\u001b[0m     \u001b[0;32mreturn\u001b[0m \u001b[0mncalls\u001b[0m\u001b[0;34m,\u001b[0m \u001b[0mfunction_wrapper\u001b[0m\u001b[0;34m\u001b[0m\u001b[0m\n",
      "\u001b[0;32m<ipython-input-25-6fac20756063>\u001b[0m in \u001b[0;36mlog_likelihood\u001b[0;34m(beta)\u001b[0m\n\u001b[1;32m      5\u001b[0m     \u001b[0;32mfor\u001b[0m \u001b[0mn\u001b[0m \u001b[0;32min\u001b[0m \u001b[0mrange\u001b[0m\u001b[0;34m(\u001b[0m\u001b[0mX\u001b[0m\u001b[0;34m.\u001b[0m\u001b[0mshape\u001b[0m\u001b[0;34m[\u001b[0m\u001b[0;36m0\u001b[0m\u001b[0;34m]\u001b[0m\u001b[0;34m)\u001b[0m\u001b[0;34m:\u001b[0m\u001b[0;34m\u001b[0m\u001b[0m\n\u001b[1;32m      6\u001b[0m         \u001b[0;32mfor\u001b[0m \u001b[0mj\u001b[0m \u001b[0;32min\u001b[0m \u001b[0mrange\u001b[0m\u001b[0;34m(\u001b[0m\u001b[0mnum_classes\u001b[0m \u001b[0;34m-\u001b[0m \u001b[0;36m1\u001b[0m\u001b[0;34m)\u001b[0m\u001b[0;34m:\u001b[0m\u001b[0;34m\u001b[0m\u001b[0m\n\u001b[0;32m----> 7\u001b[0;31m             \u001b[0mlog_prob_not_event\u001b[0m \u001b[0;34m=\u001b[0m \u001b[0mnp\u001b[0m\u001b[0;34m.\u001b[0m\u001b[0mlog\u001b[0m\u001b[0;34m(\u001b[0m\u001b[0mnp\u001b[0m\u001b[0;34m.\u001b[0m\u001b[0msum\u001b[0m\u001b[0;34m(\u001b[0m\u001b[0mnp\u001b[0m\u001b[0;34m.\u001b[0m\u001b[0mexp\u001b[0m\u001b[0;34m(\u001b[0m\u001b[0mX\u001b[0m\u001b[0;34m[\u001b[0m\u001b[0mn\u001b[0m\u001b[0;34m,\u001b[0m \u001b[0;34m:\u001b[0m\u001b[0;34m]\u001b[0m\u001b[0;34m.\u001b[0m\u001b[0mdot\u001b[0m\u001b[0;34m(\u001b[0m\u001b[0mbeta\u001b[0m\u001b[0;34m.\u001b[0m\u001b[0mT\u001b[0m\u001b[0;34m)\u001b[0m\u001b[0;34m)\u001b[0m\u001b[0;34m)\u001b[0m\u001b[0;34m)\u001b[0m\u001b[0;34m\u001b[0m\u001b[0m\n\u001b[0m\u001b[1;32m      8\u001b[0m             \u001b[0;32mif\u001b[0m \u001b[0my\u001b[0m\u001b[0;34m[\u001b[0m\u001b[0mn\u001b[0m\u001b[0;34m]\u001b[0m \u001b[0;34m==\u001b[0m \u001b[0mj\u001b[0m\u001b[0;34m:\u001b[0m\u001b[0;34m\u001b[0m\u001b[0m\n\u001b[1;32m      9\u001b[0m                 \u001b[0mlog_prob_event\u001b[0m \u001b[0;34m=\u001b[0m \u001b[0mnp\u001b[0m\u001b[0;34m.\u001b[0m\u001b[0msum\u001b[0m\u001b[0;34m(\u001b[0m\u001b[0mX\u001b[0m\u001b[0;34m[\u001b[0m\u001b[0mn\u001b[0m\u001b[0;34m,\u001b[0m \u001b[0;34m:\u001b[0m\u001b[0;34m]\u001b[0m\u001b[0;34m.\u001b[0m\u001b[0mdot\u001b[0m\u001b[0;34m(\u001b[0m\u001b[0mbeta\u001b[0m\u001b[0;34m.\u001b[0m\u001b[0mT\u001b[0m\u001b[0;34m)\u001b[0m\u001b[0;34m)\u001b[0m\u001b[0;34m\u001b[0m\u001b[0m\n",
      "\u001b[0;31mKeyboardInterrupt\u001b[0m: "
     ]
    }
   ],
   "source": [
    "res = minimize(log_likelihood, beta_init.ravel(), method='L-BFGS-B')"
   ]
  },
  {
   "cell_type": "code",
   "execution_count": 32,
   "metadata": {
    "collapsed": false
   },
   "outputs": [
    {
     "data": {
      "text/plain": [
       "(2002,)"
      ]
     },
     "execution_count": 32,
     "metadata": {},
     "output_type": "execute_result"
    }
   ],
   "source": [
    "beta_init.ravel().shape"
   ]
  },
  {
   "cell_type": "code",
   "execution_count": null,
   "metadata": {
    "collapsed": true
   },
   "outputs": [],
   "source": []
  },
  {
   "cell_type": "code",
   "execution_count": null,
   "metadata": {
    "collapsed": true
   },
   "outputs": [],
   "source": []
  },
  {
   "cell_type": "code",
   "execution_count": null,
   "metadata": {
    "collapsed": true
   },
   "outputs": [],
   "source": []
  },
  {
   "cell_type": "code",
   "execution_count": 44,
   "metadata": {
    "collapsed": false
   },
   "outputs": [
    {
     "data": {
      "text/plain": [
       "<1000x1000 sparse matrix of type '<class 'numpy.float64'>'\n",
       "\twith 9993 stored elements in Compressed Sparse Row format>"
      ]
     },
     "execution_count": 44,
     "metadata": {},
     "output_type": "execute_result"
    }
   ],
   "source": [
    "class SparseLogisticRegression(object):\n",
    "    \n",
    "    def __init__(self):\n",
    "        pass\n",
    "    \n",
    "    def blah(self):\n",
    "        pass"
   ]
  },
  {
   "cell_type": "code",
   "execution_count": null,
   "metadata": {
    "collapsed": true
   },
   "outputs": [],
   "source": []
  }
 ],
 "metadata": {
  "kernelspec": {
   "display_name": "Python 3",
   "language": "python",
   "name": "python3"
  },
  "language_info": {
   "codemirror_mode": {
    "name": "ipython",
    "version": 3
   },
   "file_extension": ".py",
   "mimetype": "text/x-python",
   "name": "python",
   "nbconvert_exporter": "python",
   "pygments_lexer": "ipython3",
   "version": "3.5.2"
  }
 },
 "nbformat": 4,
 "nbformat_minor": 1
}
