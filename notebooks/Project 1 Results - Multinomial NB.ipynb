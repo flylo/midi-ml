{
 "cells": [
  {
   "cell_type": "markdown",
   "metadata": {},
   "source": [
    "# Results for Multinomial Naive Bayes"
   ]
  },
  {
   "cell_type": "code",
   "execution_count": 1,
   "metadata": {
    "collapsed": true
   },
   "outputs": [],
   "source": [
    "%matplotlib inline"
   ]
  },
  {
   "cell_type": "code",
   "execution_count": 2,
   "metadata": {
    "collapsed": true
   },
   "outputs": [],
   "source": [
    "from matplotlib import pyplot as plt"
   ]
  },
  {
   "cell_type": "code",
   "execution_count": 3,
   "metadata": {
    "collapsed": true
   },
   "outputs": [],
   "source": [
    "import os\n",
    "import pickle\n",
    "import numpy as np\n",
    "from scipy import sparse\n",
    "from sklearn.externals import joblib\n",
    "from sklearn.cross_validation import KFold\n",
    "from sklearn.metrics import confusion_matrix\n",
    "from sklearn.cross_validation import train_test_split\n",
    "from midi_ml.models.linear_decision_rules import NaiveBayesClassifier"
   ]
  },
  {
   "cell_type": "code",
   "execution_count": 4,
   "metadata": {
    "collapsed": false
   },
   "outputs": [],
   "source": [
    "labels = joblib.load(\"/home/jovyan/persistent_data/data/dumps/labeled_corpus_labels.pkl\")\n",
    "features = joblib.load(\"/home/jovyan/persistent_data/data/dumps/labeled_corpus_matrix.pkl\")\n",
    "features = features.todense()\n",
    "bach_labels = [k for k in range(len(labels)) if labels[k] == \"bach-js\"]\n",
    "mozart_labels = [k for k in range(len(labels)) if labels[k] == \"mozart\"]\n",
    "X = features[bach_labels + mozart_labels].A\n",
    "y = np.array([1 for i in range(len(bach_labels))] + [0 for i in range(len(mozart_labels))])\n",
    "y = y.reshape((y.shape[0],))\n",
    "del features"
   ]
  },
  {
   "cell_type": "code",
   "execution_count": 11,
   "metadata": {
    "collapsed": false
   },
   "outputs": [
    {
     "data": {
      "text/plain": [
       "(3027, 16384)"
      ]
     },
     "execution_count": 11,
     "metadata": {},
     "output_type": "execute_result"
    }
   ],
   "source": [
    "X.shape"
   ]
  },
  {
   "cell_type": "markdown",
   "metadata": {},
   "source": [
    "# Train Models"
   ]
  },
  {
   "cell_type": "code",
   "execution_count": 5,
   "metadata": {
    "collapsed": false
   },
   "outputs": [],
   "source": [
    "predicted = []\n",
    "actuals = []\n",
    "nb_models = []\n",
    "i = 0\n",
    "for train_idx, test_idx in KFold(n=X.shape[0], n_folds=5, shuffle=True):\n",
    "    X_train = X[train_idx]\n",
    "    X_test = X[test_idx]\n",
    "    y_train = y[train_idx]\n",
    "    y_test = y[test_idx]\n",
    "    nb = NaiveBayesClassifier(X_train, y_train,\n",
    "                              parametric_form=\"multinomial\", keep_copy_of_X=False)\n",
    "    try:\n",
    "        nb.fit()\n",
    "    except:\n",
    "        continue\n",
    "    \n",
    "    preds = nb.predict(X_test)\n",
    "    predicted.append(preds)\n",
    "    actuals.append(y_test)\n",
    "    nb_models.append(nb)\n",
    "    pickle.dump(nb_models, open(\"./dumps/multinomial_nb/nb_model_fold_{fold}.pkl\"\n",
    "                                .format(fold=str(i)), 'wb'))\n",
    "    pickle.dump(predicted, open(\"./dumps/multinomial_nb/predicted_fold_{fold}.pkl\"\n",
    "                                .format(fold=str(i)), 'wb'))\n",
    "    pickle.dump(actuals, open(\"./dumps/multinomial_nb/actuals_fold_{fold}.pkl\"\n",
    "                                .format(fold=str(i)), 'wb'))\n",
    "    i += 1"
   ]
  },
  {
   "cell_type": "code",
   "execution_count": 7,
   "metadata": {
    "collapsed": true
   },
   "outputs": [],
   "source": [
    "from sklearn.metrics import precision_score, recall_score, f1_score, accuracy_score"
   ]
  },
  {
   "cell_type": "code",
   "execution_count": 8,
   "metadata": {
    "collapsed": false
   },
   "outputs": [
    {
     "data": {
      "text/plain": [
       "['predicted_fold_0.pkl',\n",
       " 'actuals_fold_2.pkl',\n",
       " 'predicted_fold_1.pkl',\n",
       " 'nb_model_fold_1.pkl',\n",
       " 'actuals_fold_4.pkl',\n",
       " 'predicted_fold_3.pkl',\n",
       " 'predicted_fold_4.pkl',\n",
       " 'predicted_fold_2.pkl',\n",
       " 'actuals_fold_0.pkl',\n",
       " 'nb_model_fold_2.pkl',\n",
       " 'nb_model_fold_4.pkl',\n",
       " 'actuals_fold_3.pkl',\n",
       " 'nb_model_fold_3.pkl',\n",
       " 'actuals_fold_1.pkl',\n",
       " 'nb_model_fold_0.pkl']"
      ]
     },
     "execution_count": 8,
     "metadata": {},
     "output_type": "execute_result"
    }
   ],
   "source": [
    "model_folder = \"./dumps/multinomial_nb/\"\n",
    "os.listdir(model_folder)"
   ]
  },
  {
   "cell_type": "code",
   "execution_count": 9,
   "metadata": {
    "collapsed": true
   },
   "outputs": [],
   "source": [
    "predicted = pickle.load(open(model_folder + \"predicted_fold_4.pkl\", 'rb'))\n",
    "actuals = pickle.load(open(model_folder + \"actuals_fold_4.pkl\", 'rb'))"
   ]
  },
  {
   "cell_type": "code",
   "execution_count": 19,
   "metadata": {
    "collapsed": false
   },
   "outputs": [
    {
     "name": "stdout",
     "output_type": "stream",
     "text": [
      "confusion matrix\n",
      "[[100  44]\n",
      " [ 78 384]]\n",
      "\taccuracy\n",
      "\t\t 0.798679867987\n",
      "\tf1\n",
      "\t\t 0.862921348315\n",
      "\trecall\n",
      "\t\t 0.831168831169\n",
      "\tprecision\n",
      "\t\t 0.897196261682\n",
      "\tmcc\n",
      "\t\t 0.491175475206\n",
      "confusion matrix\n",
      "[[108  35]\n",
      " [ 95 368]]\n",
      "\taccuracy\n",
      "\t\t 0.785478547855\n",
      "\tf1\n",
      "\t\t 0.849884526559\n",
      "\trecall\n",
      "\t\t 0.794816414687\n",
      "\tprecision\n",
      "\t\t 0.913151364764\n",
      "\tmcc\n",
      "\t\t 0.494844742462\n",
      "confusion matrix\n",
      "[[ 80  48]\n",
      " [ 81 396]]\n",
      "\taccuracy\n",
      "\t\t 0.786776859504\n",
      "\tf1\n",
      "\t\t 0.85993485342\n",
      "\trecall\n",
      "\t\t 0.830188679245\n",
      "\tprecision\n",
      "\t\t 0.891891891892\n",
      "\tmcc\n",
      "\t\t 0.420679359178\n",
      "confusion matrix\n",
      "[[114  33]\n",
      " [ 81 377]]\n",
      "\taccuracy\n",
      "\t\t 0.811570247934\n",
      "\tf1\n",
      "\t\t 0.86866359447\n",
      "\trecall\n",
      "\t\t 0.823144104803\n",
      "\tprecision\n",
      "\t\t 0.919512195122\n",
      "\tmcc\n",
      "\t\t 0.549361582055\n",
      "confusion matrix\n",
      "[[104  45]\n",
      " [ 72 384]]\n",
      "\taccuracy\n",
      "\t\t 0.806611570248\n",
      "\tf1\n",
      "\t\t 0.867796610169\n",
      "\trecall\n",
      "\t\t 0.842105263158\n",
      "\tprecision\n",
      "\t\t 0.895104895105\n",
      "\tmcc\n",
      "\t\t 0.512339914643\n"
     ]
    }
   ],
   "source": [
    "accuracy = []\n",
    "precision = []\n",
    "recall = []\n",
    "f1 = []\n",
    "mcc = []\n",
    "predicted = pickle.load(open(model_folder + \"predicted_fold_4.pkl\", 'rb'))\n",
    "actuals = pickle.load(open(model_folder + \"actuals_fold_4.pkl\", 'rb'))\n",
    "for pred, actual in zip(predicted, actuals):\n",
    "    print(\"confusion matrix\")\n",
    "    print(confusion_matrix(actual, pred))\n",
    "    print(\"\\taccuracy\")\n",
    "    acc = accuracy_score(actual, pred)\n",
    "    accuracy.append(acc)\n",
    "    print(\"\\t\\t\", acc)\n",
    "    print(\"\\tf1\")\n",
    "    f = f1_score(actual, pred)\n",
    "    f1.append(f)\n",
    "    print(\"\\t\\t\", f)\n",
    "    print(\"\\trecall\")\n",
    "    r = recall_score(actual, pred)\n",
    "    recall.append(r)\n",
    "    print(\"\\t\\t\", r)\n",
    "    print(\"\\tprecision\")\n",
    "    p = precision_score(actual, pred)\n",
    "    precision.append(p)\n",
    "    print(\"\\t\\t\", p)\n",
    "    print(\"\\tmcc\")\n",
    "    m = matthews_corrcoef(actual, pred)\n",
    "    mcc.append(m)\n",
    "    print(\"\\t\\t\", m)"
   ]
  },
  {
   "cell_type": "code",
   "execution_count": 18,
   "metadata": {
    "collapsed": true
   },
   "outputs": [],
   "source": [
    "from sklearn.metrics import matthews_corrcoef"
   ]
  },
  {
   "cell_type": "code",
   "execution_count": 13,
   "metadata": {
    "collapsed": false
   },
   "outputs": [
    {
     "data": {
      "text/plain": [
       "0.79782341870550688"
      ]
     },
     "execution_count": 13,
     "metadata": {},
     "output_type": "execute_result"
    }
   ],
   "source": [
    "np.mean(accuracy)"
   ]
  },
  {
   "cell_type": "code",
   "execution_count": 23,
   "metadata": {
    "collapsed": false
   },
   "outputs": [
    {
     "name": "stdout",
     "output_type": "stream",
     "text": [
      "0.420679359178\n",
      "0.493680214709\n",
      "0.549361582055\n"
     ]
    }
   ],
   "source": [
    "print(np.min(mcc))\n",
    "print(np.mean(mcc))\n",
    "print(np.max(mcc))"
   ]
  },
  {
   "cell_type": "code",
   "execution_count": 24,
   "metadata": {
    "collapsed": false
   },
   "outputs": [
    {
     "name": "stdout",
     "output_type": "stream",
     "text": [
      "0.785478547855\n",
      "0.797823418706\n",
      "0.811570247934\n"
     ]
    }
   ],
   "source": [
    "print(np.min(accuracy))\n",
    "print(np.mean(accuracy))\n",
    "print(np.max(accuracy))"
   ]
  },
  {
   "cell_type": "code",
   "execution_count": null,
   "metadata": {
    "collapsed": true
   },
   "outputs": [],
   "source": []
  }
 ],
 "metadata": {
  "kernelspec": {
   "display_name": "Python 3",
   "language": "python",
   "name": "python3"
  },
  "language_info": {
   "codemirror_mode": {
    "name": "ipython",
    "version": 3
   },
   "file_extension": ".py",
   "mimetype": "text/x-python",
   "name": "python",
   "nbconvert_exporter": "python",
   "pygments_lexer": "ipython3",
   "version": "3.5.2"
  }
 },
 "nbformat": 4,
 "nbformat_minor": 1
}
