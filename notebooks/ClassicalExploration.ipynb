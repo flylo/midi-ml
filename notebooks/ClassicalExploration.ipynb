{
 "cells": [
  {
   "cell_type": "code",
   "execution_count": 74,
   "metadata": {
    "collapsed": true
   },
   "outputs": [],
   "source": [
    "import os\n",
    "import numpy as np\n",
    "import pandas as pd\n",
    "import music21 as m21\n",
    "from typing import List\n",
    "from itertools import product\n",
    "from collections import defaultdict\n",
    "from scipy.sparse import dok_matrix\n",
    "from easy_ml.tools.util import download_from_gcs"
   ]
  },
  {
   "cell_type": "code",
   "execution_count": 2,
   "metadata": {
    "collapsed": false
   },
   "outputs": [
    {
     "name": "stderr",
     "output_type": "stream",
     "text": [
      "/opt/conda/lib/python3.5/site-packages/matplotlib/font_manager.py:273: UserWarning: Matplotlib is building the font cache using fc-list. This may take a moment.\n",
      "  warnings.warn('Matplotlib is building the font cache using fc-list. This may take a moment.')\n",
      "/opt/conda/lib/python3.5/site-packages/matplotlib/font_manager.py:273: UserWarning: Matplotlib is building the font cache using fc-list. This may take a moment.\n",
      "  warnings.warn('Matplotlib is building the font cache using fc-list. This may take a moment.')\n"
     ]
    },
    {
     "name": "stdout",
     "output_type": "stream",
     "text": [
      "mkdir: cannot create directory ‘/home/jovyan/persistent_data/data/mozart’: File exists\r\n"
     ]
    }
   ],
   "source": [
    "mkdir /home/jovyan/persistent_data/data/mozart"
   ]
  },
  {
   "cell_type": "code",
   "execution_count": 3,
   "metadata": {
    "collapsed": true
   },
   "outputs": [],
   "source": [
    "DATA_DIR = '/home/jovyan/persistent_data/data/mozart/'"
   ]
  },
  {
   "cell_type": "code",
   "execution_count": 4,
   "metadata": {
    "collapsed": true
   },
   "outputs": [],
   "source": [
    "download_from_gcs(bucket_name='midi-files',\n",
    "                  prefix='collections/k_collection/mozart',\n",
    "                  local_fs_loc=DATA_DIR)"
   ]
  },
  {
   "cell_type": "code",
   "execution_count": 4,
   "metadata": {
    "collapsed": false
   },
   "outputs": [],
   "source": [
    "midi_files = os.listdir(DATA_DIR)"
   ]
  },
  {
   "cell_type": "markdown",
   "metadata": {},
   "source": [
    "## Note Encoding Schemes\n",
    "* m-Bar Encodings: Similar to a term-document frequency matrix. Encode a multinomial distribution of notes over a sequence of m measures\n",
    "    * Parts together in their\n",
    "    * Pitches encoded as their numerical value, rests encoded as 0\n",
    "    * Pitches encoded as their numerical value, no rests\n",
    "* m-bar time series: Each part is an m-bar time series over 127 notes\n",
    "    * Pitches encoded as their numerical value, rests encoded as 0 (only sensible way in this scenario)\n",
    "* n-Note Encodings: Similar to n-grams; sequences of m measures will be encoded into $127^n$ features\n",
    "    * Pitches encoded as their numerical value, rests encoded as 0\n",
    "    * Pitches encoded as their numerical value, no rests\n",
    "* n-Note Pitch-Difference Encodings: Similar to above, but instead of mapping each feature distinct pitch as a feature, the difference between subsequent pitches will be analyzed to try to capture melodic patterns\n",
    "    * Pitches encoded as their numerical value, rests encoded as 0? (probably not sensible in this scenario)\n",
    "    * Pitches encoded as their numerical value, no rests\n",
    "    * Do we add durations (like in A Comparison of Statistical Approaches to Symbolic Genre Recognition)\n",
    "\n",
    "**NOTE** Generate the full feature set by iterating through the entire scale of notes"
   ]
  },
  {
   "cell_type": "markdown",
   "metadata": {
    "collapsed": true
   },
   "source": [
    "### n-Note Encodings"
   ]
  },
  {
   "cell_type": "code",
   "execution_count": 8,
   "metadata": {
    "collapsed": false
   },
   "outputs": [],
   "source": [
    "s = m21.converter.parse(DATA_DIR + midi_files[12])"
   ]
  },
  {
   "cell_type": "code",
   "execution_count": 9,
   "metadata": {
    "collapsed": true
   },
   "outputs": [],
   "source": [
    "def window_gen(sequence, n):\n",
    "    windowed_iterator = []\n",
    "    low = 0\n",
    "    high = n\n",
    "    for note in sequence:\n",
    "        window = sequence[low:high]\n",
    "        if len(window) < n:\n",
    "            break\n",
    "        low += 1\n",
    "        high += 1\n",
    "        yield tuple(window)"
   ]
  },
  {
   "cell_type": "code",
   "execution_count": 10,
   "metadata": {
    "collapsed": false
   },
   "outputs": [],
   "source": [
    "def get_n_note_sequence(part: m21.stream.Part,\n",
    "                        window_size: int = 2):\n",
    "    just_notes = part.recurse().notes \\\n",
    "        .getElementsNotOfClass(m21.chord.Chord)\n",
    "    n_note_sequences = []\n",
    "    for note_seq in window_gen(just_notes, window_size):\n",
    "        n_note_sequences.append(\"|\".join([note.nameWithOctave for note in note_seq]))\n",
    "    return n_note_sequences"
   ]
  },
  {
   "cell_type": "code",
   "execution_count": 11,
   "metadata": {
    "collapsed": false
   },
   "outputs": [],
   "source": [
    "def get_sequences_from_stream(stream: m21.stream,\n",
    "                              window_size: int = 2):\n",
    "    parts = s.getElementsByClass(m21.stream.Part)\n",
    "    sequences_list = []\n",
    "    for part in parts:\n",
    "        sequences = get_n_note_sequence(part, window_size)\n",
    "        for seq in sequences:\n",
    "            sequences_list.append(seq)\n",
    "    return sequences_list"
   ]
  },
  {
   "cell_type": "code",
   "execution_count": null,
   "metadata": {
    "collapsed": true
   },
   "outputs": [],
   "source": [
    "def sequence_encoder(seq: List[str]):\n",
    "    d = defaultdict(float)\n",
    "    for entry in seq:\n",
    "        d[entry] += 1.\n",
    "    return d"
   ]
  },
  {
   "cell_type": "code",
   "execution_count": 37,
   "metadata": {
    "collapsed": false
   },
   "outputs": [],
   "source": [
    "mozart_grams = []\n",
    "for i, midi in enumerate(midi_files[:50]):\n",
    "    if i % 10 == 0:\n",
    "        print(i)\n",
    "    s = m21.converter.parse(DATA_DIR + midi)\n",
    "    mozart_grams.append(get_sequences_from_stream(s))"
   ]
  },
  {
   "cell_type": "code",
   "execution_count": 20,
   "metadata": {
    "collapsed": true
   },
   "outputs": [],
   "source": [
    "class MidiFeatureVector(object):\n",
    "    def __init__(self, note_sequence):\n",
    "        self.note_sequence = note_sequence"
   ]
  },
  {
   "cell_type": "code",
   "execution_count": 178,
   "metadata": {
    "collapsed": true
   },
   "outputs": [],
   "source": [
    "class MidiFeatureCorpus(object):\n",
    "    def __init__(self, path: str):\n",
    "        self.path = path + \"/\"\n",
    "        self.files = os.listdir(self.path)\n",
    "        self.corpus_ = []\n",
    "        self.note_sequence_set = self._initialize_note_sequence_set()\n",
    "        self.sparse_matrix = dok_matrix((len(self.files),\n",
    "                                         len(self.note_sequence_set)),\n",
    "                                        dtype=np.float32)\n",
    "    \n",
    "    @staticmethod\n",
    "    def _initialize_note_sequence_set():\n",
    "        notes = []\n",
    "        for i in range(128):\n",
    "            note = m21.note.Note(i)\n",
    "            notes.append(note.nameWithOctave)\n",
    "        \n",
    "        note_sequences = []\n",
    "        for combo in product(notes, notes):\n",
    "            note_sequences.append(combo[0] + \"|\" + combo[1])\n",
    "        return note_sequences\n",
    "    \n",
    "    @staticmethod\n",
    "    def get_n_note_sequence(part: m21.stream.Part,\n",
    "                            window_size: int = 2):\n",
    "        just_notes = part.recurse().notes \\\n",
    "            .getElementsNotOfClass(m21.chord.Chord)\n",
    "        n_note_sequences = []\n",
    "        for note_seq in window_gen(just_notes, window_size):\n",
    "            n_note_sequences.append(\"|\".join([note.nameWithOctave for note in note_seq]))\n",
    "        return n_note_sequences\n",
    "    \n",
    "    @staticmethod\n",
    "    def sequence_encoder(seq: List[str]):\n",
    "        d = defaultdict(float)\n",
    "        for entry in seq:\n",
    "            d[entry] += 1.\n",
    "        return d\n",
    "    \n",
    "    def _parse_file_as_sequence(self, file_name):\n",
    "        parsed_file = m21.converter.parse(self.path + file_name)\n",
    "        n_note_sequence = get_n_note_sequence(parsed_file)\n",
    "        \n",
    "        \n",
    "    def parse_corpus(self):\n",
    "        for i, file in enumerate(self.files):\n",
    "            sequence = self._parse_file_as_sequence(file)\n",
    "            encoded_sequence = self.sequence_encoder(raw_grams)\n",
    "            for (seq, count) in encoded_sequence.items():\n",
    "                j = note_sequences.index(seq)\n",
    "                self.sparse_matrix[i, j] = count"
   ]
  },
  {
   "cell_type": "code",
   "execution_count": 174,
   "metadata": {
    "collapsed": true
   },
   "outputs": [],
   "source": [
    "mozart_corpus = MidiFeatureCorpus(path=DATA_DIR)"
   ]
  },
  {
   "cell_type": "code",
   "execution_count": 175,
   "metadata": {
    "collapsed": true
   },
   "outputs": [],
   "source": [
    "mozart_corpus.parse_corpus()"
   ]
  },
  {
   "cell_type": "code",
   "execution_count": null,
   "metadata": {
    "collapsed": true
   },
   "outputs": [],
   "source": [
    ""
   ]
  },
  {
   "cell_type": "code",
   "execution_count": null,
   "metadata": {
    "collapsed": true
   },
   "outputs": [],
   "source": [
    ""
   ]
  },
  {
   "cell_type": "code",
   "execution_count": 138,
   "metadata": {
    "collapsed": false
   },
   "outputs": [],
   "source": [
    "notes = []\n",
    "for i in range(128):\n",
    "    note = m21.note.Note(i)\n",
    "    notes.append(note.nameWithOctave)\n",
    "\n",
    "note_sequences = []\n",
    "for combo in product(notes, notes):\n",
    "    note_sequences.append(combo[0] + \"|\" + combo[1])"
   ]
  },
  {
   "cell_type": "code",
   "execution_count": 142,
   "metadata": {
    "collapsed": false
   },
   "outputs": [
    {
     "data": {
      "text/plain": [
       "8653"
      ]
     },
     "execution_count": 142,
     "metadata": {},
     "output_type": "execute_result"
    }
   ],
   "source": [
    "note_sequences.index(\"G4|F5\")"
   ]
  },
  {
   "cell_type": "code",
   "execution_count": 153,
   "metadata": {
    "collapsed": true
   },
   "outputs": [],
   "source": [
    "S = dok_matrix((6, len(note_sequences)), dtype=np.float32)"
   ]
  },
  {
   "cell_type": "code",
   "execution_count": 168,
   "metadata": {
    "collapsed": false
   },
   "outputs": [],
   "source": [
    "for i, raw_grams in enumerate(mozart_grams):\n",
    "    encoded_sequence = sequence_encoder(raw_grams)\n",
    "    for (seq, count) in encoded_sequence.items():\n",
    "        j = note_sequences.index(seq)\n",
    "        S[i, j] = count"
   ]
  },
  {
   "cell_type": "code",
   "execution_count": null,
   "metadata": {
    "collapsed": true
   },
   "outputs": [],
   "source": [
    ""
   ]
  }
 ],
 "metadata": {
  "kernelspec": {
   "display_name": "Python 3",
   "language": "python",
   "name": "python3"
  },
  "language_info": {
   "codemirror_mode": {
    "name": "ipython",
    "version": 3.0
   },
   "file_extension": ".py",
   "mimetype": "text/x-python",
   "name": "python",
   "nbconvert_exporter": "python",
   "pygments_lexer": "ipython3",
   "version": "3.5.2"
  }
 },
 "nbformat": 4,
 "nbformat_minor": 0
}