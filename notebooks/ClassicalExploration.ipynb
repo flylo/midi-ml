{
 "cells": [
  {
   "cell_type": "code",
   "execution_count": 1,
   "metadata": {
    "collapsed": false
   },
   "outputs": [],
   "source": [
    "import os\n",
    "import numpy as np\n",
    "import pandas as pd\n",
    "import music21 as m21\n",
    "import mido\n",
    "from typing import List\n",
    "from itertools import product\n",
    "from collections import defaultdict\n",
    "from sklearn.externals import joblib\n",
    "from scipy.sparse import dok_matrix, vstack\n",
    "from easy_ml.tools.util import download_from_gcs"
   ]
  },
  {
   "cell_type": "code",
   "execution_count": 9,
   "metadata": {
    "collapsed": false
   },
   "outputs": [],
   "source": [
    "from scipy import sparse"
   ]
  },
  {
   "cell_type": "code",
   "execution_count": 2,
   "metadata": {
    "collapsed": false
   },
   "outputs": [
    {
     "name": "stderr",
     "output_type": "stream",
     "text": [
      "/opt/conda/lib/python3.5/site-packages/matplotlib/font_manager.py:273: UserWarning: Matplotlib is building the font cache using fc-list. This may take a moment.\n",
      "  warnings.warn('Matplotlib is building the font cache using fc-list. This may take a moment.')\n",
      "/opt/conda/lib/python3.5/site-packages/matplotlib/font_manager.py:273: UserWarning: Matplotlib is building the font cache using fc-list. This may take a moment.\n",
      "  warnings.warn('Matplotlib is building the font cache using fc-list. This may take a moment.')\n"
     ]
    }
   ],
   "source": [
    "%matplotlib inline"
   ]
  },
  {
   "cell_type": "code",
   "execution_count": 3,
   "metadata": {
    "collapsed": true
   },
   "outputs": [],
   "source": [
    "from matplotlib import pyplot as plt"
   ]
  },
  {
   "cell_type": "code",
   "execution_count": 4,
   "metadata": {
    "collapsed": true
   },
   "outputs": [],
   "source": [
    "DATA_DIR = '/home/jovyan/persistent_data/data/classical-corpus/'"
   ]
  },
  {
   "cell_type": "code",
   "execution_count": 4,
   "metadata": {
    "collapsed": true
   },
   "outputs": [],
   "source": [
    "download_from_gcs(bucket_name='midi-files',\n",
    "                  prefix='collections/classical-collection/k_collection/',\n",
    "                  local_fs_loc=DATA_DIR)"
   ]
  },
  {
   "cell_type": "code",
   "execution_count": 5,
   "metadata": {
    "collapsed": false
   },
   "outputs": [],
   "source": [
    "midi_files = os.listdir(DATA_DIR)"
   ]
  },
  {
   "cell_type": "markdown",
   "metadata": {},
   "source": [
    "## Note Encoding Schemes\n",
    "* m-Bar Encodings: Similar to a term-document frequency matrix. Encode a multinomial distribution of notes over a sequence of m measures\n",
    "    * Parts together in their\n",
    "    * Pitches encoded as their numerical value, rests encoded as 0\n",
    "    * Pitches encoded as their numerical value, no rests\n",
    "* m-bar time series: Each part is an m-bar time series over 127 notes\n",
    "    * Pitches encoded as their numerical value, rests encoded as 0 (only sensible way in this scenario)\n",
    "* n-Note Encodings: Similar to n-grams; sequences of m measures will be encoded into $127^n$ features\n",
    "    * Pitches encoded as their numerical value, rests encoded as 0\n",
    "    * Pitches encoded as their numerical value, no rests\n",
    "* n-Note Pitch-Difference Encodings: Similar to above, but instead of mapping each feature distinct pitch as a feature, the difference between subsequent pitches will be analyzed to try to capture melodic patterns\n",
    "    * Pitches encoded as their numerical value, rests encoded as 0? (probably not sensible in this scenario)\n",
    "    * Pitches encoded as their numerical value, no rests\n",
    "    * Do we add durations (like in A Comparison of Statistical Approaches to Symbolic Genre Recognition)\n",
    "\n",
    "**NOTE** Generate the full feature set by iterating through the entire scale of notes"
   ]
  },
  {
   "cell_type": "markdown",
   "metadata": {
    "collapsed": true
   },
   "source": [
    "### n-Note Encodings"
   ]
  },
  {
   "cell_type": "code",
   "execution_count": 334,
   "metadata": {
    "collapsed": true
   },
   "outputs": [],
   "source": [
    "# TODO: coansistency in variable namings (e.g. path_ vs path)\n",
    "# TODO: docstrings\n",
    "# TODO: save additional metadata?"
   ]
  },
  {
   "cell_type": "code",
   "execution_count": 10,
   "metadata": {
    "collapsed": true
   },
   "outputs": [],
   "source": [
    "def window_gen(sequence, n):\n",
    "    windowed_iterator = []\n",
    "    low = 0\n",
    "    high = n\n",
    "    for note in sequence:\n",
    "        window = sequence[low:high]\n",
    "        if len(window) < n:\n",
    "            break\n",
    "        low += 1\n",
    "        high += 1\n",
    "        yield tuple(window)"
   ]
  },
  {
   "cell_type": "code",
   "execution_count": 11,
   "metadata": {
    "collapsed": false
   },
   "outputs": [],
   "source": [
    "class MidiFeatureCorpus(object):\n",
    "    def __init__(self, path: str, note_window_size: int = 2):\n",
    "        self.path = path\n",
    "        self.note_window_size_ = note_window_size\n",
    "        self.files_ = self._depth_first_midi_search(self.path)\n",
    "        self.note_sequence_set = self.initialize_note_sequence_set(note_window_size)\n",
    "        self.sparse_matrix = dok_matrix((len(self.files_),\n",
    "                                         len(self.note_sequence_set)),\n",
    "                                        dtype=np.float32)\n",
    "    \n",
    "    def _depth_first_midi_search(self, path: str) -> List[str]:\n",
    "        files_out = []\n",
    "        paths = os.listdir(path)\n",
    "        for p in paths:\n",
    "            full_subpath = path + \"/\" + p\n",
    "            try:\n",
    "                dir_contents = os.listdir(full_subpath)\n",
    "                dfs_results = self._depth_first_midi_search(full_subpath)\n",
    "                for file in dfs_results:\n",
    "                    files_out.append(file)\n",
    "            except NotADirectoryError:\n",
    "                if full_subpath.endswith(\".mid\"):\n",
    "                    files_out.append(full_subpath)\n",
    "        return files_out\n",
    "    \n",
    "    @staticmethod\n",
    "    def initialize_note_sequence_set(window_size: int):\n",
    "        notes = [str(i) for i in range(128)]\n",
    "        notes_copies = [notes for i in range(window_size)]\n",
    "        note_sequences = []\n",
    "        for combo in product(*notes_copies):\n",
    "            note_sequences.append(combo[0] + \"|\" + combo[1])\n",
    "        return note_sequences\n",
    "    \n",
    "    @staticmethod\n",
    "    def get_n_note_sequence(midi: mido.MidiFile,\n",
    "                            note_window_size: int = 2):\n",
    "        notes = [str(m.note) for m in midi if m.type == \"note_on\"]\n",
    "        n_note_sequences = []\n",
    "        for note_seq in window_gen(notes, note_window_size):\n",
    "            n_note_sequences.append(\"|\".join([note for note in note_seq]))\n",
    "        return n_note_sequences\n",
    "    \n",
    "    @staticmethod\n",
    "    def sequence_encoder(seq: List[str]):\n",
    "        d = defaultdict(float)\n",
    "        for entry in seq:\n",
    "            d[entry] += 1.\n",
    "        return d\n",
    "    \n",
    "    def _parse_file_as_sequence(self, file_name):\n",
    "        parsed_file = mido.MidiFile(file_name)\n",
    "        return self.get_n_note_sequence(parsed_file, self.note_window_size_)\n",
    "        \n",
    "        \n",
    "    def parse_corpus(self):\n",
    "        for i, file in enumerate(self.files_):\n",
    "            try:\n",
    "                sequence = self._parse_file_as_sequence(file)\n",
    "                encoded_sequence = self.sequence_encoder(sequence)\n",
    "                for (seq, count) in encoded_sequence.items():\n",
    "                    j = self.note_sequence_set.index(seq)\n",
    "                    self.sparse_matrix[i, j] = count\n",
    "            except:\n",
    "#             except (OSError, KeyError, EOFError, ValueError) as e:\n",
    "                continue"
   ]
  },
  {
   "cell_type": "code",
   "execution_count": 12,
   "metadata": {
    "collapsed": false
   },
   "outputs": [],
   "source": [
    "class LabeledCorpusSet(object):\n",
    "    def __init__(self, path: str, note_window_size: int = 2):\n",
    "        self.path_ = path\n",
    "        self.note_window_size_ = note_window_size\n",
    "        self.corpus_name_list_ = os.listdir(self.path_)\n",
    "        self.corpus_labels = []\n",
    "        self.corpus_list_ = []\n",
    "        matrix_shape = (0, len(MidiFeatureCorpus.initialize_note_sequence_set(note_window_size)))\n",
    "        self.sparse_matrix = dok_matrix(matrix_shape)\n",
    "        self.parsed_ = False\n",
    "        \n",
    "    def parse_corpus_set(self):\n",
    "        \"\"\"\n",
    "        Iterates through the files in the corpus. Will ignore directory structure within\n",
    "        a corpus (e.g. if cantatas and sonatas are in different files)\n",
    "        \"\"\"\n",
    "        matrix_set = []\n",
    "        for corpus_name in self.corpus_name_list_:\n",
    "            file_path = self.path_ + corpus_name\n",
    "            print(\"reading from {}\".format(file_path))\n",
    "            corpus = MidiFeatureCorpus(file_path, self.note_window_size_)\n",
    "            corpus.parse_corpus()\n",
    "            self.corpus_list_.append(corpus)\n",
    "            for label in range(corpus.sparse_matrix.shape[0]):\n",
    "                self.corpus_labels.append(corpus_name)\n",
    "            matrix_set.append(corpus.sparse_matrix)\n",
    "        self.sparse_matrix = vstack(matrix_set)\n",
    "        self.parsed_ = True"
   ]
  },
  {
   "cell_type": "code",
   "execution_count": 14,
   "metadata": {
    "collapsed": false
   },
   "outputs": [],
   "source": [
    "labeled_corpus = LabeledCorpusSet(DATA_DIR)"
   ]
  },
  {
   "cell_type": "code",
   "execution_count": null,
   "metadata": {
    "collapsed": false
   },
   "outputs": [
    {
     "name": "stdout",
     "output_type": "stream",
     "text": [
      "reading from /home/jovyan/persistent_data/data/classical-corpus/gabrieli's\n",
      "reading from /home/jovyan/persistent_data/data/classical-corpus/telemann\n",
      "reading from /home/jovyan/persistent_data/data/classical-corpus/medtner\n",
      "reading from /home/jovyan/persistent_data/data/classical-corpus/haydn\n"
     ]
    }
   ],
   "source": [
    "labeled_corpus.parse_corpus_set()"
   ]
  },
  {
   "cell_type": "code",
   "execution_count": 22,
   "metadata": {
    "collapsed": false
   },
   "outputs": [
    {
     "data": {
      "text/plain": [
       "['/home/jovyan/persistent_data/data/dumps/labeled_corpus.pkl',\n",
       " '/home/jovyan/persistent_data/data/dumps/labeled_corpus.pkl_01.npy',\n",
       " '/home/jovyan/persistent_data/data/dumps/labeled_corpus.pkl_02.npy',\n",
       " '/home/jovyan/persistent_data/data/dumps/labeled_corpus.pkl_03.npy']"
      ]
     },
     "execution_count": 22,
     "metadata": {},
     "output_type": "execute_result"
    }
   ],
   "source": [
    "joblib.dump(labeled_corpus, \"/home/jovyan/persistent_data/data/dumps/labeled_corpus.pkl\",\n",
    "           compress=0)"
   ]
  },
  {
   "cell_type": "code",
   "execution_count": 24,
   "metadata": {
    "collapsed": false
   },
   "outputs": [
    {
     "data": {
      "text/plain": [
       "['/home/jovyan/persistent_data/data/dumps/labeled_corpus_matrix.pkl',\n",
       " '/home/jovyan/persistent_data/data/dumps/labeled_corpus_matrix.pkl_01.npy',\n",
       " '/home/jovyan/persistent_data/data/dumps/labeled_corpus_matrix.pkl_02.npy',\n",
       " '/home/jovyan/persistent_data/data/dumps/labeled_corpus_matrix.pkl_03.npy']"
      ]
     },
     "execution_count": 24,
     "metadata": {},
     "output_type": "execute_result"
    }
   ],
   "source": [
    "joblib.dump(labeled_corpus.sparse_matrixrse_matrix, \"/home/jovyan/persistent_data/data/dumps/labeled_corpus_matrix.pkl\",\n",
    "           compress=0)"
   ]
  },
  {
   "cell_type": "code",
   "execution_count": 23,
   "metadata": {
    "collapsed": false
   },
   "outputs": [
    {
     "data": {
      "text/plain": [
       "['/home/jovyan/persistent_data/data/dumps/labeled_corpus_labels.pkl']"
      ]
     },
     "execution_count": 23,
     "metadata": {},
     "output_type": "execute_result"
    }
   ],
   "source": [
    "joblib.dump(labeled_corpus.corpus_labels, \"/home/jovyan/persistent_data/data/dumps/labeled_corpus_labels.pkl\",\n",
    "           compress=0)"
   ]
  },
  {
   "cell_type": "code",
   "execution_count": 25,
   "metadata": {
    "collapsed": true
   },
   "outputs": [],
   "source": [
    "corpus_matrix = labeled_corpus.sparse_matrix.todense()"
   ]
  },
  {
   "cell_type": "code",
   "execution_count": 26,
   "metadata": {
    "collapsed": false
   },
   "outputs": [
    {
     "name": "stdout",
     "output_type": "stream",
     "text": [
      "1\n"
     ]
    }
   ],
   "source": [
    "print(1)"
   ]
  },
  {
   "cell_type": "code",
   "execution_count": 27,
   "metadata": {
    "collapsed": false
   },
   "outputs": [],
   "source": [
    "labels = labeled_corpus.corpus_labels\n",
    "bach_labels = [k for k in range(len(labels)) if labels[k] == \"bach-js\"]\n",
    "beethoven_labels = [k for k in range(len(labels)) if labels[k] == \"beethoven\"]"
   ]
  },
  {
   "cell_type": "code",
   "execution_count": 28,
   "metadata": {
    "collapsed": false
   },
   "outputs": [],
   "source": [
    "X = corpus_matrix[bach_labels + beethoven_labels]\n",
    "y = np.array([1 for i in range(len(bach_labels))] + [0 for i in range(len(beethoven_labels))])"
   ]
  },
  {
   "cell_type": "code",
   "execution_count": 29,
   "metadata": {
    "collapsed": false
   },
   "outputs": [
    {
     "data": {
      "text/plain": [
       "(2966,)"
      ]
     },
     "execution_count": 29,
     "metadata": {},
     "output_type": "execute_result"
    }
   ],
   "source": [
    "y.shape"
   ]
  },
  {
   "cell_type": "code",
   "execution_count": 30,
   "metadata": {
    "collapsed": true
   },
   "outputs": [],
   "source": [
    "y = y.reshape(y.shape[0], 1, )"
   ]
  },
  {
   "cell_type": "code",
   "execution_count": 31,
   "metadata": {
    "collapsed": false
   },
   "outputs": [],
   "source": [
    "new_X = X[:,(X.sum(axis=0) != 0).A.ravel()].A"
   ]
  },
  {
   "cell_type": "code",
   "execution_count": null,
   "metadata": {
    "collapsed": true
   },
   "outputs": [],
   "source": [
    ""
   ]
  },
  {
   "cell_type": "markdown",
   "metadata": {
    "collapsed": true
   },
   "source": [
    "# Modeling"
   ]
  },
  {
   "cell_type": "code",
   "execution_count": 32,
   "metadata": {
    "collapsed": true
   },
   "outputs": [],
   "source": [
    "class PenalizedLogisticRegression(object):\n",
    "    \"\"\"\n",
    "    Logistic Regression with an L2 penalty\n",
    "    \"\"\"\n",
    "\n",
    "    def __init__(self, X: np.array,\n",
    "                 y: np.array,\n",
    "                 l2_penalty: float = 0.,\n",
    "                 num_iter: int = 10):\n",
    "        \"\"\"\n",
    "        :param X: (N * M)-dimensional array containing the input data in matrix form\n",
    "        :param y: (N * 1)-dimensional array containing the binary target variable, encoded as 0 and 1\n",
    "        :param l2_penalty: The regularization parameter that enforces sparseness in the coefficients of our model\n",
    "        :param num_iter: The number of iterations to use in running the Newton-Raphson algorithm\n",
    "        \"\"\"\n",
    "        X = np.hstack([X, np.ones((X.shape[0], 1))])\n",
    "        self.X = X\n",
    "        self.y = y\n",
    "        self.lmbda_ = l2_penalty\n",
    "        self.beta_ = np.zeros((1, X.shape[1]))  # np.random.uniform(-1, 1, size=(1, X.shape[1]))\n",
    "        self.num_iter_ = num_iter\n",
    "        self.log_likelihood_ = []\n",
    "\n",
    "    def _log_likelihood(self) -> float:\n",
    "        \"\"\"\n",
    "        Return the log-likelihood of the model given the data (i.e. P(D|M))\n",
    "        :return:\n",
    "        \"\"\"\n",
    "        theta_dot_x = self.beta_.dot(self.X.T)\n",
    "        log_prob_data_given_theta = self.y * theta_dot_x - np.log(1 + np.exp(theta_dot_x))\n",
    "        return np.sum(log_prob_data_given_theta)\n",
    "\n",
    "    def predict_probabilities(self, new_X: np.array = None) -> np.array:\n",
    "        \"\"\"\n",
    "        Return the vector of probability predictions\n",
    "        :param new_X:\n",
    "        :return:\n",
    "        \"\"\"\n",
    "        if new_X is None:\n",
    "            exp_log_odds = np.exp(np.dot(self.beta_, self.X.T)).T\n",
    "        else:\n",
    "            new_X = np.hstack([new_X, np.ones((new_X.shape[0], 1))])\n",
    "            exp_log_odds = np.exp(np.dot(self.beta_, new_X.T)).T\n",
    "        return (1. / (1. + exp_log_odds)).ravel()\n",
    "\n",
    "    def _score_function(self, probabilities) -> np.array:\n",
    "        \"\"\"\n",
    "        The gradient of the log-likelihood function\n",
    "        :param probabilities: (N * 1)-dimensional array of inferred probabilities\n",
    "        :return: (1 * M+1)-dimensional array\n",
    "        \"\"\"\n",
    "        return np.dot(self.X.T, (self.y - probabilities)) + self.lmbda_ * self.beta_\n",
    "\n",
    "    def _hessian(self, probabilities: np.array) -> np.array:\n",
    "        \"\"\"\n",
    "        The second derivative of the log-likelihood function\n",
    "        :param probabilities: (N * 1)-dimensional array of inferred probabilities\n",
    "        :return: (M+1 * M+1)-dimensional array\n",
    "        \"\"\"\n",
    "        W = np.eye(self.X.shape[0])\n",
    "        for i in range(W.shape[0]):\n",
    "            W[i, i] = probabilities[i] * (1 - probabilities[i])\n",
    "        return self.X.T.dot(W).dot(self.X) + self.lmbda_ * np.eye(self.X.shape[1])\n",
    "\n",
    "    def _newton_step(self) -> np.array:\n",
    "        \"\"\"\n",
    "        Take one Newton-Raphson step. That is, move to where the tangent line of the\n",
    "        first derivative of the log-likelihood function (score function) is equal to 0.\n",
    "        :return: (M+1 * 1)-dimensional array containing the new parameters of the model (self.beta_)\n",
    "        \"\"\"\n",
    "        probs = self.predict_probabilities()\n",
    "        score = self._score_function(probs)\n",
    "        hess = self._hessian(probs)\n",
    "        step = np.linalg.inv(hess).dot(score.T).ravel()\n",
    "        return (self.beta_ - step).reshape(self.beta_.shape)\n",
    "\n",
    "    def _newton_raphson(self):\n",
    "        \"\"\"\n",
    "        Run self.num_iter_ iterations of the Newton-Raphson algorithm to fit a logistic regression model\n",
    "        :return:\n",
    "        \"\"\"\n",
    "        for i in range(self.num_iter_):\n",
    "            print(\"Running iteration {num} of Newton-Raphson algorithm\".format(num=str(i)))\n",
    "            self.log_likelihood_.append(self._log_likelihood())\n",
    "            self.beta_ = self._newton_step()\n",
    "        print(\"Model-fitting complete\")\n",
    "\n",
    "    def fit(self):\n",
    "        \"\"\"\n",
    "        Fit a penalized logistic regression model\n",
    "        :return:\n",
    "        \"\"\"\n",
    "        self._newton_raphson()"
   ]
  },
  {
   "cell_type": "code",
   "execution_count": null,
   "metadata": {
    "collapsed": true
   },
   "outputs": [],
   "source": [
    ""
   ]
  },
  {
   "cell_type": "code",
   "execution_count": 33,
   "metadata": {
    "collapsed": true
   },
   "outputs": [],
   "source": [
    "from sklearn.cross_validation import train_test_split"
   ]
  },
  {
   "cell_type": "code",
   "execution_count": 34,
   "metadata": {
    "collapsed": true
   },
   "outputs": [],
   "source": [
    "X_train, X_test, y_train, y_test = train_test_split(new_X, y, test_size=0.25)"
   ]
  },
  {
   "cell_type": "code",
   "execution_count": 35,
   "metadata": {
    "collapsed": false
   },
   "outputs": [],
   "source": [
    "l = PenalizedLogisticRegression(X=X_train, y=y_train, l2_penalty=10, num_iter=5)"
   ]
  },
  {
   "cell_type": "code",
   "execution_count": 38,
   "metadata": {
    "collapsed": false
   },
   "outputs": [
    {
     "data": {
      "text/plain": [
       "(2966, 7284)"
      ]
     },
     "execution_count": 38,
     "metadata": {},
     "output_type": "execute_result"
    }
   ],
   "source": [
    "new_X.shape"
   ]
  },
  {
   "cell_type": "code",
   "execution_count": 36,
   "metadata": {
    "collapsed": false
   },
   "outputs": [
    {
     "name": "stdout",
     "output_type": "stream",
     "text": [
      "Running iteration 0 of Newton-Raphson algorithm\n"
     ]
    },
    {
     "ename": "ValueError",
     "evalue": "operands could not be broadcast together with shapes (7285,2224) (1,7285) ",
     "traceback": [
      "\u001b[0;31m---------------------------------------------------------------------------\u001b[0m",
      "\u001b[0;31mValueError\u001b[0m                                Traceback (most recent call last)",
      "\u001b[0;32m<ipython-input-36-4db7d9933cf8>\u001b[0m in \u001b[0;36m<module>\u001b[0;34m()\u001b[0m\n\u001b[0;32m----> 1\u001b[0;31m \u001b[0ml\u001b[0m\u001b[0;34m.\u001b[0m\u001b[0mfit\u001b[0m\u001b[0;34m(\u001b[0m\u001b[0;34m)\u001b[0m\u001b[0;34m\u001b[0m\u001b[0m\n\u001b[0m",
      "\u001b[0;32m<ipython-input-32-eeeb79f365d0>\u001b[0m in \u001b[0;36mfit\u001b[0;34m(self)\u001b[0m\n\u001b[1;32m     91\u001b[0m         \u001b[0;34m:\u001b[0m\u001b[0;32mreturn\u001b[0m\u001b[0;34m:\u001b[0m\u001b[0;34m\u001b[0m\u001b[0m\n\u001b[1;32m     92\u001b[0m         \"\"\"\n\u001b[0;32m---> 93\u001b[0;31m         \u001b[0mself\u001b[0m\u001b[0;34m.\u001b[0m\u001b[0m_newton_raphson\u001b[0m\u001b[0;34m(\u001b[0m\u001b[0;34m)\u001b[0m\u001b[0;34m\u001b[0m\u001b[0m\n\u001b[0m",
      "\u001b[0;32m<ipython-input-32-eeeb79f365d0>\u001b[0m in \u001b[0;36m_newton_raphson\u001b[0;34m(self)\u001b[0m\n\u001b[1;32m     83\u001b[0m             \u001b[0mprint\u001b[0m\u001b[0;34m(\u001b[0m\u001b[0;34m\"Running iteration {num} of Newton-Raphson algorithm\"\u001b[0m\u001b[0;34m.\u001b[0m\u001b[0mformat\u001b[0m\u001b[0;34m(\u001b[0m\u001b[0mnum\u001b[0m\u001b[0;34m=\u001b[0m\u001b[0mstr\u001b[0m\u001b[0;34m(\u001b[0m\u001b[0mi\u001b[0m\u001b[0;34m)\u001b[0m\u001b[0;34m)\u001b[0m\u001b[0;34m)\u001b[0m\u001b[0;34m\u001b[0m\u001b[0m\n\u001b[1;32m     84\u001b[0m             \u001b[0mself\u001b[0m\u001b[0;34m.\u001b[0m\u001b[0mlog_likelihood_\u001b[0m\u001b[0;34m.\u001b[0m\u001b[0mappend\u001b[0m\u001b[0;34m(\u001b[0m\u001b[0mself\u001b[0m\u001b[0;34m.\u001b[0m\u001b[0m_log_likelihood\u001b[0m\u001b[0;34m(\u001b[0m\u001b[0;34m)\u001b[0m\u001b[0;34m)\u001b[0m\u001b[0;34m\u001b[0m\u001b[0m\n\u001b[0;32m---> 85\u001b[0;31m             \u001b[0mself\u001b[0m\u001b[0;34m.\u001b[0m\u001b[0mbeta_\u001b[0m \u001b[0;34m=\u001b[0m \u001b[0mself\u001b[0m\u001b[0;34m.\u001b[0m\u001b[0m_newton_step\u001b[0m\u001b[0;34m(\u001b[0m\u001b[0;34m)\u001b[0m\u001b[0;34m\u001b[0m\u001b[0m\n\u001b[0m\u001b[1;32m     86\u001b[0m         \u001b[0mprint\u001b[0m\u001b[0;34m(\u001b[0m\u001b[0;34m\"Model-fitting complete\"\u001b[0m\u001b[0;34m)\u001b[0m\u001b[0;34m\u001b[0m\u001b[0m\n\u001b[1;32m     87\u001b[0m \u001b[0;34m\u001b[0m\u001b[0m\n",
      "\u001b[0;32m<ipython-input-32-eeeb79f365d0>\u001b[0m in \u001b[0;36m_newton_step\u001b[0;34m(self)\u001b[0m\n\u001b[1;32m     70\u001b[0m         \"\"\"\n\u001b[1;32m     71\u001b[0m         \u001b[0mprobs\u001b[0m \u001b[0;34m=\u001b[0m \u001b[0mself\u001b[0m\u001b[0;34m.\u001b[0m\u001b[0mpredict_probabilities\u001b[0m\u001b[0;34m(\u001b[0m\u001b[0;34m)\u001b[0m\u001b[0;34m\u001b[0m\u001b[0m\n\u001b[0;32m---> 72\u001b[0;31m         \u001b[0mscore\u001b[0m \u001b[0;34m=\u001b[0m \u001b[0mself\u001b[0m\u001b[0;34m.\u001b[0m\u001b[0m_score_function\u001b[0m\u001b[0;34m(\u001b[0m\u001b[0mprobs\u001b[0m\u001b[0;34m)\u001b[0m\u001b[0;34m\u001b[0m\u001b[0m\n\u001b[0m\u001b[1;32m     73\u001b[0m         \u001b[0mhess\u001b[0m \u001b[0;34m=\u001b[0m \u001b[0mself\u001b[0m\u001b[0;34m.\u001b[0m\u001b[0m_hessian\u001b[0m\u001b[0;34m(\u001b[0m\u001b[0mprobs\u001b[0m\u001b[0;34m)\u001b[0m\u001b[0;34m\u001b[0m\u001b[0m\n\u001b[1;32m     74\u001b[0m         \u001b[0mstep\u001b[0m \u001b[0;34m=\u001b[0m \u001b[0mnp\u001b[0m\u001b[0;34m.\u001b[0m\u001b[0mlinalg\u001b[0m\u001b[0;34m.\u001b[0m\u001b[0minv\u001b[0m\u001b[0;34m(\u001b[0m\u001b[0mhess\u001b[0m\u001b[0;34m)\u001b[0m\u001b[0;34m.\u001b[0m\u001b[0mdot\u001b[0m\u001b[0;34m(\u001b[0m\u001b[0mscore\u001b[0m\u001b[0;34m.\u001b[0m\u001b[0mT\u001b[0m\u001b[0;34m)\u001b[0m\u001b[0;34m.\u001b[0m\u001b[0mravel\u001b[0m\u001b[0;34m(\u001b[0m\u001b[0;34m)\u001b[0m\u001b[0;34m\u001b[0m\u001b[0m\n",
      "\u001b[0;32m<ipython-input-32-eeeb79f365d0>\u001b[0m in \u001b[0;36m_score_function\u001b[0;34m(self, probabilities)\u001b[0m\n\u001b[1;32m     50\u001b[0m         \u001b[0;34m:\u001b[0m\u001b[0;32mreturn\u001b[0m\u001b[0;34m:\u001b[0m \u001b[0;34m(\u001b[0m\u001b[0;36m1\u001b[0m \u001b[0;34m*\u001b[0m \u001b[0mM\u001b[0m\u001b[0;34m+\u001b[0m\u001b[0;36m1\u001b[0m\u001b[0;34m)\u001b[0m\u001b[0;34m-\u001b[0m\u001b[0mdimensional\u001b[0m \u001b[0marray\u001b[0m\u001b[0;34m\u001b[0m\u001b[0m\n\u001b[1;32m     51\u001b[0m         \"\"\"\n\u001b[0;32m---> 52\u001b[0;31m         \u001b[0;32mreturn\u001b[0m \u001b[0mnp\u001b[0m\u001b[0;34m.\u001b[0m\u001b[0mdot\u001b[0m\u001b[0;34m(\u001b[0m\u001b[0mself\u001b[0m\u001b[0;34m.\u001b[0m\u001b[0mX\u001b[0m\u001b[0;34m.\u001b[0m\u001b[0mT\u001b[0m\u001b[0;34m,\u001b[0m \u001b[0;34m(\u001b[0m\u001b[0mself\u001b[0m\u001b[0;34m.\u001b[0m\u001b[0my\u001b[0m \u001b[0;34m-\u001b[0m \u001b[0mprobabilities\u001b[0m\u001b[0;34m)\u001b[0m\u001b[0;34m)\u001b[0m \u001b[0;34m+\u001b[0m \u001b[0mself\u001b[0m\u001b[0;34m.\u001b[0m\u001b[0mlmbda_\u001b[0m \u001b[0;34m*\u001b[0m \u001b[0mself\u001b[0m\u001b[0;34m.\u001b[0m\u001b[0mbeta_\u001b[0m\u001b[0;34m\u001b[0m\u001b[0m\n\u001b[0m\u001b[1;32m     53\u001b[0m \u001b[0;34m\u001b[0m\u001b[0m\n\u001b[1;32m     54\u001b[0m     \u001b[0;32mdef\u001b[0m \u001b[0m_hessian\u001b[0m\u001b[0;34m(\u001b[0m\u001b[0mself\u001b[0m\u001b[0;34m,\u001b[0m \u001b[0mprobabilities\u001b[0m\u001b[0;34m:\u001b[0m \u001b[0mnp\u001b[0m\u001b[0;34m.\u001b[0m\u001b[0marray\u001b[0m\u001b[0;34m)\u001b[0m \u001b[0;34m->\u001b[0m \u001b[0mnp\u001b[0m\u001b[0;34m.\u001b[0m\u001b[0marray\u001b[0m\u001b[0;34m:\u001b[0m\u001b[0;34m\u001b[0m\u001b[0m\n",
      "\u001b[0;31mValueError\u001b[0m: operands could not be broadcast together with shapes (7285,2224) (1,7285) "
     ],
     "output_type": "error"
    }
   ],
   "source": [
    "l.fit()"
   ]
  },
  {
   "cell_type": "code",
   "execution_count": 231,
   "metadata": {
    "collapsed": false
   },
   "outputs": [
    {
     "data": {
      "text/plain": [
       "<matplotlib.axes._subplots.AxesSubplot at 0x7f4fcad9c710>"
      ]
     },
     "execution_count": 231,
     "metadata": {},
     "output_type": "execute_result"
    },
    {
     "data": {
      "image/png": "[encoded data removed]",
      "text/plain": [
       "<matplotlib.figure.Figure at 0x7f4ff43ddf60>"
      ]
     },
     "metadata": {},
     "output_type": "display_data"
    }
   ],
   "source": [
    "pd.Series(l.beta_.ravel()).hist()"
   ]
  },
  {
   "cell_type": "code",
   "execution_count": 221,
   "metadata": {
    "collapsed": false
   },
   "outputs": [
    {
     "data": {
      "text/plain": [
       "(array([  492.,    40.,    18.,    27.,    13.,   119.,     6.,     9.,\n",
       "           76.,  2166.]),\n",
       " array([  1.56499613e-18,   1.00000000e-01,   2.00000000e-01,\n",
       "          3.00000000e-01,   4.00000000e-01,   5.00000000e-01,\n",
       "          6.00000000e-01,   7.00000000e-01,   8.00000000e-01,\n",
       "          9.00000000e-01,   1.00000000e+00]),\n",
       " <a list of 10 Patch objects>)"
      ]
     },
     "execution_count": 221,
     "metadata": {},
     "output_type": "execute_result"
    },
    {
     "data": {
      "image/png": "[encoded data removed]",
      "text/plain": [
       "<matplotlib.figure.Figure at 0x7f5005dab518>"
      ]
     },
     "metadata": {},
     "output_type": "display_data"
    }
   ],
   "source": [
    "plt.hist(l.predict_probabilities())"
   ]
  },
  {
   "cell_type": "code",
   "execution_count": 224,
   "metadata": {
    "collapsed": false
   },
   "outputs": [
    {
     "data": {
      "text/plain": [
       "<matplotlib.axes._subplots.AxesSubplot at 0x7f50047f2358>"
      ]
     },
     "execution_count": 224,
     "metadata": {},
     "output_type": "execute_result"
    },
    {
     "data": {
      "image/png": "[encoded data removed]",
      "text/plain": [
       "<matplotlib.figure.Figure at 0x7f50022ce048>"
      ]
     },
     "metadata": {},
     "output_type": "display_data"
    }
   ],
   "source": [
    "pd.Series(y).hist()"
   ]
  },
  {
   "cell_type": "code",
   "execution_count": 225,
   "metadata": {
    "collapsed": true
   },
   "outputs": [],
   "source": [
    "from sklearn.metrics import roc_auc_score"
   ]
  },
  {
   "cell_type": "code",
   "execution_count": null,
   "metadata": {
    "collapsed": true
   },
   "outputs": [],
   "source": [
    ""
   ]
  },
  {
   "cell_type": "code",
   "execution_count": 235,
   "metadata": {
    "collapsed": false
   },
   "outputs": [
    {
     "data": {
      "text/plain": [
       "(2224, 7284)"
      ]
     },
     "execution_count": 235,
     "metadata": {},
     "output_type": "execute_result"
    }
   ],
   "source": [
    "X_train.shape"
   ]
  },
  {
   "cell_type": "code",
   "execution_count": 241,
   "metadata": {
    "collapsed": false
   },
   "outputs": [
    {
     "data": {
      "text/plain": [
       "0.83856428267347805"
      ]
     },
     "execution_count": 241,
     "metadata": {},
     "output_type": "execute_result"
    }
   ],
   "source": [
    "roc_auc_score(y_test, l.predict_probabilities(X_test))"
   ]
  },
  {
   "cell_type": "code",
   "execution_count": null,
   "metadata": {
    "collapsed": true
   },
   "outputs": [],
   "source": [
    ""
   ]
  },
  {
   "cell_type": "code",
   "execution_count": null,
   "metadata": {
    "collapsed": true
   },
   "outputs": [],
   "source": [
    ""
   ]
  },
  {
   "cell_type": "code",
   "execution_count": null,
   "metadata": {
    "collapsed": true
   },
   "outputs": [],
   "source": [
    ""
   ]
  },
  {
   "cell_type": "code",
   "execution_count": null,
   "metadata": {
    "collapsed": true
   },
   "outputs": [],
   "source": [
    ""
   ]
  }
 ],
 "metadata": {
  "kernelspec": {
   "display_name": "Python 3",
   "language": "python",
   "name": "python3"
  },
  "language_info": {
   "codemirror_mode": {
    "name": "ipython",
    "version": 3.0
   },
   "file_extension": ".py",
   "mimetype": "text/x-python",
   "name": "python",
   "nbconvert_exporter": "python",
   "pygments_lexer": "ipython3",
   "version": "3.5.2"
  }
 },
 "nbformat": 4,
 "nbformat_minor": 0
}