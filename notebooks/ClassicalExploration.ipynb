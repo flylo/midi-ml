{
 "cells": [
  {
   "cell_type": "code",
   "execution_count": 1,
   "metadata": {
    "collapsed": false
   },
   "outputs": [],
   "source": [
    "import os\n",
    "import numpy as np\n",
    "import pandas as pd\n",
    "import music21 as m21\n",
    "import mido\n",
    "from typing import List\n",
    "from itertools import product\n",
    "from collections import defaultdict\n",
    "from sklearn.externals import joblib\n",
    "from scipy.sparse import dok_matrix, vstack\n",
    "from easy_ml.tools.util import download_from_gcs"
   ]
  },
  {
   "cell_type": "code",
   "execution_count": 2,
   "metadata": {
    "collapsed": true
   },
   "outputs": [],
   "source": [
    "%matplotlib inline"
   ]
  },
  {
   "cell_type": "code",
   "execution_count": 3,
   "metadata": {
    "collapsed": true
   },
   "outputs": [],
   "source": [
    "from matplotlib import pyplot as plt"
   ]
  },
  {
   "cell_type": "code",
   "execution_count": 39,
   "metadata": {
    "collapsed": true
   },
   "outputs": [],
   "source": [
    "DATA_DIR = '/home/jovyan/persistent_data/data/classical-corpus/'"
   ]
  },
  {
   "cell_type": "code",
   "execution_count": 4,
   "metadata": {
    "collapsed": true
   },
   "outputs": [],
   "source": [
    "download_from_gcs(bucket_name='midi-files',\n",
    "                  prefix='collections/classical-collection/k_collection/',\n",
    "                  local_fs_loc=DATA_DIR)"
   ]
  },
  {
   "cell_type": "code",
   "execution_count": 5,
   "metadata": {
    "collapsed": false
   },
   "outputs": [],
   "source": [
    "midi_files = os.listdir(DATA_DIR)"
   ]
  },
  {
   "cell_type": "markdown",
   "metadata": {},
   "source": [
    "## Note Encoding Schemes\n",
    "* m-Bar Encodings: Similar to a term-document frequency matrix. Encode a multinomial distribution of notes over a sequence of m measures\n",
    "    * Parts together in their\n",
    "    * Pitches encoded as their numerical value, rests encoded as 0\n",
    "    * Pitches encoded as their numerical value, no rests\n",
    "* m-bar time series: Each part is an m-bar time series over 127 notes\n",
    "    * Pitches encoded as their numerical value, rests encoded as 0 (only sensible way in this scenario)\n",
    "* n-Note Encodings: Similar to n-grams; sequences of m measures will be encoded into $127^n$ features\n",
    "    * Pitches encoded as their numerical value, rests encoded as 0\n",
    "    * Pitches encoded as their numerical value, no rests\n",
    "* n-Note Pitch-Difference Encodings: Similar to above, but instead of mapping each feature distinct pitch as a feature, the difference between subsequent pitches will be analyzed to try to capture melodic patterns\n",
    "    * Pitches encoded as their numerical value, rests encoded as 0? (probably not sensible in this scenario)\n",
    "    * Pitches encoded as their numerical value, no rests\n",
    "    * Do we add durations (like in A Comparison of Statistical Approaches to Symbolic Genre Recognition)\n",
    "\n",
    "**NOTE** Generate the full feature set by iterating through the entire scale of notes"
   ]
  },
  {
   "cell_type": "markdown",
   "metadata": {
    "collapsed": true
   },
   "source": [
    "### n-Note Encodings"
   ]
  },
  {
   "cell_type": "code",
   "execution_count": 334,
   "metadata": {
    "collapsed": true
   },
   "outputs": [],
   "source": [
    "# TODO: coansistency in variable namings (e.g. path_ vs path)\n",
    "# TODO: docstrings\n",
    "# TODO: save additional metadata?"
   ]
  },
  {
   "cell_type": "code",
   "execution_count": 6,
   "metadata": {
    "collapsed": true
   },
   "outputs": [],
   "source": [
    "def window_gen(sequence, n):\n",
    "    windowed_iterator = []\n",
    "    low = 0\n",
    "    high = n\n",
    "    for note in sequence:\n",
    "        window = sequence[low:high]\n",
    "        if len(window) < n:\n",
    "            break\n",
    "        low += 1\n",
    "        high += 1\n",
    "        yield tuple(window)"
   ]
  },
  {
   "cell_type": "code",
   "execution_count": 79,
   "metadata": {
    "collapsed": false
   },
   "outputs": [],
   "source": [
    "class MidiFeatureCorpus(object):\n",
    "    def __init__(self, path: str, note_window_size: int = 2):\n",
    "        self.path = path\n",
    "        self.note_window_size_ = note_window_size\n",
    "        self.files_ = self._depth_first_midi_search(self.path)\n",
    "        self.note_sequence_set = self.initialize_note_sequence_set(note_window_size)\n",
    "        self.sparse_matrix = dok_matrix((len(self.files_),\n",
    "                                         len(self.note_sequence_set)),\n",
    "                                        dtype=np.float32)\n",
    "    \n",
    "    def _depth_first_midi_search(self, path: str) -> List[str]:\n",
    "        files_out = []\n",
    "        paths = os.listdir(path)\n",
    "        for p in paths:\n",
    "            full_subpath = path + \"/\" + p\n",
    "            try:\n",
    "                dir_contents = os.listdir(full_subpath)\n",
    "                dfs_results = self._depth_first_midi_search(full_subpath)\n",
    "                for file in dfs_results:\n",
    "                    files_out.append(file)\n",
    "            except NotADirectoryError:\n",
    "                if full_subpath.endswith(\".mid\"):\n",
    "                    files_out.append(full_subpath)\n",
    "        return files_out\n",
    "    \n",
    "    @staticmethod\n",
    "    def initialize_note_sequence_set(window_size: int):\n",
    "        notes = [str(i) for i in range(128)]\n",
    "        notes_copies = [notes for i in range(window_size)]\n",
    "        note_sequences = []\n",
    "        for combo in product(*notes_copies):\n",
    "            note_sequences.append(combo[0] + \"|\" + combo[1])\n",
    "        return note_sequences\n",
    "    \n",
    "    @staticmethod\n",
    "    def get_n_note_sequence(midi: mido.MidiFile,\n",
    "                            note_window_size: int = 2):\n",
    "        notes = [str(m.note) for m in midi if m.type == \"note_on\"]\n",
    "        n_note_sequences = []\n",
    "        for note_seq in window_gen(notes, note_window_size):\n",
    "            n_note_sequences.append(\"|\".join([note for note in note_seq]))\n",
    "        return n_note_sequences\n",
    "    \n",
    "    @staticmethod\n",
    "    def sequence_encoder(seq: List[str]):\n",
    "        d = defaultdict(float)\n",
    "        for entry in seq:\n",
    "            d[entry] += 1.\n",
    "        return d\n",
    "    \n",
    "    def _parse_file_as_sequence(self, file_name):\n",
    "        parsed_file = mido.MidiFile(file_name)\n",
    "        return self.get_n_note_sequence(parsed_file, self.note_window_size_)\n",
    "        \n",
    "        \n",
    "    def parse_corpus(self):\n",
    "        for i, file in enumerate(self.files_):\n",
    "            try:\n",
    "                sequence = self._parse_file_as_sequence(file)\n",
    "                encoded_sequence = self.sequence_encoder(sequence)\n",
    "                for (seq, count) in encoded_sequence.items():\n",
    "                    j = self.note_sequence_set.index(seq)\n",
    "                    self.sparse_matrix[i, j] = count\n",
    "            except:\n",
    "#             except (OSError, KeyError, EOFError, ValueError) as e:\n",
    "                continue"
   ]
  },
  {
   "cell_type": "code",
   "execution_count": 80,
   "metadata": {
    "collapsed": false
   },
   "outputs": [],
   "source": [
    "class LabeledCorpusSet(object):\n",
    "    def __init__(self, path: str, note_window_size: int = 2):\n",
    "        self.path_ = path\n",
    "        self.note_window_size_ = note_window_size\n",
    "        self.corpus_name_list_ = os.listdir(self.path_)\n",
    "        self.corpus_labels = []\n",
    "        self.corpus_list_ = []\n",
    "        matrix_shape = (0, len(MidiFeatureCorpus.initialize_note_sequence_set(note_window_size)))\n",
    "        self.sparse_matrix = dok_matrix(matrix_shape)\n",
    "        self.parsed_ = False\n",
    "        \n",
    "    def parse_corpus_set(self):\n",
    "        \"\"\"\n",
    "        Iterates through the files in the corpus. Will ignore directory structure within\n",
    "        a corpus (e.g. if cantatas and sonatas are in different files)\n",
    "        \"\"\"\n",
    "        matrix_set = []\n",
    "        for corpus_name in self.corpus_name_list_:\n",
    "            file_path = self.path_ + corpus_name\n",
    "            print(\"reading from {}\".format(file_path))\n",
    "            corpus = MidiFeatureCorpus(file_path, self.note_window_size_)\n",
    "            corpus.parse_corpus()\n",
    "            self.corpus_list_.append(corpus)\n",
    "            for label in range(corpus.sparse_matrix.shape[0]):\n",
    "                self.corpus_labels.append(corpus_name)\n",
    "            matrix_set.append(corpus.sparse_matrix)\n",
    "        self.sparse_matrix = vstack(matrix_set)\n",
    "        self.parsed_ = True"
   ]
  },
  {
   "cell_type": "code",
   "execution_count": 81,
   "metadata": {
    "collapsed": false
   },
   "outputs": [],
   "source": [
    "labeled_corpus = LabeledCorpusSet(DATA_DIR)"
   ]
  },
  {
   "cell_type": "code",
   "execution_count": null,
   "metadata": {
    "collapsed": false
   },
   "outputs": [
    {
     "name": "stdout",
     "output_type": "stream",
     "text": [
      "reading from /home/jovyan/persistent_data/data/classical-corpus/gabrieli's\n",
      "reading from /home/jovyan/persistent_data/data/classical-corpus/telemann\n",
      "reading from /home/jovyan/persistent_data/data/classical-corpus/medtner\n",
      "reading from /home/jovyan/persistent_data/data/classical-corpus/haydn\n",
      "reading from /home/jovyan/persistent_data/data/classical-corpus/dvorak\n",
      "reading from /home/jovyan/persistent_data/data/classical-corpus/reger\n",
      "reading from /home/jovyan/persistent_data/data/classical-corpus/schoenberg\n",
      "reading from /home/jovyan/persistent_data/data/classical-corpus/couperin\n",
      "reading from /home/jovyan/persistent_data/data/classical-corpus/franck\n",
      "reading from /home/jovyan/persistent_data/data/classical-corpus/lasso\n",
      "reading from /home/jovyan/persistent_data/data/classical-corpus/joplin\n",
      "reading from /home/jovyan/persistent_data/data/classical-corpus/busoni\n",
      "reading from /home/jovyan/persistent_data/data/classical-corpus/bruckner\n",
      "reading from /home/jovyan/persistent_data/data/classical-corpus/schumann\n",
      "reading from /home/jovyan/persistent_data/data/classical-corpus/alkan\n",
      "reading from /home/jovyan/persistent_data/data/classical-corpus/respighi\n",
      "reading from /home/jovyan/persistent_data/data/classical-corpus/beethoven\n",
      "reading from /home/jovyan/persistent_data/data/classical-corpus/prokofiev\n",
      "reading from /home/jovyan/persistent_data/data/classical-corpus/bach-js\n"
     ]
    }
   ],
   "source": [
    "labeled_corpus.parse_corpus_set()"
   ]
  },
  {
   "cell_type": "code",
   "execution_count": null,
   "metadata": {
    "collapsed": false
   },
   "outputs": [],
   "source": [
    "joblib.dump(labeled_corpus, \"/home/jovyan/persistent_data/data/dumps/labeled_corpus.pkl\",\n",
    "           compress=1)"
   ]
  },
  {
   "cell_type": "code",
   "execution_count": null,
   "metadata": {
    "collapsed": true
   },
   "outputs": [],
   "source": []
  },
  {
   "cell_type": "code",
   "execution_count": null,
   "metadata": {
    "collapsed": true
   },
   "outputs": [],
   "source": []
  },
  {
   "cell_type": "code",
   "execution_count": null,
   "metadata": {
    "collapsed": true
   },
   "outputs": [],
   "source": []
  },
  {
   "cell_type": "code",
   "execution_count": null,
   "metadata": {
    "collapsed": true
   },
   "outputs": [],
   "source": []
  },
  {
   "cell_type": "code",
   "execution_count": null,
   "metadata": {
    "collapsed": false
   },
   "outputs": [],
   "source": [
    "\n",
    "\n",
    "\n",
    "\n"
   ]
  },
  {
   "cell_type": "markdown",
   "metadata": {},
   "source": [
    "# Modeling"
   ]
  },
  {
   "cell_type": "code",
   "execution_count": 61,
   "metadata": {
    "collapsed": true
   },
   "outputs": [],
   "source": [
    "def log_likelihood(beta):\n",
    "    theta_dot_x = beta.dot(X.T)\n",
    "    log_prob_data_given_theta = y * theta_dot_x - np.log(1 + np.exp(theta_dot_x))\n",
    "    return np.sum(log_prob_data_given_theta)"
   ]
  },
  {
   "cell_type": "code",
   "execution_count": 62,
   "metadata": {
    "collapsed": false
   },
   "outputs": [],
   "source": [
    "def predicted_probabilities(beta):\n",
    "    exp_log_odds = np.exp(np.dot(beta, X.T)).T\n",
    "    return (1 / (1 + exp_log_odds)).ravel()\n",
    "\n",
    "def score_function(beta, probabilities, lmbda):\n",
    "    return np.dot(X.T, (y - probabilities)) + lmbda*beta\n",
    "\n",
    "def hessian(beta, probabilities, lmbda):\n",
    "    W = np.eye(X.shape[0])\n",
    "    for i in range(W.shape[0]):\n",
    "        W[i,i] = probabilities[i] * (1 - probabilities[i])\n",
    "    return X.T.dot(W).dot(X) + lmbda*np.eye(X.shape[1])"
   ]
  },
  {
   "cell_type": "code",
   "execution_count": 63,
   "metadata": {
    "collapsed": true
   },
   "outputs": [],
   "source": [
    "def newton_step(beta, lmbda):\n",
    "    probs = predicted_probabilities(beta)\n",
    "    score = score_function(beta, probs, lmbda)\n",
    "    hess = hessian(beta, probs, lmbda)\n",
    "    step = np.linalg.inv(hess).dot(score.T).ravel()\n",
    "    return (beta - step).reshape(beta.shape)"
   ]
  },
  {
   "cell_type": "code",
   "execution_count": 64,
   "metadata": {
    "collapsed": true
   },
   "outputs": [],
   "source": [
    "def newton_raphson(beta_init, lmbda=0.1, num_iter=10):\n",
    "    ll = []\n",
    "    current_beta = beta_init\n",
    "    for i in range(num_iter):\n",
    "        log_lik = log_likelihood(current_beta)\n",
    "        ll.append(log_lik)\n",
    "        current_beta = newton_step(current_beta, lmbda)\n",
    "    return current_beta, ll"
   ]
  },
  {
   "cell_type": "code",
   "execution_count": null,
   "metadata": {
    "collapsed": true
   },
   "outputs": [],
   "source": []
  },
  {
   "cell_type": "code",
   "execution_count": 65,
   "metadata": {
    "collapsed": true
   },
   "outputs": [],
   "source": [
    "X = labeled_corpus.sparse_matrix.todense()"
   ]
  },
  {
   "cell_type": "code",
   "execution_count": 68,
   "metadata": {
    "collapsed": false
   },
   "outputs": [
    {
     "data": {
      "text/plain": [
       "haydn    739\n",
       "dtype: int64"
      ]
     },
     "execution_count": 68,
     "metadata": {},
     "output_type": "execute_result"
    }
   ],
   "source": [
    "pd.Series(labeled_corpus.corpus_labels).value_counts()"
   ]
  },
  {
   "cell_type": "code",
   "execution_count": null,
   "metadata": {
    "collapsed": true
   },
   "outputs": [],
   "source": [
    "beta_init = np.random.uniform(-1, 1, size=(num_classes-1, X.shape[1]))"
   ]
  },
  {
   "cell_type": "code",
   "execution_count": null,
   "metadata": {
    "collapsed": true
   },
   "outputs": [],
   "source": []
  },
  {
   "cell_type": "code",
   "execution_count": null,
   "metadata": {
    "collapsed": true
   },
   "outputs": [],
   "source": []
  },
  {
   "cell_type": "code",
   "execution_count": null,
   "metadata": {
    "collapsed": true
   },
   "outputs": [],
   "source": [
    "fitted, ll = newton_raphson(beta_init, 10)"
   ]
  },
  {
   "cell_type": "code",
   "execution_count": null,
   "metadata": {
    "collapsed": true
   },
   "outputs": [],
   "source": []
  },
  {
   "cell_type": "code",
   "execution_count": null,
   "metadata": {
    "collapsed": true
   },
   "outputs": [],
   "source": []
  }
 ],
 "metadata": {
  "kernelspec": {
   "display_name": "Python 3",
   "language": "python",
   "name": "python3"
  },
  "language_info": {
   "codemirror_mode": {
    "name": "ipython",
    "version": 3
   },
   "file_extension": ".py",
   "mimetype": "text/x-python",
   "name": "python",
   "nbconvert_exporter": "python",
   "pygments_lexer": "ipython3",
   "version": "3.5.2"
  }
 },
 "nbformat": 4,
 "nbformat_minor": 1
}
