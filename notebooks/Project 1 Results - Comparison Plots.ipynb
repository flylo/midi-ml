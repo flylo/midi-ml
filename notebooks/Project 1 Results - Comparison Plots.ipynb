{
 "cells": [
  {
   "cell_type": "code",
   "execution_count": 1,
   "metadata": {
    "collapsed": true
   },
   "outputs": [],
   "source": [
    "%matplotlib inline"
   ]
  },
  {
   "cell_type": "code",
   "execution_count": 2,
   "metadata": {
    "collapsed": true
   },
   "outputs": [],
   "source": [
    "import numpy as np\n",
    "from matplotlib import pyplot as plt"
   ]
  },
  {
   "cell_type": "code",
   "execution_count": 3,
   "metadata": {
    "collapsed": true
   },
   "outputs": [],
   "source": [
    "import seaborn as sns"
   ]
  },
  {
   "cell_type": "code",
   "execution_count": null,
   "metadata": {
    "collapsed": true
   },
   "outputs": [],
   "source": []
  },
  {
   "cell_type": "code",
   "execution_count": 4,
   "metadata": {
    "collapsed": true
   },
   "outputs": [],
   "source": [
    "logistic_normal_mcc_10 = [.567, .636, .679]\n",
    "logistic_normal_mcc_1000 = [.749, .769, .809]\n",
    "logistic_normal_mcc_100000 = [.653, .691, .722]"
   ]
  },
  {
   "cell_type": "code",
   "execution_count": 5,
   "metadata": {
    "collapsed": true
   },
   "outputs": [],
   "source": [
    "logistic_normal_accuracy_10 = [0.853, 0.874, 0.891]\n",
    "logistic_normal_accuracy_1000 = [0.911, 0.920, 0.936]\n",
    "logistic_normal_accuracy_100000 = [0.886, 0.894, 0.903]"
   ]
  },
  {
   "cell_type": "code",
   "execution_count": null,
   "metadata": {
    "collapsed": true
   },
   "outputs": [],
   "source": []
  },
  {
   "cell_type": "code",
   "execution_count": 6,
   "metadata": {
    "collapsed": true
   },
   "outputs": [],
   "source": [
    "# logistic_undersampled_mcc_10 = [.489, .539, .581]\n",
    "# logistic_undersampled_mcc_1000 = [.662, .731, .801]\n",
    "# logistic_undersampled_mcc_100000 = [.525, .56, .590]"
   ]
  },
  {
   "cell_type": "code",
   "execution_count": 7,
   "metadata": {
    "collapsed": true
   },
   "outputs": [],
   "source": [
    "# logistic_undersampled_accuracy_10 = [.805, .82, .848]\n",
    "# logistic_undersampled_accuracy_1000 = [.879, .899, .924]\n",
    "# logistic_undersampled_accuracy_100000 = [.785, .81, .833]"
   ]
  },
  {
   "cell_type": "code",
   "execution_count": null,
   "metadata": {
    "collapsed": true
   },
   "outputs": [],
   "source": []
  },
  {
   "cell_type": "code",
   "execution_count": 8,
   "metadata": {
    "collapsed": true
   },
   "outputs": [],
   "source": [
    "multinomial_nb_mcc = [.421, .493, .549]\n",
    "multinomial_nb_accuracy = [.785, .798, .812]"
   ]
  },
  {
   "cell_type": "code",
   "execution_count": null,
   "metadata": {
    "collapsed": true
   },
   "outputs": [],
   "source": []
  },
  {
   "cell_type": "code",
   "execution_count": 9,
   "metadata": {
    "collapsed": true
   },
   "outputs": [],
   "source": [
    "gaussian_nb_mcc = [.343, .385, .413]\n",
    "gaussian_nb_accuracy = [.799, .809, .825]"
   ]
  },
  {
   "cell_type": "code",
   "execution_count": null,
   "metadata": {
    "collapsed": true
   },
   "outputs": [],
   "source": []
  },
  {
   "cell_type": "code",
   "execution_count": 10,
   "metadata": {
    "collapsed": true
   },
   "outputs": [],
   "source": [
    "logistic_pca_mcc_01 = [.716, .754, .773]\n",
    "logistic_pca_mcc_1 = [.733, .758, .772]\n",
    "logistic_pca_mcc_10 = [.669, .740, .767]"
   ]
  },
  {
   "cell_type": "code",
   "execution_count": 11,
   "metadata": {
    "collapsed": true
   },
   "outputs": [],
   "source": [
    "logistic_pca_accuracy_01 = [0.904, 0.915, 0.921]\n",
    "logistic_pca_accuracy_1 = [0.908, 0.916, 0.919]\n",
    "logistic_pca_accuracy_10 = [0.894, 0.911, 0.919]"
   ]
  },
  {
   "cell_type": "code",
   "execution_count": null,
   "metadata": {
    "collapsed": true
   },
   "outputs": [],
   "source": []
  },
  {
   "cell_type": "code",
   "execution_count": 12,
   "metadata": {
    "collapsed": true
   },
   "outputs": [],
   "source": [
    "lda_mcc_001 = [.539, .605, .658]\n",
    "lda_mcc_01 = [.635, .67, .729]\n",
    "lda_mcc_3 = [.566, .610, .646]"
   ]
  },
  {
   "cell_type": "code",
   "execution_count": 13,
   "metadata": {
    "collapsed": true
   },
   "outputs": [],
   "source": [
    "lda_accuracy_001 = [0.85, 0.869, 0.879]\n",
    "lda_accuracy_01 = [0.878, .888, .914]\n",
    "lda_accuracy_3 = [.852, .87, .888]"
   ]
  },
  {
   "cell_type": "code",
   "execution_count": null,
   "metadata": {
    "collapsed": true
   },
   "outputs": [],
   "source": []
  },
  {
   "cell_type": "code",
   "execution_count": null,
   "metadata": {
    "collapsed": true
   },
   "outputs": [],
   "source": []
  },
  {
   "cell_type": "code",
   "execution_count": null,
   "metadata": {
    "collapsed": true
   },
   "outputs": [],
   "source": []
  },
  {
   "cell_type": "code",
   "execution_count": 14,
   "metadata": {
    "collapsed": true
   },
   "outputs": [],
   "source": [
    "import pandas as pd"
   ]
  },
  {
   "cell_type": "code",
   "execution_count": null,
   "metadata": {
    "collapsed": false
   },
   "outputs": [],
   "source": []
  },
  {
   "cell_type": "code",
   "execution_count": null,
   "metadata": {
    "collapsed": true
   },
   "outputs": [],
   "source": []
  },
  {
   "cell_type": "code",
   "execution_count": null,
   "metadata": {
    "collapsed": true
   },
   "outputs": [],
   "source": []
  },
  {
   "cell_type": "code",
   "execution_count": null,
   "metadata": {
    "collapsed": true
   },
   "outputs": [],
   "source": []
  },
  {
   "cell_type": "code",
   "execution_count": null,
   "metadata": {
    "collapsed": true
   },
   "outputs": [],
   "source": []
  },
  {
   "cell_type": "code",
   "execution_count": 15,
   "metadata": {
    "collapsed": false
   },
   "outputs": [],
   "source": [
    "model_names = []\n",
    "metric_names = []\n",
    "metric_values = []"
   ]
  },
  {
   "cell_type": "code",
   "execution_count": 16,
   "metadata": {
    "collapsed": false
   },
   "outputs": [],
   "source": [
    "model_names = model_names + [\"Gaussian NB\" for i in range(6)]\n",
    "metric_names = metric_names + [\"mcc\" for i in range(3)] + [\"accuracy\" for i in range(3)]\n",
    "metric_values = metric_values + gaussian_nb_mcc + gaussian_nb_accuracy"
   ]
  },
  {
   "cell_type": "code",
   "execution_count": 17,
   "metadata": {
    "collapsed": true
   },
   "outputs": [],
   "source": [
    "model_names = model_names + [\"Miltinomial NB\" for i in range(6)]\n",
    "metric_names = metric_names + [\"mcc\" for i in range(3)] + [\"accuracy\" for i in range(3)]\n",
    "metric_values = metric_values + multinomial_nb_mcc + multinomial_nb_accuracy"
   ]
  },
  {
   "cell_type": "code",
   "execution_count": 18,
   "metadata": {
    "collapsed": true
   },
   "outputs": [],
   "source": [
    "model_names = model_names + [\"Logistic Reg-Low\" for i in range(6)]\n",
    "metric_names = metric_names + [\"mcc\" for i in range(3)] + [\"accuracy\" for i in range(3)]\n",
    "metric_values = metric_values + logistic_normal_mcc_10 + logistic_normal_accuracy_10"
   ]
  },
  {
   "cell_type": "code",
   "execution_count": 19,
   "metadata": {
    "collapsed": true
   },
   "outputs": [],
   "source": [
    "model_names = model_names + [\"Logistic Reg-Opt\" for i in range(6)]\n",
    "metric_names = metric_names + [\"mcc\" for i in range(3)] + [\"accuracy\" for i in range(3)]\n",
    "metric_values = metric_values + logistic_normal_mcc_1000 + logistic_normal_accuracy_1000"
   ]
  },
  {
   "cell_type": "code",
   "execution_count": 20,
   "metadata": {
    "collapsed": true
   },
   "outputs": [],
   "source": [
    "model_names = model_names + [\"Logistic Reg-High\" for i in range(6)]\n",
    "metric_names = metric_names + [\"mcc\" for i in range(3)] + [\"accuracy\" for i in range(3)]\n",
    "metric_values = metric_values + logistic_normal_mcc_100000 + logistic_normal_accuracy_100000"
   ]
  },
  {
   "cell_type": "code",
   "execution_count": 21,
   "metadata": {
    "collapsed": true
   },
   "outputs": [],
   "source": [
    "model_names = model_names + [\"PCA Logistic Reg-Low\" for i in range(6)]\n",
    "metric_names = metric_names + [\"mcc\" for i in range(3)] + [\"accuracy\" for i in range(3)]\n",
    "metric_values = metric_values + logistic_pca_mcc_01 + logistic_pca_accuracy_01"
   ]
  },
  {
   "cell_type": "code",
   "execution_count": 22,
   "metadata": {
    "collapsed": true
   },
   "outputs": [],
   "source": [
    "model_names = model_names + [\"PCA Logistic Reg-Opt\" for i in range(6)]\n",
    "metric_names = metric_names + [\"mcc\" for i in range(3)] + [\"accuracy\" for i in range(3)]\n",
    "metric_values = metric_values + logistic_pca_mcc_1 + logistic_pca_accuracy_1"
   ]
  },
  {
   "cell_type": "code",
   "execution_count": 23,
   "metadata": {
    "collapsed": true
   },
   "outputs": [],
   "source": [
    "model_names = model_names + [\"PCA Logistic Reg-High\" for i in range(6)]\n",
    "metric_names = metric_names + [\"mcc\" for i in range(3)] + [\"accuracy\" for i in range(3)]\n",
    "metric_values = metric_values + logistic_pca_mcc_10 + logistic_pca_accuracy_10"
   ]
  },
  {
   "cell_type": "code",
   "execution_count": 24,
   "metadata": {
    "collapsed": true
   },
   "outputs": [],
   "source": [
    "model_names = model_names + [\"LDA Reg-Low\" for i in range(6)]\n",
    "metric_names = metric_names + [\"mcc\" for i in range(3)] + [\"accuracy\" for i in range(3)]\n",
    "metric_values = metric_values + lda_mcc_001 + lda_accuracy_001"
   ]
  },
  {
   "cell_type": "code",
   "execution_count": 25,
   "metadata": {
    "collapsed": true
   },
   "outputs": [],
   "source": [
    "model_names = model_names + [\"LDA Reg-Opt\" for i in range(6)]\n",
    "metric_names = metric_names + [\"mcc\" for i in range(3)] + [\"accuracy\" for i in range(3)]\n",
    "metric_values = metric_values + lda_mcc_01 + lda_accuracy_01"
   ]
  },
  {
   "cell_type": "code",
   "execution_count": 26,
   "metadata": {
    "collapsed": true
   },
   "outputs": [],
   "source": [
    "model_names = model_names + [\"LDA Reg-High\" for i in range(6)]\n",
    "metric_names = metric_names + [\"mcc\" for i in range(3)] + [\"accuracy\" for i in range(3)]\n",
    "metric_values = metric_values + lda_mcc_3 + lda_accuracy_3"
   ]
  },
  {
   "cell_type": "code",
   "execution_count": null,
   "metadata": {
    "collapsed": true
   },
   "outputs": [],
   "source": []
  },
  {
   "cell_type": "code",
   "execution_count": null,
   "metadata": {
    "collapsed": true
   },
   "outputs": [],
   "source": []
  },
  {
   "cell_type": "code",
   "execution_count": null,
   "metadata": {
    "collapsed": true
   },
   "outputs": [],
   "source": []
  },
  {
   "cell_type": "code",
   "execution_count": null,
   "metadata": {
    "collapsed": true
   },
   "outputs": [],
   "source": []
  },
  {
   "cell_type": "code",
   "execution_count": 27,
   "metadata": {
    "collapsed": false
   },
   "outputs": [],
   "source": [
    "metric_df = pd.DataFrame({\"model\": model_names,\n",
    "\"metric\": metric_names,\n",
    "\"values\": metric_values})"
   ]
  },
  {
   "cell_type": "code",
   "execution_count": null,
   "metadata": {
    "collapsed": true
   },
   "outputs": [],
   "source": []
  },
  {
   "cell_type": "markdown",
   "metadata": {},
   "source": [
    "# Plot"
   ]
  },
  {
   "cell_type": "code",
   "execution_count": 28,
   "metadata": {
    "collapsed": false
   },
   "outputs": [],
   "source": [
    "accuracy_df = metric_df[metric_df.metric == \"accuracy\"]\n",
    "accuracy_df.columns = [\"metric\", \"Model\", \"Accuracy Score\"]"
   ]
  },
  {
   "cell_type": "code",
   "execution_count": 56,
   "metadata": {
    "collapsed": false
   },
   "outputs": [
    {
     "data": {
      "image/png": "[encoded data removed]",
      "text/plain": [
       "<matplotlib.figure.Figure at 0x7f1875a63320>"
      ]
     },
     "metadata": {},
     "output_type": "display_data"
    }
   ],
   "source": [
    "plt.figure(figsize=(8,6))\n",
    "sns.set_style(\"whitegrid\")\n",
    "g = sns.stripplot(x=\"Model\",\n",
    "              y=\"Accuracy Score\",\n",
    "              data=accuracy_df,\n",
    "              size=8,\n",
    "              color=\"gray\")\n",
    "for item in g.get_xticklabels():\n",
    "    item.set_rotation(90)\n",
    "\n",
    "plt.title(\"Accuracy Score - All Models\")\n",
    "plt.show()"
   ]
  },
  {
   "cell_type": "code",
   "execution_count": 50,
   "metadata": {
    "collapsed": true
   },
   "outputs": [],
   "source": [
    "mcc_df = metric_df[metric_df.metric == \"mcc\"]\n",
    "mcc_df.columns = [\"metric\", \"Model\", \"Matthews Correlation\"]"
   ]
  },
  {
   "cell_type": "code",
   "execution_count": 60,
   "metadata": {
    "collapsed": false
   },
   "outputs": [
    {
     "data": {
      "image/png": "[encoded data removed]",
      "text/plain": [
       "<matplotlib.figure.Figure at 0x7f1875d06518>"
      ]
     },
     "metadata": {},
     "output_type": "display_data"
    }
   ],
   "source": [
    "plt.figure(figsize=(8,6))\n",
    "sns.set_style(\"whitegrid\")\n",
    "g = sns.stripplot(x=\"Model\",\n",
    "              y=\"Matthews Correlation\",\n",
    "              data=mcc_df,\n",
    "              size=8,\n",
    "              color=\"gray\")\n",
    "for item in g.get_xticklabels():\n",
    "    item.set_rotation(90)\n",
    "\n",
    "plt.title(\"Matthews Correlation Coefficient - All Models\")\n",
    "plt.xlabel(\"Model\")\n",
    "plt.show()"
   ]
  },
  {
   "cell_type": "code",
   "execution_count": null,
   "metadata": {
    "collapsed": true
   },
   "outputs": [],
   "source": []
  }
 ],
 "metadata": {
  "kernelspec": {
   "display_name": "Python 3",
   "language": "python",
   "name": "python3"
  },
  "language_info": {
   "codemirror_mode": {
    "name": "ipython",
    "version": 3
   },
   "file_extension": ".py",
   "mimetype": "text/x-python",
   "name": "python",
   "nbconvert_exporter": "python",
   "pygments_lexer": "ipython3",
   "version": "3.5.2"
  }
 },
 "nbformat": 4,
 "nbformat_minor": 1
}
