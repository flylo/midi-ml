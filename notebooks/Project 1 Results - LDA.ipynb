{
 "cells": [
  {
   "cell_type": "markdown",
   "metadata": {},
   "source": [
    "# Results for Linear Discriminant Analysis"
   ]
  },
  {
   "cell_type": "code",
   "execution_count": 1,
   "metadata": {
    "collapsed": true
   },
   "outputs": [],
   "source": [
    "import os\n",
    "import pickle\n",
    "import numpy as np\n",
    "from scipy import sparse\n",
    "from sklearn.externals import joblib\n",
    "from sklearn.cross_validation import KFold\n",
    "from sklearn.metrics import confusion_matrix\n",
    "from sklearn.cross_validation import train_test_split\n",
    "from midi_ml.models.linear_decision_rules import LinearDiscriminantAnalysis"
   ]
  },
  {
   "cell_type": "code",
   "execution_count": 2,
   "metadata": {
    "collapsed": false
   },
   "outputs": [],
   "source": [
    "labels = joblib.load(\"/home/jovyan/persistent_data/data/dumps/labeled_corpus_labels.pkl\")\n",
    "features = joblib.load(\"/home/jovyan/persistent_data/data/dumps/labeled_corpus_matrix.pkl\")\n",
    "features = features.todense()\n",
    "bach_labels = [k for k in range(len(labels)) if labels[k] == \"bach-js\"]\n",
    "mozart_labels = [k for k in range(len(labels)) if labels[k] == \"mozart\"]\n",
    "X = features[bach_labels + mozart_labels].A\n",
    "y = np.array([1 for i in range(len(bach_labels))] + [0 for i in range(len(mozart_labels))])\n",
    "y = y.reshape((y.shape[0],))\n",
    "del features"
   ]
  },
  {
   "cell_type": "markdown",
   "metadata": {},
   "source": [
    "As an example, plot the single dimension that the LDA projects on to"
   ]
  },
  {
   "cell_type": "code",
   "execution_count": null,
   "metadata": {
    "collapsed": true
   },
   "outputs": [],
   "source": [
    "regularization_parameter = 0.01\n",
    "predicted = []\n",
    "actuals = []\n",
    "i = 0\n",
    "for train_idx, test_idx in KFold(n=X.shape[0], n_folds=5, shuffle=True):\n",
    "    X_train = X[train_idx]\n",
    "    X_test = X[test_idx]\n",
    "    y_train = y[train_idx]\n",
    "    y_test = y[test_idx]\n",
    "    lda = LinearDiscriminantAnalysis(X_train, y_train, regularization=regularization_parameter, keep_copy_of_X=False)\n",
    "    lda.fit()\n",
    "    preds = lda.predict(X_test)\n",
    "    predicted.append(preds)\n",
    "    actuals.append(y_test)\n",
    "    del lda\n",
    "    pickle.dump(predicted, open(\"./dumps/lda/predicted_fold_{fold}_reg_{reg}.pkl\"\n",
    "                                .format(fold=str(i), reg=str(regularization_parameter)), 'wb'))\n",
    "    pickle.dump(actuals, open(\"./dumps/lda/actuals_fold_{fold}_reg_{reg}.pkl\"\n",
    "                                .format(fold=str(i), reg=str(regularization_parameter)), 'wb'))\n",
    "    i += 1"
   ]
  },
  {
   "cell_type": "code",
   "execution_count": null,
   "metadata": {
    "collapsed": true
   },
   "outputs": [],
   "source": [
    "regularization_parameter = 0.1\n",
    "predicted = []\n",
    "actuals = []\n",
    "i = 0\n",
    "for train_idx, test_idx in KFold(n=X.shape[0], n_folds=5, shuffle=True):\n",
    "    X_train = X[train_idx]\n",
    "    X_test = X[test_idx]\n",
    "    y_train = y[train_idx]\n",
    "    y_test = y[test_idx]\n",
    "    lda = LinearDiscriminantAnalysis(X_train, y_train, regularization=regularization_parameter, keep_copy_of_X=False)\n",
    "    lda.fit()\n",
    "    preds = lda.predict(X_test)\n",
    "    predicted.append(preds)\n",
    "    actuals.append(y_test)\n",
    "    del lda\n",
    "    pickle.dump(predicted, open(\"./dumps/lda/predicted_fold_{fold}_reg_{reg}.pkl\"\n",
    "                                .format(fold=str(i), reg=str(regularization_parameter)), 'wb'))\n",
    "    pickle.dump(actuals, open(\"./dumps/lda/actuals_fold_{fold}_reg_{reg}.pkl\"\n",
    "                                .format(fold=str(i), reg=str(regularization_parameter)), 'wb'))\n",
    "    i += 1"
   ]
  },
  {
   "cell_type": "code",
   "execution_count": null,
   "metadata": {
    "collapsed": true
   },
   "outputs": [],
   "source": []
  },
  {
   "cell_type": "code",
   "execution_count": null,
   "metadata": {
    "collapsed": true
   },
   "outputs": [],
   "source": []
  },
  {
   "cell_type": "code",
   "execution_count": null,
   "metadata": {
    "collapsed": true
   },
   "outputs": [],
   "source": [
    "regularization_parameter = 0.3\n",
    "predicted = []\n",
    "actuals = []\n",
    "i = 0\n",
    "for train_idx, test_idx in KFold(n=X.shape[0], n_folds=5, shuffle=True):\n",
    "    X_train = X[train_idx]\n",
    "    X_test = X[test_idx]\n",
    "    y_train = y[train_idx]\n",
    "    y_test = y[test_idx]\n",
    "    lda = LinearDiscriminantAnalysis(X_train, y_train, regularization=regularization_parameter, keep_copy_of_X=False)\n",
    "    lda.fit()\n",
    "    preds = lda.predict(X_test)\n",
    "    predicted.append(preds)\n",
    "    actuals.append(y_test)\n",
    "    del lda\n",
    "    pickle.dump(predicted, open(\"./dumps/lda/predicted_fold_{fold}_reg_{reg}.pkl\"\n",
    "                                .format(fold=str(i), reg=str(regularization_parameter)), 'wb'))\n",
    "    pickle.dump(actuals, open(\"./dumps/lda/actuals_fold_{fold}_reg_{reg}.pkl\"\n",
    "                                .format(fold=str(i), reg=str(regularization_parameter)), 'wb'))\n",
    "    i += 1"
   ]
  },
  {
   "cell_type": "code",
   "execution_count": null,
   "metadata": {
    "collapsed": true
   },
   "outputs": [],
   "source": []
  },
  {
   "cell_type": "code",
   "execution_count": null,
   "metadata": {
    "collapsed": true
   },
   "outputs": [],
   "source": []
  },
  {
   "cell_type": "code",
   "execution_count": 36,
   "metadata": {
    "collapsed": true
   },
   "outputs": [],
   "source": [
    "regularization_parameter = 0.001\n",
    "predicted = []\n",
    "actuals = []\n",
    "i = 0\n",
    "for train_idx, test_idx in KFold(n=X.shape[0], n_folds=5, shuffle=True):\n",
    "    X_train = X[train_idx]\n",
    "    X_test = X[test_idx]\n",
    "    y_train = y[train_idx]\n",
    "    y_test = y[test_idx]\n",
    "    lda = LinearDiscriminantAnalysis(X_train, y_train, regularization=regularization_parameter, keep_copy_of_X=False)\n",
    "    lda.fit()\n",
    "    preds = lda.predict(X_test)\n",
    "    predicted.append(preds)\n",
    "    actuals.append(y_test)\n",
    "    del lda\n",
    "    pickle.dump(predicted, open(\"./dumps/lda/predicted_fold_{fold}_reg_{reg}.pkl\"\n",
    "                                .format(fold=str(i), reg=str(regularization_parameter)), 'wb'))\n",
    "    pickle.dump(actuals, open(\"./dumps/lda/actuals_fold_{fold}_reg_{reg}.pkl\"\n",
    "                                .format(fold=str(i), reg=str(regularization_parameter)), 'wb'))\n",
    "    i += 1"
   ]
  },
  {
   "cell_type": "code",
   "execution_count": null,
   "metadata": {
    "collapsed": true
   },
   "outputs": [],
   "source": []
  },
  {
   "cell_type": "markdown",
   "metadata": {},
   "source": [
    "# Results"
   ]
  },
  {
   "cell_type": "code",
   "execution_count": 14,
   "metadata": {
    "collapsed": true
   },
   "outputs": [],
   "source": [
    "from sklearn.metrics import precision_score, recall_score, f1_score, accuracy_score, matthews_corrcoef"
   ]
  },
  {
   "cell_type": "code",
   "execution_count": 39,
   "metadata": {
    "collapsed": true
   },
   "outputs": [],
   "source": [
    "regularizations = [0.001, 0.01, 0.1, 0.3, 0.5]"
   ]
  },
  {
   "cell_type": "code",
   "execution_count": 40,
   "metadata": {
    "collapsed": true
   },
   "outputs": [],
   "source": [
    "model_folder = \"./dumps/lda/\""
   ]
  },
  {
   "cell_type": "code",
   "execution_count": 41,
   "metadata": {
    "collapsed": false
   },
   "outputs": [
    {
     "name": "stdout",
     "output_type": "stream",
     "text": [
      "Regularization: 0.001\n",
      "confusion matrix\n",
      "[[ 67  75]\n",
      " [ 16 448]]\n",
      "\taccuracy\n",
      "\t\t 0.849834983498\n",
      "\tf1\n",
      "\t\t 0.90780141844\n",
      "\trecall\n",
      "\t\t 0.965517241379\n",
      "\tprecision\n",
      "\t\t 0.856596558317\n",
      "\tmcc\n",
      "\t\t 0.538816197119\n",
      "confusion matrix\n",
      "[[ 78  61]\n",
      " [ 16 451]]\n",
      "\taccuracy\n",
      "\t\t 0.872937293729\n",
      "\tf1\n",
      "\t\t 0.921348314607\n",
      "\trecall\n",
      "\t\t 0.96573875803\n",
      "\tprecision\n",
      "\t\t 0.880859375\n",
      "\tmcc\n",
      "\t\t 0.611908878937\n",
      "confusion matrix\n",
      "[[ 75  65]\n",
      " [ 17 448]]\n",
      "\taccuracy\n",
      "\t\t 0.864462809917\n",
      "\tf1\n",
      "\t\t 0.916155419223\n",
      "\trecall\n",
      "\t\t 0.963440860215\n",
      "\tprecision\n",
      "\t\t 0.873294346979\n",
      "\tmcc\n",
      "\t\t 0.586237304508\n",
      "confusion matrix\n",
      "[[ 91  60]\n",
      " [ 13 441]]\n",
      "\taccuracy\n",
      "\t\t 0.879338842975\n",
      "\tf1\n",
      "\t\t 0.923560209424\n",
      "\trecall\n",
      "\t\t 0.971365638767\n",
      "\tprecision\n",
      "\t\t 0.880239520958\n",
      "\tmcc\n",
      "\t\t 0.658421252548\n",
      "confusion matrix\n",
      "[[ 80  59]\n",
      " [ 15 451]]\n",
      "\taccuracy\n",
      "\t\t 0.877685950413\n",
      "\tf1\n",
      "\t\t 0.924180327869\n",
      "\trecall\n",
      "\t\t 0.967811158798\n",
      "\tprecision\n",
      "\t\t 0.88431372549\n",
      "\tmcc\n",
      "\t\t 0.628251769351\n",
      "\n",
      "\n",
      "\n",
      "\n",
      "\n",
      "Regularization: 0.01\n",
      "confusion matrix\n",
      "[[ 76  59]\n",
      " [ 12 459]]\n",
      "\taccuracy\n",
      "\t\t 0.882838283828\n",
      "\tf1\n",
      "\t\t 0.928210313448\n",
      "\trecall\n",
      "\t\t 0.974522292994\n",
      "\tprecision\n",
      "\t\t 0.8861003861\n",
      "\tmcc\n",
      "\t\t 0.634801109665\n",
      "confusion matrix\n",
      "[[ 95  68]\n",
      " [  5 438]]\n",
      "\taccuracy\n",
      "\t\t 0.879537953795\n",
      "\tf1\n",
      "\t\t 0.923076923077\n",
      "\trecall\n",
      "\t\t 0.988713318284\n",
      "\tprecision\n",
      "\t\t 0.865612648221\n",
      "\tmcc\n",
      "\t\t 0.682752886886\n",
      "confusion matrix\n",
      "[[ 78  66]\n",
      " [  8 453]]\n",
      "\taccuracy\n",
      "\t\t 0.877685950413\n",
      "\tf1\n",
      "\t\t 0.924489795918\n",
      "\trecall\n",
      "\t\t 0.982646420824\n",
      "\tprecision\n",
      "\t\t 0.872832369942\n",
      "\tmcc\n",
      "\t\t 0.63942483865\n",
      "confusion matrix\n",
      "[[ 83  57]\n",
      " [ 11 454]]\n",
      "\taccuracy\n",
      "\t\t 0.887603305785\n",
      "\tf1\n",
      "\t\t 0.930327868852\n",
      "\trecall\n",
      "\t\t 0.976344086022\n",
      "\tprecision\n",
      "\t\t 0.888454011742\n",
      "\tmcc\n",
      "\t\t 0.66264655801\n",
      "confusion matrix\n",
      "[[ 87  42]\n",
      " [ 10 466]]\n",
      "\taccuracy\n",
      "\t\t 0.914049586777\n",
      "\tf1\n",
      "\t\t 0.947154471545\n",
      "\trecall\n",
      "\t\t 0.978991596639\n",
      "\tprecision\n",
      "\t\t 0.917322834646\n",
      "\tmcc\n",
      "\t\t 0.729401276124\n",
      "\n",
      "\n",
      "\n",
      "\n",
      "\n",
      "Regularization: 0.1\n",
      "confusion matrix\n",
      "[[ 83  58]\n",
      " [ 15 450]]\n",
      "\taccuracy\n",
      "\t\t 0.879537953795\n",
      "\tf1\n",
      "\t\t 0.924974306269\n",
      "\trecall\n",
      "\t\t 0.967741935484\n",
      "\tprecision\n",
      "\t\t 0.885826771654\n",
      "\tmcc\n",
      "\t\t 0.638519114799\n",
      "confusion matrix\n",
      "[[ 80  59]\n",
      " [  8 459]]\n",
      "\taccuracy\n",
      "\t\t 0.889438943894\n",
      "\tf1\n",
      "\t\t 0.931979695431\n",
      "\trecall\n",
      "\t\t 0.982869379015\n",
      "\tprecision\n",
      "\t\t 0.8861003861\n",
      "\tmcc\n",
      "\t\t 0.666364715526\n",
      "confusion matrix\n",
      "[[100  49]\n",
      " [  7 449]]\n",
      "\taccuracy\n",
      "\t\t 0.907438016529\n",
      "\tf1\n",
      "\t\t 0.941299790356\n",
      "\trecall\n",
      "\t\t 0.984649122807\n",
      "\tprecision\n",
      "\t\t 0.901606425703\n",
      "\tmcc\n",
      "\t\t 0.740514942834\n",
      "confusion matrix\n",
      "[[ 78  58]\n",
      " [ 13 456]]\n",
      "\taccuracy\n",
      "\t\t 0.882644628099\n",
      "\tf1\n",
      "\t\t 0.927772126144\n",
      "\trecall\n",
      "\t\t 0.972281449893\n",
      "\tprecision\n",
      "\t\t 0.887159533074\n",
      "\tmcc\n",
      "\t\t 0.637376128309\n",
      "confusion matrix\n",
      "[[ 82  64]\n",
      " [ 11 448]]\n",
      "\taccuracy\n",
      "\t\t 0.876033057851\n",
      "\tf1\n",
      "\t\t 0.922760041195\n",
      "\trecall\n",
      "\t\t 0.976034858388\n",
      "\tprecision\n",
      "\t\t 0.875\n",
      "\tmcc\n",
      "\t\t 0.637865544285\n",
      "\n",
      "\n",
      "\n",
      "\n",
      "\n",
      "Regularization: 0.3\n",
      "confusion matrix\n",
      "[[ 79  53]\n",
      " [ 15 459]]\n",
      "\taccuracy\n",
      "\t\t 0.887788778878\n",
      "\tf1\n",
      "\t\t 0.931034482759\n",
      "\trecall\n",
      "\t\t 0.96835443038\n",
      "\tprecision\n",
      "\t\t 0.896484375\n",
      "\tmcc\n",
      "\t\t 0.646304479502\n",
      "confusion matrix\n",
      "[[ 81  63]\n",
      " [ 13 449]]\n",
      "\taccuracy\n",
      "\t\t 0.874587458746\n",
      "\tf1\n",
      "\t\t 0.921971252567\n",
      "\trecall\n",
      "\t\t 0.971861471861\n",
      "\tprecision\n",
      "\t\t 0.876953125\n",
      "\tmcc\n",
      "\t\t 0.628258631464\n",
      "confusion matrix\n",
      "[[ 84  66]\n",
      " [ 13 442]]\n",
      "\taccuracy\n",
      "\t\t 0.869421487603\n",
      "\tf1\n",
      "\t\t 0.917964693666\n",
      "\trecall\n",
      "\t\t 0.971428571429\n",
      "\tprecision\n",
      "\t\t 0.870078740157\n",
      "\tmcc\n",
      "\t\t 0.625429705123\n",
      "confusion matrix\n",
      "[[ 76  71]\n",
      " [ 18 440]]\n",
      "\taccuracy\n",
      "\t\t 0.852892561983\n",
      "\tf1\n",
      "\t\t 0.908152734778\n",
      "\trecall\n",
      "\t\t 0.960698689956\n",
      "\tprecision\n",
      "\t\t 0.861056751468\n",
      "\tmcc\n",
      "\t\t 0.565558148919\n",
      "confusion matrix\n",
      "[[ 74  64]\n",
      " [ 17 450]]\n",
      "\taccuracy\n",
      "\t\t 0.866115702479\n",
      "\tf1\n",
      "\t\t 0.917431192661\n",
      "\trecall\n",
      "\t\t 0.963597430407\n",
      "\tprecision\n",
      "\t\t 0.875486381323\n",
      "\tmcc\n",
      "\t\t 0.5867018414\n",
      "\n",
      "\n",
      "\n",
      "\n",
      "\n",
      "Regularization: 0.5\n",
      "confusion matrix\n",
      "[[ 79  60]\n",
      " [ 13 454]]\n",
      "\taccuracy\n",
      "\t\t 0.879537953795\n",
      "\tf1\n",
      "\t\t 0.925586136595\n",
      "\trecall\n",
      "\t\t 0.972162740899\n",
      "\tprecision\n",
      "\t\t 0.88326848249\n",
      "\tmcc\n",
      "\t\t 0.63327529437\n",
      "confusion matrix\n",
      "[[ 85  60]\n",
      " [ 13 448]]\n",
      "\taccuracy\n",
      "\t\t 0.879537953795\n",
      "\tf1\n",
      "\t\t 0.924664602683\n",
      "\trecall\n",
      "\t\t 0.971800433839\n",
      "\tprecision\n",
      "\t\t 0.88188976378\n",
      "\tmcc\n",
      "\t\t 0.646590730079\n",
      "confusion matrix\n",
      "[[ 85  54]\n",
      " [ 17 449]]\n",
      "\taccuracy\n",
      "\t\t 0.882644628099\n",
      "\tf1\n",
      "\t\t 0.926728586171\n",
      "\trecall\n",
      "\t\t 0.963519313305\n",
      "\tprecision\n",
      "\t\t 0.892644135189\n",
      "\tmcc\n",
      "\t\t 0.646110594027\n",
      "confusion matrix\n",
      "[[ 86  58]\n",
      " [ 15 446]]\n",
      "\taccuracy\n",
      "\t\t 0.879338842975\n",
      "\tf1\n",
      "\t\t 0.924352331606\n",
      "\trecall\n",
      "\t\t 0.967462039046\n",
      "\tprecision\n",
      "\t\t 0.884920634921\n",
      "\tmcc\n",
      "\t\t 0.644854057762\n",
      "confusion matrix\n",
      "[[ 72  72]\n",
      " [ 21 440]]\n",
      "\taccuracy\n",
      "\t\t 0.846280991736\n",
      "\tf1\n",
      "\t\t 0.904419321686\n",
      "\trecall\n",
      "\t\t 0.954446854664\n",
      "\tprecision\n",
      "\t\t 0.859375\n",
      "\tmcc\n",
      "\t\t 0.536584787362\n",
      "\n",
      "\n",
      "\n",
      "\n",
      "\n"
     ]
    }
   ],
   "source": [
    "accuracy = {reg: [] for reg in regularizations}\n",
    "precision = {reg: [] for reg in regularizations}\n",
    "recall = {reg: [] for reg in regularizations}\n",
    "f1 = {reg: [] for reg in regularizations}\n",
    "mcc = {reg: [] for reg in regularizations}\n",
    "for reg in regularizations:\n",
    "    print(\"Regularization: %s\" % reg)\n",
    "    predicted = pickle.load(open(model_folder + \"predicted_fold_4_reg_%s.pkl\" % reg, 'rb'))\n",
    "    actuals = pickle.load(open(model_folder + \"actuals_fold_4_reg_%s.pkl\" % reg, 'rb'))\n",
    "    for pred, actual in zip(predicted, actuals):\n",
    "        print(\"confusion matrix\")\n",
    "        print(confusion_matrix(actual, pred))\n",
    "        print(\"\\taccuracy\")\n",
    "        acc = accuracy_score(actual, pred)\n",
    "        accuracy[reg].append(acc)\n",
    "        print(\"\\t\\t\", acc)\n",
    "        print(\"\\tf1\")\n",
    "        f = f1_score(actual, pred)\n",
    "        f1[reg].append(f)\n",
    "        print(\"\\t\\t\", f)\n",
    "        print(\"\\trecall\")\n",
    "        r = recall_score(actual, pred)\n",
    "        recall[reg].append(r)\n",
    "        print(\"\\t\\t\", r)\n",
    "        print(\"\\tprecision\")\n",
    "        p = precision_score(actual, pred)\n",
    "        precision[reg].append(p)\n",
    "        print(\"\\t\\t\", p)\n",
    "        print(\"\\tmcc\")\n",
    "        m = matthews_corrcoef(actual, pred)\n",
    "        mcc[reg].append(m)\n",
    "        print(\"\\t\\t\", m)\n",
    "\n",
    "\n",
    "    print(\"\\n\\n\\n\\n\")"
   ]
  },
  {
   "cell_type": "code",
   "execution_count": 53,
   "metadata": {
    "collapsed": false
   },
   "outputs": [
    {
     "name": "stdout",
     "output_type": "stream",
     "text": [
      "0.538816197119\n",
      "0.604727080493\n",
      "0.658421252548\n"
     ]
    }
   ],
   "source": [
    "reg = 0.001\n",
    "print(np.min(mcc[reg]))\n",
    "print(np.mean(mcc[reg]))\n",
    "print(np.max(mcc[reg]))"
   ]
  },
  {
   "cell_type": "code",
   "execution_count": null,
   "metadata": {
    "collapsed": true
   },
   "outputs": [],
   "source": []
  },
  {
   "cell_type": "code",
   "execution_count": null,
   "metadata": {
    "collapsed": true
   },
   "outputs": [],
   "source": []
  },
  {
   "cell_type": "code",
   "execution_count": null,
   "metadata": {
    "collapsed": true
   },
   "outputs": [],
   "source": []
  },
  {
   "cell_type": "code",
   "execution_count": 60,
   "metadata": {
    "collapsed": false
   },
   "outputs": [
    {
     "name": "stdout",
     "output_type": "stream",
     "text": [
      "0.852892561983\n",
      "0.870161197938\n",
      "0.887788778878\n"
     ]
    }
   ],
   "source": [
    "reg = 0.3\n",
    "print(np.min(accuracy[reg]))\n",
    "print(np.mean(accuracy[reg]))\n",
    "print(np.max(accuracy[reg]))"
   ]
  },
  {
   "cell_type": "code",
   "execution_count": 46,
   "metadata": {
    "collapsed": false
   },
   "outputs": [
    {
     "name": "stdout",
     "output_type": "stream",
     "text": [
      "0.876033057851\n",
      "0.887018520034\n",
      "0.907438016529\n"
     ]
    }
   ],
   "source": [
    "reg = 0.1\n",
    "print(np.min(accuracy[reg]))\n",
    "print(np.mean(accuracy[reg]))\n",
    "print(np.max(accuracy[reg]))"
   ]
  },
  {
   "cell_type": "code",
   "execution_count": null,
   "metadata": {
    "collapsed": true
   },
   "outputs": [],
   "source": []
  }
 ],
 "metadata": {
  "kernelspec": {
   "display_name": "Python 3",
   "language": "python",
   "name": "python3"
  },
  "language_info": {
   "codemirror_mode": {
    "name": "ipython",
    "version": 3
   },
   "file_extension": ".py",
   "mimetype": "text/x-python",
   "name": "python",
   "nbconvert_exporter": "python",
   "pygments_lexer": "ipython3",
   "version": "3.5.2"
  }
 },
 "nbformat": 4,
 "nbformat_minor": 1
}
